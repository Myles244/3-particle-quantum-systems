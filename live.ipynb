{
 "cells": [
  {
   "cell_type": "code",
   "execution_count": 1,
   "metadata": {},
   "outputs": [],
   "source": [
    "from header import *\n",
    "import scipy.constants as cnst\n",
    "import matplotlib.pyplot as plt\n",
    "\n",
    "# --- constants --- \n",
    "\n",
    "#masses of nuclear particles:\n",
    "        \n",
    "#mass of the alpha particle\n",
    "m1=(cnst.m_p)*(10**(-12))**2/cnst.eV\n",
    "\n",
    "#mass of the muon\n",
    "m2=(cnst.physical_constants['muon mass'][0])*(10**(-12))**2/cnst.eV\n",
    "\n",
    "#mass of the electron\n",
    "m3=cnst.m_e*(10**(-12))**2/cnst.eV\n",
    "\n",
    "m2=m3\n",
    "\n",
    "#hbar\n",
    "hbar=cnst.hbar/cnst.eV\n",
    "\n",
    "#elementry charge\n",
    "e=cnst.e\n",
    "\n",
    "#vacume permiativity\n",
    "epsilon0=(cnst.physical_constants['vacuum electric permittivity'][0])*(10**(-12))*cnst.eV\n",
    "\n",
    "\n",
    "\n",
    "\n",
    "def N_func(i,j,alphas,betas,gammas):\n",
    "        \n",
    "    return (8*np.sqrt(np.abs(alphas[i])*np.abs(betas[i])*np.abs(gammas[i])*np.abs(alphas[j])*np.abs(betas[j])*np.abs(gammas[j]))/((np.conj(alphas[i])+alphas[j])*(np.conj(betas[i])+betas[j])*(np.conj(gammas[i])+gammas[j])))**3\n",
    "\n",
    "\n",
    "def twocostheta(A,B,C):\n",
    "\t\n",
    "\treturn 3*B/(2*A)+3*A/(2*B)-3*A*B/(C**2)\n",
    "\t\t\n",
    "\n",
    "def H_func(i,j,alphas,betas,gammas):\n",
    "\n",
    "\tT=-0.5*hbar**2*(\n",
    "            (alphas[j]**2+betas[j]**2)/m1  +  (alphas[j]**2+gammas[j]**2)/m2  +  (betas[j]**2+gammas[j]**2)/m3\n",
    "            \n",
    "            -2*alphas[j]*(1/m1+1/m2)*(np.conj(alphas[i])+alphas[j])/2\n",
    "\t\t\t-2*betas[j]*(1/m1+1/m3)*(np.conj(betas[i])+betas[j])/2\t  \n",
    "\t\t\t-2*gammas[j]*(1/m2+1/m3)*(np.conj(gammas[i])+gammas[j])/2\t  \n",
    "                  \n",
    "\t\t\t+alphas[j]*betas[j]/m1*twocostheta(np.conj(alphas[i])+alphas[j],np.conj(betas[i])+betas[j],np.conj(gammas[i])+gammas[j])\n",
    "\t\t\t+alphas[j]*gammas[j]/m2*twocostheta(np.conj(betas[i])+betas[j],np.conj(gammas[i])+gammas[j],np.conj(alphas[i])+alphas[j])\n",
    "\t\t\t+betas[j]*gammas[j]/m3*twocostheta(np.conj(alphas[i])+alphas[j],np.conj(gammas[i])+gammas[j],np.conj(betas[i])+betas[j])\n",
    "\n",
    "\t\t\t)\n",
    "      \n",
    "\t\n",
    "\tV=(e**2/(4*np.pi*epsilon0))*(-(np.conj(alphas[i])+alphas[j])-(np.conj(betas[i])+betas[j])+0.5*(np.conj(gammas[i])+gammas[j]))\n",
    "\n",
    "\treturn (T+V)*N_func(i,j,alphas,betas,gammas)"
   ]
  },
  {
   "cell_type": "code",
   "execution_count": 2,
   "metadata": {},
   "outputs": [
    {
     "name": "stdout",
     "output_type": "stream",
     "text": [
      "52.9177210544\n"
     ]
    }
   ],
   "source": [
    "a0=cnst.physical_constants[\"Bohr radius\"][0]*10**12\n",
    "print(a0)"
   ]
  },
  {
   "cell_type": "code",
   "execution_count": null,
   "metadata": {},
   "outputs": [],
   "source": [
    "kappas=np.linspace(0.8,2,1000)\n",
    "params=(1/(a0*kappas))*np.array([[[1]],[[1]],[[1]]])"
   ]
  },
  {
   "cell_type": "code",
   "execution_count": 4,
   "metadata": {},
   "outputs": [
    {
     "name": "stdout",
     "output_type": "stream",
     "text": [
      "(3, 1, 1000)\n"
     ]
    }
   ],
   "source": [
    "print(params.shape)"
   ]
  },
  {
   "cell_type": "code",
   "execution_count": 5,
   "metadata": {},
   "outputs": [],
   "source": [
    "subspace=Subspace(1)\n",
    "subspace.set_params(1000,params)\n",
    "subspace.set_H_func(H_func)\n",
    "subspace.set_N_func(N_func)"
   ]
  },
  {
   "cell_type": "code",
   "execution_count": 6,
   "metadata": {},
   "outputs": [
    {
     "name": "stdout",
     "output_type": "stream",
     "text": [
      "Constructing the N matrices.\n",
      "Constructing the H matrices.\n",
      "Finding the eigenvectors and eigenvalues of the N matrices.\n",
      "Constructing the Y matrices.\n",
      "Constructing the inverse square root beta matrices.\n",
      "Constructing the P matrices.\n",
      "Finding P eigenvectors and eigenvalues.\n",
      "Calculating the energy levels.\n"
     ]
    }
   ],
   "source": [
    "subspace.make_N_mats()\n",
    "subspace.make_H_mats()\n",
    "subspace.find_N_eigens()\n",
    "subspace.make_Y_mats()\n",
    "subspace.make_invs_sqrt_beta_mats()\n",
    "subspace.make_P_mats()\n",
    "subspace.find_P_eigens()\n",
    "subspace.find_energy_levels()"
   ]
  },
  {
   "cell_type": "code",
   "execution_count": 9,
   "metadata": {},
   "outputs": [
    {
     "data": {
      "image/png": "[encoded data removed]",
      "text/plain": [
       "<Figure size 640x480 with 1 Axes>"
      ]
     },
     "metadata": {},
     "output_type": "display_data"
    }
   ],
   "source": [
    "plt.plot(kappas,subspace.energy_levels[:,0])\n",
    "plt.show()"
   ]
  },
  {
   "cell_type": "code",
   "execution_count": 14,
   "metadata": {},
   "outputs": [],
   "source": [
    "params2=(1/(a0*kappas))*np.array([\n",
    "    [[0.5],[1],[2]],\n",
    "    [[0.5],[1],[2]],\n",
    "    [[0.5],[1],[2]]])"
   ]
  },
  {
   "cell_type": "code",
   "execution_count": 15,
   "metadata": {},
   "outputs": [
    {
     "name": "stdout",
     "output_type": "stream",
     "text": [
      "(3, 3, 1000)\n"
     ]
    }
   ],
   "source": [
    "print(params2.shape)"
   ]
  },
  {
   "cell_type": "code",
   "execution_count": null,
   "metadata": {},
   "outputs": [],
   "source": [
    "subspace2=Subspace(3)\n",
    "subspace.set_params(1000,params2)"
   ]
  },
  {
   "cell_type": "code",
   "execution_count": null,
   "metadata": {},
   "outputs": [],
   "source": [
    "subspace.make_N_mats()\n",
    "subspace.make_H_mats()\n",
    "subspace.find_N_eigens()\n",
    "subspace.make_Y_mats()\n",
    "subspace.make_invs_sqrt_beta_mats()\n",
    "subspace.make_P_mats()\n",
    "subspace.find_P_eigens()\n",
    "subspace.find_energy_levels()"
   ]
  }
 ],
 "metadata": {
  "kernelspec": {
   "display_name": "Python 3",
   "language": "python",
   "name": "python3"
  },
  "language_info": {
   "codemirror_mode": {
    "name": "ipython",
    "version": 3
   },
   "file_extension": ".py",
   "mimetype": "text/x-python",
   "name": "python",
   "nbconvert_exporter": "python",
   "pygments_lexer": "ipython3",
   "version": "3.12.9"
  }
 },
 "nbformat": 4,
 "nbformat_minor": 2
}
