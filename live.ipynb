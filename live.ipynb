{
 "cells": [
  {
   "cell_type": "code",
   "execution_count": 1,
   "metadata": {},
   "outputs": [],
   "source": [
    "from exponential import *"
   ]
  },
  {
   "cell_type": "code",
   "execution_count": 2,
   "metadata": {},
   "outputs": [
    {
     "name": "stdout",
     "output_type": "stream",
     "text": [
      "1, 2, 3, 4, 5, 6, 7, 8, 9, 10, 11, 12, 13, 14, 15, 16, 17, 18, 19, 20, 21, 22, 23, 24, 25, 26, 27, 28, 29, 30, 31, 32, 33, 34, 35, 36, 37, 38, 39, 40, 41, 42, 43, 44, 45, 46, 47, 48, 49, 50, 51, 52, 53, 54, 55, 56, 57, "
     ]
    },
    {
     "name": "stderr",
     "output_type": "stream",
     "text": [
      "c:\\Users\\myles\\Documents\\GitHub\\3-particle-quantum-systems\\header.py:76: RuntimeWarning: invalid value encountered in sqrt\n",
      "  invs_sqrt_beta[:,i,i]=1/np.sqrt(self.N_eigenvalues[:,i])\n"
     ]
    },
    {
     "ename": "LinAlgError",
     "evalue": "Array must not contain infs or NaNs",
     "output_type": "error",
     "traceback": [
      "\u001b[1;31m---------------------------------------------------------------------------\u001b[0m",
      "\u001b[1;31mLinAlgError\u001b[0m                               Traceback (most recent call last)",
      "Cell \u001b[1;32mIn[2], line 24\u001b[0m\n\u001b[0;32m     22\u001b[0m subspace\u001b[38;5;241m.\u001b[39mmake_invs_sqrt_beta_mats()\n\u001b[0;32m     23\u001b[0m subspace\u001b[38;5;241m.\u001b[39mmake_P_mats()\n\u001b[1;32m---> 24\u001b[0m \u001b[43msubspace\u001b[49m\u001b[38;5;241;43m.\u001b[39;49m\u001b[43mfind_P_eigens\u001b[49m\u001b[43m(\u001b[49m\u001b[43m)\u001b[49m\n\u001b[0;32m     25\u001b[0m subspace\u001b[38;5;241m.\u001b[39mfind_energy_levels()\n\u001b[0;32m     27\u001b[0m E\u001b[38;5;241m.\u001b[39mappend(subspace\u001b[38;5;241m.\u001b[39menergy_levels[:,\u001b[38;5;241m0\u001b[39m])\n",
      "File \u001b[1;32mc:\\Users\\myles\\Documents\\GitHub\\3-particle-quantum-systems\\header.py:98\u001b[0m, in \u001b[0;36mSubspace.find_P_eigens\u001b[1;34m(self)\u001b[0m\n\u001b[0;32m     95\u001b[0m \u001b[38;5;28;01mif\u001b[39;00m \u001b[38;5;28mself\u001b[39m\u001b[38;5;241m.\u001b[39mverbose:\n\u001b[0;32m     96\u001b[0m   \u001b[38;5;28mprint\u001b[39m(\u001b[38;5;124m\"\u001b[39m\u001b[38;5;124mFinding P eigenvectors and eigenvalues.\u001b[39m\u001b[38;5;124m\"\u001b[39m)\n\u001b[1;32m---> 98\u001b[0m \u001b[38;5;28mself\u001b[39m\u001b[38;5;241m.\u001b[39mP_eigenvalues, \u001b[38;5;28mself\u001b[39m\u001b[38;5;241m.\u001b[39mP_eigenvectors\u001b[38;5;241m=\u001b[39m\u001b[43mnp\u001b[49m\u001b[38;5;241;43m.\u001b[39;49m\u001b[43mlinalg\u001b[49m\u001b[38;5;241;43m.\u001b[39;49m\u001b[43meig\u001b[49m\u001b[43m(\u001b[49m\u001b[38;5;28;43mself\u001b[39;49m\u001b[38;5;241;43m.\u001b[39;49m\u001b[43mP_mats\u001b[49m\u001b[43m)\u001b[49m\n",
      "File \u001b[1;32m~\\AppData\\Local\\Packages\\PythonSoftwareFoundation.Python.3.12_qbz5n2kfra8p0\\LocalCache\\local-packages\\Python312\\site-packages\\numpy\\linalg\\_linalg.py:1465\u001b[0m, in \u001b[0;36meig\u001b[1;34m(a)\u001b[0m\n\u001b[0;32m   1463\u001b[0m _assert_stacked_2d(a)\n\u001b[0;32m   1464\u001b[0m _assert_stacked_square(a)\n\u001b[1;32m-> 1465\u001b[0m \u001b[43m_assert_finite\u001b[49m\u001b[43m(\u001b[49m\u001b[43ma\u001b[49m\u001b[43m)\u001b[49m\n\u001b[0;32m   1466\u001b[0m t, result_t \u001b[38;5;241m=\u001b[39m _commonType(a)\n\u001b[0;32m   1468\u001b[0m signature \u001b[38;5;241m=\u001b[39m \u001b[38;5;124m'\u001b[39m\u001b[38;5;124mD->DD\u001b[39m\u001b[38;5;124m'\u001b[39m \u001b[38;5;28;01mif\u001b[39;00m isComplexType(t) \u001b[38;5;28;01melse\u001b[39;00m \u001b[38;5;124m'\u001b[39m\u001b[38;5;124md->DD\u001b[39m\u001b[38;5;124m'\u001b[39m\n",
      "File \u001b[1;32m~\\AppData\\Local\\Packages\\PythonSoftwareFoundation.Python.3.12_qbz5n2kfra8p0\\LocalCache\\local-packages\\Python312\\site-packages\\numpy\\linalg\\_linalg.py:207\u001b[0m, in \u001b[0;36m_assert_finite\u001b[1;34m(*arrays)\u001b[0m\n\u001b[0;32m    205\u001b[0m \u001b[38;5;28;01mfor\u001b[39;00m a \u001b[38;5;129;01min\u001b[39;00m arrays:\n\u001b[0;32m    206\u001b[0m     \u001b[38;5;28;01mif\u001b[39;00m \u001b[38;5;129;01mnot\u001b[39;00m isfinite(a)\u001b[38;5;241m.\u001b[39mall():\n\u001b[1;32m--> 207\u001b[0m         \u001b[38;5;28;01mraise\u001b[39;00m LinAlgError(\u001b[38;5;124m\"\u001b[39m\u001b[38;5;124mArray must not contain infs or NaNs\u001b[39m\u001b[38;5;124m\"\u001b[39m)\n",
      "\u001b[1;31mLinAlgError\u001b[0m: Array must not contain infs or NaNs"
     ]
    }
   ],
   "source": [
    "\n",
    "E=[]\n",
    "\n",
    "for n in range(1,60):\n",
    "    print(n,end=', ')\n",
    "    subspace=Subspace(n)\n",
    "\n",
    "    subspace.set_N_func(N_func)\n",
    "    subspace.set_H_func(H_func)\n",
    "\n",
    "    param12=np.array([0.03,0.02,0.04,0.01,0.05,0.035,0.025])\n",
    "    param13=np.array([0.03,0.02,0.04,0.01,0.05,0.035,0.025])\n",
    "    param23=np.array([0,0.0045,0.0035,0.0055])\n",
    "\n",
    "    params=np.expand_dims(np.array(np.meshgrid(param12,param13,param23,indexing='ij')).reshape(3,-1),-1)[:,:147]\n",
    "\n",
    "    subspace.set_params(1,params)\n",
    "\n",
    "    subspace.make_N_mats_vectorized()\n",
    "    subspace.make_H_mats_vectorized()\n",
    "    subspace.find_N_eigens()\n",
    "    subspace.make_Y_mats()\n",
    "    subspace.make_invs_sqrt_beta_mats()\n",
    "    subspace.make_P_mats()\n",
    "    subspace.find_P_eigens()\n",
    "    subspace.find_energy_levels()\n",
    "\n",
    "    E.append(subspace.energy_levels[:,0])"
   ]
  },
  {
   "cell_type": "code",
   "execution_count": null,
   "metadata": {},
   "outputs": [
    {
     "data": {
      "image/png": "[encoded data removed]",
      "text/plain": [
       "<Figure size 640x480 with 1 Axes>"
      ]
     },
     "metadata": {},
     "output_type": "display_data"
    },
    {
     "name": "stdout",
     "output_type": "stream",
     "text": [
      "[-77.20733055 -77.55336164 -77.62452491 -77.62933677 -77.87984104\n",
      " -78.00984898 -78.02122231 -78.02149183 -78.2576389  -78.27880009\n",
      " -78.28100138 -78.28113171 -78.28800419 -78.30286851 -78.30615005\n",
      " -78.30626057 -78.30677619 -78.30707103 -78.30844283 -78.30883487\n",
      " -78.31141412 -78.3114454  -78.31150795 -78.31154134 -78.31154198\n",
      " -78.31166765 -78.31167029 -78.31169538 -78.61950376 -78.67474686\n",
      " -78.6747562  -78.67548364 -78.74883306 -78.75080017 -78.76266088\n",
      " -78.76699891 -78.77466558 -78.77966337 -78.77967237 -78.78267266\n",
      " -78.78304355 -78.78478419 -78.78478416 -78.78524185 -78.78567522\n",
      " -78.78577406 -78.78614524 -78.78620416 -78.78624653 -78.7863028\n",
      " -78.78658955 -78.78664355 -78.78687485 -78.78685928 -78.78673971\n",
      " -78.7868847 ]\n"
     ]
    }
   ],
   "source": [
    "import matplotlib.pyplot as plt\n",
    "plt.scatter(np.arange(len(E)),E)\n",
    "\n",
    "plt.show()\n",
    "print(np.array(E).flatten())"
   ]
  },
  {
   "cell_type": "code",
   "execution_count": null,
   "metadata": {},
   "outputs": [
    {
     "data": {
      "text/plain": [
       "  message: Desired error not necessarily achieved due to precision loss.\n",
       "  success: False\n",
       "   status: 2\n",
       "      fun: -75.72751806625766\n",
       "        x: [ 2.711e-02  2.205e-04]\n",
       "      nit: 3\n",
       "      jac: [-7.068e+02  8.267e+01]\n",
       " hess_inv: [[ 9.244e-06 -4.403e-06]\n",
       "            [-4.403e-06  7.211e-06]]\n",
       "     nfev: 198\n",
       "     njev: 64"
      ]
     },
     "execution_count": 12,
     "metadata": {},
     "output_type": "execute_result"
    }
   ],
   "source": [
    "from scipy.optimize import minimize\n",
    "\n",
    "def f(x):\n",
    "    if np.any(x<=0):\n",
    "        return 10000\n",
    "\n",
    "    return H_func(0,0,[x[0]],[x[0]],[x[1]])\n",
    "\n",
    "minimize(f,x0=[0.02,0.0045])\n",
    "\n"
   ]
  }
 ],
 "metadata": {
  "kernelspec": {
   "display_name": "Python 3",
   "language": "python",
   "name": "python3"
  },
  "language_info": {
   "codemirror_mode": {
    "name": "ipython",
    "version": 3
   },
   "file_extension": ".py",
   "mimetype": "text/x-python",
   "name": "python",
   "nbconvert_exporter": "python",
   "pygments_lexer": "ipython3",
   "version": "3.12.9"
  }
 },
 "nbformat": 4,
 "nbformat_minor": 2
}
