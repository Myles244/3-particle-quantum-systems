{
 "cells": [
  {
   "cell_type": "code",
   "execution_count": 1,
   "metadata": {},
   "outputs": [],
   "source": [
    "from header import *"
   ]
  },
  {
   "cell_type": "code",
   "execution_count": 16,
   "metadata": {},
   "outputs": [],
   "source": [
    "from header import *\n",
    "import scipy.constants as cnst\n",
    "import matplotlib.pyplot as plt\n",
    "import math\n",
    "\n",
    "# --- constants ---\n",
    "#in units of angstroms and electron volts, where the prefactor 1/(4 pi epsilon0) has been absorbed into the definition of electric charge\n",
    "\n",
    "#elementry charge squared\n",
    "e2=(cnst.e**2/(4*np.pi*cnst.epsilon_0))/(cnst.eV*cnst.angstrom)\n",
    "\n",
    "#bohr radius\n",
    "r0=(4*np.pi*cnst.epsilon_0*cnst.hbar**2)/(cnst.angstrom*cnst.m_e*cnst.e**2)\n",
    "\n",
    "#charge on the nuclius is emelentry charge units\n",
    "Z=2\n",
    "\n",
    "#reduced plancs constant\n",
    "hbar=cnst.hbar/cnst.eV\n",
    "\n",
    "#mass of electorn\n",
    "me=cnst.m_e*cnst.angstrom**2/cnst.eV\n",
    "\n",
    "#mass of alpha particsle\n",
    "malpha=cnst.physical_constants[\"alpha particle mass\"][0]*cnst.angstrom**2/cnst.eV"
   ]
  },
  {
   "cell_type": "code",
   "execution_count": null,
   "metadata": {},
   "outputs": [],
   "source": [
    "\n",
    "#generator function of elements of N for hylleraas' basis states given J K M and one over two lambda or 'ootl'\n",
    "def fN(J,K,M,ootl):\n",
    "\tif M==-2:\n",
    "\t\treturn 0\n",
    "\telif K%2 ==0:\n",
    "\t\treturn (\n",
    "\t\t\t2*np.pi**2 \n",
    "\t\t\t* math.factorial(J+K+M+5) \n",
    "\t\t\t* ootl**(J+K+M+6) \n",
    "\t\t\t* (1/(M+2)) \n",
    "\t\t\t* (1/(K+1) - 1/(K+3) - 1/(K+M+3) + (1/(K+M+5)))\n",
    "\t\t)\n",
    "\telse:\n",
    "\t\treturn 0\n",
    "\n",
    "#generator function of elements of C for hylleraas' basis states given J K M and one over two lambda or 'ootl'\n",
    "def fC(J, K, M, ootl):\n",
    "\tif M==-2:\n",
    "\t\treturn 0\n",
    "\telif K%2==0:\n",
    "\t\treturn (\n",
    "\t\t\t8*np.pi**2 \n",
    "\t\t\t* math.factorial(J+K+M+4) \n",
    "\t\t\t* ootl**(J+K+M+5) \n",
    "\t\t\t* (1/(M+2)) \n",
    "\t\t\t* (1/(1+K)-1/(K+M+3))\n",
    "\t\t)\n",
    "\telse:\n",
    "\t\treturn 0\n",
    "\n",
    "#generator function of elements of T for hylleraas' basis states given J K M and one over two lambda or 'ootl'\n",
    "def fT(j,j_prime,k,k_prime,m,m_prime,J,K,M,l,ootl):\n",
    "\treturn (\n",
    "\t\t(hbar**2)/(2*me) * ( \n",
    "\t\t\t2 * (\n",
    "\t\t\t\t(l**2)*fN(J,K,M,ootl) \n",
    "\t\t\t\t- J*l*fN(J-1,K,M,ootl) \n",
    "\t\t\t\t+ j*j_prime*fN(J-2,K,M,ootl) \n",
    "\t\t\t\t+ k*k_prime*fN(J,K-2,M,ootl) \n",
    "\t\t\t\t+ m* m_prime*fN(J,K,M-2,ootl)\n",
    "\t\t\t\t) \n",
    "\t\t\t+(1/2)*(\n",
    "\t\t\t\t-M*l*(fC(J,K,M,ootl)-fC(J,K+2,M-2,ootl))\n",
    "\t\t\t\t+ (m*j_prime + m_prime*j)*(fC(J-1,K,M,ootl)-fC(J-1,K+2,M-2,ootl)) \n",
    "\t\t\t\t+ (m*k_prime + m_prime*k)*(fC(J+1,K,M-2,ootl)-fC(J-1,K,M,ootl))\n",
    "\t\t\t)\n",
    "\t\t)\n",
    "\t)\n"
   ]
  },
  {
   "cell_type": "code",
   "execution_count": 8,
   "metadata": {},
   "outputs": [],
   "source": [
    "subspace=Subspace(3)\n",
    "\n",
    "a=2*me*malpha/(me+malpha)\n",
    "b=\n",
    "\n",
    "omega_1=4\n",
    "omega_2=9\n",
    "\n",
    "lmn1s=[]\n",
    "lmn2s=[]\n",
    "\n",
    "def N_func(n,n_prime,kappas):\n",
    "        \n",
    "    #usefull constand 1/2lambda ie 'one over two lambda'\n",
    "    ootl=kappas*r0/(2*Z)\n",
    "\n",
    "    j,k,m=jkms[n]\n",
    "    j_prime,k_prime,m_prime=jkms[n_prime]\n",
    "    J=j+j_prime\n",
    "    K=k+k_prime\n",
    "    M=m+m_prime\n",
    "    return fN(J,K,M, ootl)\n",
    "\t\n",
    "subspace.set_N_func(N_func)\n",
    "\n",
    "def H_func(n,n_prime,kappas):\n",
    "    \n",
    "    #lambda\n",
    "    l=Z/(kappas*r0)\n",
    "\n",
    "    #usefull constand 1/2lambda ie 'one over two lambda'\n",
    "    ootl=kappas*r0/(2*Z)\n",
    "\n",
    "    j,k,m=jkms[n]\n",
    "    j_prime,k_prime,m_prime=jkms[n_prime]\n",
    "    J=j+j_prime\n",
    "    K=k+k_prime\n",
    "    M=m+m_prime\n",
    "\t\n",
    "    return -Z*e2*fC(J,K,M, ootl)+e2*fN(J,K,M-1, ootl)+fT(j,j_prime,k,k_prime,m,m_prime,J,K,M, l,ootl)\n",
    "\t\n",
    "subspace.set_H_func(H_func)\n",
    "\n",
    "subspace.set_params(1000,[np.linspace(0.5,3,1000)])"
   ]
  },
  {
   "cell_type": "code",
   "execution_count": 9,
   "metadata": {},
   "outputs": [
    {
     "name": "stdout",
     "output_type": "stream",
     "text": [
      "Constructing the N matrices.\n",
      "Constructing the H matrices.\n",
      "Finding the eigenvectors and eigenvalues of the N matrices.\n",
      "Constructing the Y matrices.\n",
      "Constructing the inverse square root beta matrices.\n",
      "Constructing the P matrices.\n",
      "Finding P eigenvectors and eigenvalues.\n",
      "Calculating the energy levels.\n"
     ]
    }
   ],
   "source": [
    "subspace.make_N_mats()\n",
    "subspace.make_H_mats()\n",
    "subspace.find_N_eigens()\n",
    "subspace.make_Y_mats()\n",
    "subspace.make_invs_sqrt_beta_mats()\n",
    "subspace.make_P_mats()\n",
    "subspace.find_P_eigens()\n",
    "subspace.find_energy_levels()"
   ]
  },
  {
   "cell_type": "code",
   "execution_count": 10,
   "metadata": {},
   "outputs": [
    {
     "data": {
      "image/png": "[encoded data removed]",
      "text/plain": [
       "<Figure size 640x480 with 1 Axes>"
      ]
     },
     "metadata": {},
     "output_type": "display_data"
    }
   ],
   "source": [
    "\n",
    "plt.plot(subspace.params[0],subspace.energy_levels[:,0])\n",
    "plt.show()"
   ]
  },
  {
   "cell_type": "code",
   "execution_count": null,
   "metadata": {},
   "outputs": [],
   "source": []
  }
 ],
 "metadata": {
  "kernelspec": {
   "display_name": "Python 3",
   "language": "python",
   "name": "python3"
  },
  "language_info": {
   "codemirror_mode": {
    "name": "ipython",
    "version": 3
   },
   "file_extension": ".py",
   "mimetype": "text/x-python",
   "name": "python",
   "nbconvert_exporter": "python",
   "pygments_lexer": "ipython3",
   "version": "3.12.8"
  }
 },
 "nbformat": 4,
 "nbformat_minor": 2
}
