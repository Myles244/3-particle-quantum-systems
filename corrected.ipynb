{
 "cells": [
  {
   "cell_type": "code",
   "execution_count": 1,
   "metadata": {},
   "outputs": [],
   "source": [
    "from nuclear_structure_corection import *\n",
    "from time import time"
   ]
  },
  {
   "cell_type": "code",
   "execution_count": 2,
   "metadata": {},
   "outputs": [
    {
     "name": "stdout",
     "output_type": "stream",
     "text": [
      "\n",
      "Constructing the N matrices.\n",
      "Constructing the H matrices.\n",
      "Finding the eigenvectors and eigenvalues of the N matrices.\n",
      "Constructing the Y matrices.\n",
      "Constructing the inverse square root beta matrices.\n",
      "Constructing the P matrices.\n",
      "Finding P eigenvectors and eigenvalues.\n",
      "Calculating the energy levels.\n",
      "Calculating the components of the energy eigenstates.\n",
      "\n",
      "Ground State energy level: -402.63730209930718290523871025105098431604482191726120463143216269557457417666444550133713492612340430457591000694108218263016376545660618647404977751873197155218581778521150021057329559288454383551824\n",
      "\n",
      "the expectation of the delta23: (0.31377020424026233396759507089883594062193209461378436249042591714723677059255938049091340328157891385137790574379524012778869334897968348771256849786679559612540203047049757965867752690303465703186701 + 0.0j)\n",
      "\n",
      "the expectation of the delta13: (0.32063227929358417749942131894568901805752995997754286467967045702077470267287564494367985609051227794214710626735360018902465861891358787818963424994782111274024571865140449630561933792658990931841922 + 0.0j)\n",
      "\n",
      "the expectation of the delta12: (20700143.247257890487216817207604288423006502260256111632516605210601249597325927032618816020021764448536400078115940658132112981926411635322476180902373173971792968561965094836821774361085374900694842 + 0.0j)\n",
      "\n",
      "The hyperfine splitting: (4464.6916592265889618305494324644930587579793598989016096308455700180688186123843310412258392475356102357603068396157622091956854412081768004377356827302288612575109088292087256508752181350036800531355 + 0.0j) \n",
      "\n",
      "time -564.151773929596\n"
     ]
    }
   ],
   "source": [
    "\n",
    "print()\n",
    "\n",
    "mp.dps=200\n",
    "\n",
    "#generate random params\n",
    "params=np.load(\"data/bestparams copy.npy\",allow_pickle=True)\n",
    "\n",
    "#calculate the energy levels\n",
    "\n",
    "starttime=time()\n",
    "subspace=Subspace(params.shape[1],verbose=True)\n",
    "\n",
    "subspace.set_N_func(N_func)\n",
    "subspace.set_H_func(H_func)\n",
    "\n",
    "subspace.set_params(params)\n",
    "\n",
    "subspace.make_N_mat()\n",
    "subspace.make_H_mat()\n",
    "subspace.find_N_eigens()\n",
    "subspace.make_Y_mat()\n",
    "subspace.make_invs_sqrt_beta_mats()\n",
    "subspace.make_P_mats()\n",
    "subspace.find_P_eigens()\n",
    "subspace.find_energy_levels()\n",
    "subspace.find_energy_eigenstates()\n",
    "\n",
    "#print the ground energy level\n",
    "print(\"\\nGround State energy level:\",subspace.energy_levels[0])\n",
    "\n",
    "#calculate the exectation of the delta \n",
    "expdelta=delta_r23(subspace.energy_eigenstates[0],params)\n",
    "\n",
    "print(\"\\nthe expectation of the delta23:\",expdelta)\n",
    "from nuclear_structure_corection import *\n",
    "print(\"\\nthe expectation of the delta13:\",delta_r13(subspace.energy_eigenstates[0],params))\n",
    "print(\"\\nthe expectation of the delta12:\",delta_r12(subspace.energy_eigenstates[0],params))\n",
    "\n",
    "#calculate the hyperfine splitting\n",
    "print(\"\\nThe hyperfine splitting:\",HFS(expdelta),\"\\n\")\n",
    "\n",
    "print(\"time\",starttime-time())"
   ]
  },
  {
   "cell_type": "code",
   "execution_count": 3,
   "metadata": {},
   "outputs": [],
   "source": [
    "def corrected_N_func(i,j,alphas,betas,gammas):\n",
    "    return N_func(i,j,alphas,betas,gammas)+E_ns(alphas[i],betas[i],gammas[i],alphas[j],betas[j],gammas[j])"
   ]
  },
  {
   "cell_type": "code",
   "execution_count": 4,
   "metadata": {},
   "outputs": [
    {
     "name": "stdout",
     "output_type": "stream",
     "text": [
      "\n",
      "Constructing the N matrices.\n",
      "Constructing the H matrices.\n",
      "Finding the eigenvectors and eigenvalues of the N matrices.\n",
      "Constructing the Y matrices.\n",
      "Constructing the inverse square root beta matrices.\n",
      "Constructing the P matrices.\n",
      "Finding P eigenvectors and eigenvalues.\n",
      "Calculating the energy levels.\n",
      "Calculating the components of the energy eigenstates.\n",
      "\n",
      "Ground State energy level: -402.32594549651966092997770399973644311832172674300249146486056913599121301175649498193489331513024102683013511002852887462622395508812942683010326187216776420659060040948663124198952504856955990508901\n",
      "\n",
      "the expectation of the delta23: (0.4857696591822843752630483689026465447165485430315214015379844712006442166955957351261138781804889492377346636778295619485599345769273315367213268932915940713030391215945090424147878388956573429695203 + 0.0j)\n",
      "\n",
      "the expectation of the delta13: (0.49600007702504416873970410464817763133231559672140640230129078165382839427374516875466332762972549190697699151226939335500668229040054340787705616105343547459213651068551759699002457498425000939665076 + 0.0j)\n",
      "\n",
      "the expectation of the delta12: (0.0077661991146437588858884255249000885662470586208538654427736432991257183733500845169762447660257778396389935084302505251866994003784251617360133238692076794087639370003639141757277234559231452131210956 + 0.0j)\n",
      "\n",
      "The hyperfine splitting: (6912.1022848803388162942160507401195104170193849610830827982807179242500512631136847355069559690734344618948874788037898873685856583634303837882613015929337721224903379382637322152895270397266451601847 + 0.0j) \n",
      "\n",
      "time -556.126647233963\n"
     ]
    }
   ],
   "source": [
    "print()\n",
    "\n",
    "mp.dps=200\n",
    "\n",
    "#generate random params\n",
    "params=np.load(\"data/bestparams copy.npy\",allow_pickle=True)\n",
    "\n",
    "#calculate the energy levels\n",
    "\n",
    "starttime=time()\n",
    "csubspace=Subspace(params.shape[1],verbose=True)\n",
    "\n",
    "csubspace.set_N_func(corrected_N_func)\n",
    "csubspace.set_H_func(H_func)\n",
    "\n",
    "csubspace.set_params(params)\n",
    "\n",
    "csubspace.make_N_mat()\n",
    "csubspace.make_H_mat()\n",
    "csubspace.find_N_eigens()\n",
    "csubspace.make_Y_mat()\n",
    "csubspace.make_invs_sqrt_beta_mats()\n",
    "csubspace.make_P_mats()\n",
    "csubspace.find_P_eigens()\n",
    "csubspace.find_energy_levels()\n",
    "csubspace.find_energy_eigenstates()\n",
    "\n",
    "#print the ground energy level\n",
    "print(\"\\nGround State energy level:\",csubspace.energy_levels[0])\n",
    "\n",
    "#calculate the exectation of the delta \n",
    "expdelta=delta_r23(csubspace.energy_eigenstates[0],params)\n",
    "\n",
    "print(\"\\nthe expectation of the delta23:\",expdelta)\n",
    "from nuclear_structure_corection import *\n",
    "print(\"\\nthe expectation of the delta13:\",delta_r13(csubspace.energy_eigenstates[0],params))\n",
    "print(\"\\nthe expectation of the delta12:\",delta_r12(csubspace.energy_eigenstates[0],params))\n",
    "\n",
    "#calculate the hyperfine splitting\n",
    "print(\"\\nThe hyperfine splitting:\",HFS(expdelta),\"\\n\")\n",
    "\n",
    "print(\"time\",starttime-time())"
   ]
  },
  {
   "cell_type": "code",
   "execution_count": 10,
   "metadata": {},
   "outputs": [],
   "source": [
    "sc=(mp.mpf(4)/mp.mpf(3))*mp.pi*(Rrms)**2*(delta_r12(subspace.energy_eigenstates[0],params)+delta_r13(subspace.energy_eigenstates[0],params))"
   ]
  },
  {
   "cell_type": "code",
   "execution_count": 11,
   "metadata": {},
   "outputs": [
    {
     "data": {
      "text/plain": [
       "mpc(real='2.373848832978547299434467067523837747741243503027277174854051854575809268481461871738272758186439469693136750267880350646592487651318117680173145841940337210565376711434516278636663395148041826706993841', imag='0.0')"
      ]
     },
     "execution_count": 11,
     "metadata": {},
     "output_type": "execute_result"
    }
   ],
   "source": [
    "sc*cnst.physical_constants[\"Hartree energy in eV\"][0]"
   ]
  },
  {
   "cell_type": "code",
   "execution_count": 7,
   "metadata": {},
   "outputs": [
    {
     "name": "stdout",
     "output_type": "stream",
     "text": [
      "0.31135660278752197526100625131454119772309517425871316657159355958336116490795051940224161099316327774577489691255330800393981036847675964394651564656420734559521737572486896858377054431498393042923036\n"
     ]
    }
   ],
   "source": [
    "print(csubspace.energy_levels[0]-subspace.energy_levels[0])"
   ]
  },
  {
   "cell_type": "markdown",
   "metadata": {},
   "source": [
    "This is really weird behaiviour, meby their just isint enough basis functions maby we should try complex basis functions?\n",
    "Tomorrow lets work out the vacume polarisation corection wouldnt it be cool if these effects cancled out that would be interesting?"
   ]
  },
  {
   "cell_type": "code",
   "execution_count": null,
   "metadata": {},
   "outputs": [],
   "source": []
  }
 ],
 "metadata": {
  "kernelspec": {
   "display_name": "Python 3",
   "language": "python",
   "name": "python3"
  },
  "language_info": {
   "codemirror_mode": {
    "name": "ipython",
    "version": 3
   },
   "file_extension": ".py",
   "mimetype": "text/x-python",
   "name": "python",
   "nbconvert_exporter": "python",
   "pygments_lexer": "ipython3",
   "version": "3.12.9"
  }
 },
 "nbformat": 4,
 "nbformat_minor": 2
}
