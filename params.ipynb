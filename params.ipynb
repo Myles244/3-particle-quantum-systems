{
 "cells": [
  {
   "cell_type": "code",
   "execution_count": 1,
   "metadata": {},
   "outputs": [],
   "source": [
    "from exponential import *\n",
    "from scipy.optimize import minimize\n",
    "\n"
   ]
  },
  {
   "cell_type": "code",
   "execution_count": 2,
   "metadata": {},
   "outputs": [],
   "source": [
    "params=[]\n",
    "E=[]\n",
    "N=[]"
   ]
  },
  {
   "cell_type": "code",
   "execution_count": 3,
   "metadata": {},
   "outputs": [
    {
     "name": "stdout",
     "output_type": "stream",
     "text": [
      "1\n",
      "2\n",
      "3\n",
      "4\n",
      "5\n",
      "6\n",
      "7\n"
     ]
    },
    {
     "ename": "KeyboardInterrupt",
     "evalue": "",
     "output_type": "error",
     "traceback": [
      "\u001b[1;31m---------------------------------------------------------------------------\u001b[0m",
      "\u001b[1;31mKeyboardInterrupt\u001b[0m                         Traceback (most recent call last)",
      "Cell \u001b[1;32mIn[3], line 29\u001b[0m\n\u001b[0;32m     26\u001b[0m     subspace\u001b[38;5;241m.\u001b[39mfind_energy_levels()\n\u001b[0;32m     27\u001b[0m     \u001b[38;5;28;01mreturn\u001b[39;00m subspace\u001b[38;5;241m.\u001b[39menergy_levels[\u001b[38;5;241m0\u001b[39m]\n\u001b[1;32m---> 29\u001b[0m res\u001b[38;5;241m=\u001b[39m\u001b[43mminimize\u001b[49m\u001b[43m(\u001b[49m\u001b[43mf\u001b[49m\u001b[43m,\u001b[49m\u001b[43mx0\u001b[49m\u001b[38;5;241;43m=\u001b[39;49m\u001b[43mnp\u001b[49m\u001b[38;5;241;43m.\u001b[39;49m\u001b[43mabs\u001b[49m\u001b[43m(\u001b[49m\u001b[43mnp\u001b[49m\u001b[38;5;241;43m.\u001b[39;49m\u001b[43marray\u001b[49m\u001b[43m(\u001b[49m\u001b[43m[\u001b[49m\u001b[43mmp\u001b[49m\u001b[38;5;241;43m.\u001b[39;49m\u001b[43mmpf\u001b[49m\u001b[43m(\u001b[49m\u001b[38;5;241;43m400\u001b[39;49m\u001b[43m)\u001b[49m\u001b[43m,\u001b[49m\u001b[43mmp\u001b[49m\u001b[38;5;241;43m.\u001b[39;49m\u001b[43mmpf\u001b[49m\u001b[43m(\u001b[49m\u001b[38;5;241;43m1\u001b[39;49m\u001b[43m)\u001b[49m\u001b[43m,\u001b[49m\u001b[43mmp\u001b[49m\u001b[38;5;241;43m.\u001b[39;49m\u001b[43mmpf\u001b[49m\u001b[43m(\u001b[49m\u001b[38;5;241;43m0.02\u001b[39;49m\u001b[43m)\u001b[49m\u001b[43m]\u001b[49m\u001b[43m)\u001b[49m\u001b[38;5;241;43m*\u001b[39;49m\u001b[43mnp\u001b[49m\u001b[38;5;241;43m.\u001b[39;49m\u001b[43mrandom\u001b[49m\u001b[38;5;241;43m.\u001b[39;49m\u001b[43mnormal\u001b[49m\u001b[43m(\u001b[49m\u001b[38;5;241;43m1\u001b[39;49m\u001b[43m,\u001b[49m\u001b[38;5;241;43m1\u001b[39;49m\u001b[43m,\u001b[49m\u001b[38;5;241;43m3\u001b[39;49m\u001b[43m)\u001b[49m\u001b[43m)\u001b[49m\u001b[43m,\u001b[49m\u001b[43mmethod\u001b[49m\u001b[38;5;241;43m=\u001b[39;49m\u001b[38;5;124;43m'\u001b[39;49m\u001b[38;5;124;43mNelder-Mead\u001b[39;49m\u001b[38;5;124;43m'\u001b[39;49m\u001b[43m)\u001b[49m\n\u001b[0;32m     31\u001b[0m \u001b[38;5;28;01mif\u001b[39;00m res\u001b[38;5;241m.\u001b[39mfun\u001b[38;5;241m>\u001b[39m\u001b[38;5;241m=\u001b[39m\u001b[38;5;241m0\u001b[39m:\n\u001b[0;32m     32\u001b[0m     \u001b[38;5;28mprint\u001b[39m(\u001b[38;5;124m\"\u001b[39m\u001b[38;5;124mwtf\u001b[39m\u001b[38;5;124m\"\u001b[39m)\n",
      "File \u001b[1;32m~\\AppData\\Local\\Packages\\PythonSoftwareFoundation.Python.3.12_qbz5n2kfra8p0\\LocalCache\\local-packages\\Python312\\site-packages\\scipy\\optimize\\_minimize.py:726\u001b[0m, in \u001b[0;36mminimize\u001b[1;34m(fun, x0, args, method, jac, hess, hessp, bounds, constraints, tol, callback, options)\u001b[0m\n\u001b[0;32m    723\u001b[0m callback \u001b[38;5;241m=\u001b[39m _wrap_callback(callback, meth)\n\u001b[0;32m    725\u001b[0m \u001b[38;5;28;01mif\u001b[39;00m meth \u001b[38;5;241m==\u001b[39m \u001b[38;5;124m'\u001b[39m\u001b[38;5;124mnelder-mead\u001b[39m\u001b[38;5;124m'\u001b[39m:\n\u001b[1;32m--> 726\u001b[0m     res \u001b[38;5;241m=\u001b[39m \u001b[43m_minimize_neldermead\u001b[49m\u001b[43m(\u001b[49m\u001b[43mfun\u001b[49m\u001b[43m,\u001b[49m\u001b[43m \u001b[49m\u001b[43mx0\u001b[49m\u001b[43m,\u001b[49m\u001b[43m \u001b[49m\u001b[43margs\u001b[49m\u001b[43m,\u001b[49m\u001b[43m \u001b[49m\u001b[43mcallback\u001b[49m\u001b[43m,\u001b[49m\u001b[43m \u001b[49m\u001b[43mbounds\u001b[49m\u001b[38;5;241;43m=\u001b[39;49m\u001b[43mbounds\u001b[49m\u001b[43m,\u001b[49m\n\u001b[0;32m    727\u001b[0m \u001b[43m                               \u001b[49m\u001b[38;5;241;43m*\u001b[39;49m\u001b[38;5;241;43m*\u001b[39;49m\u001b[43moptions\u001b[49m\u001b[43m)\u001b[49m\n\u001b[0;32m    728\u001b[0m \u001b[38;5;28;01melif\u001b[39;00m meth \u001b[38;5;241m==\u001b[39m \u001b[38;5;124m'\u001b[39m\u001b[38;5;124mpowell\u001b[39m\u001b[38;5;124m'\u001b[39m:\n\u001b[0;32m    729\u001b[0m     res \u001b[38;5;241m=\u001b[39m _minimize_powell(fun, x0, args, callback, bounds, \u001b[38;5;241m*\u001b[39m\u001b[38;5;241m*\u001b[39moptions)\n",
      "File \u001b[1;32m~\\AppData\\Local\\Packages\\PythonSoftwareFoundation.Python.3.12_qbz5n2kfra8p0\\LocalCache\\local-packages\\Python312\\site-packages\\scipy\\optimize\\_optimize.py:858\u001b[0m, in \u001b[0;36m_minimize_neldermead\u001b[1;34m(func, x0, args, callback, maxiter, maxfev, disp, return_all, initial_simplex, xatol, fatol, adaptive, bounds, **unknown_options)\u001b[0m\n\u001b[0;32m    856\u001b[0m \u001b[38;5;28;01mif\u001b[39;00m bounds \u001b[38;5;129;01mis\u001b[39;00m \u001b[38;5;129;01mnot\u001b[39;00m \u001b[38;5;28;01mNone\u001b[39;00m:\n\u001b[0;32m    857\u001b[0m     xr \u001b[38;5;241m=\u001b[39m np\u001b[38;5;241m.\u001b[39mclip(xr, lower_bound, upper_bound)\n\u001b[1;32m--> 858\u001b[0m fxr \u001b[38;5;241m=\u001b[39m \u001b[43mfunc\u001b[49m\u001b[43m(\u001b[49m\u001b[43mxr\u001b[49m\u001b[43m)\u001b[49m\n\u001b[0;32m    859\u001b[0m doshrink \u001b[38;5;241m=\u001b[39m \u001b[38;5;241m0\u001b[39m\n\u001b[0;32m    861\u001b[0m \u001b[38;5;28;01mif\u001b[39;00m fxr \u001b[38;5;241m<\u001b[39m fsim[\u001b[38;5;241m0\u001b[39m]:\n",
      "File \u001b[1;32m~\\AppData\\Local\\Packages\\PythonSoftwareFoundation.Python.3.12_qbz5n2kfra8p0\\LocalCache\\local-packages\\Python312\\site-packages\\scipy\\optimize\\_optimize.py:542\u001b[0m, in \u001b[0;36m_wrap_scalar_function_maxfun_validation.<locals>.function_wrapper\u001b[1;34m(x, *wrapper_args)\u001b[0m\n\u001b[0;32m    540\u001b[0m ncalls[\u001b[38;5;241m0\u001b[39m] \u001b[38;5;241m+\u001b[39m\u001b[38;5;241m=\u001b[39m \u001b[38;5;241m1\u001b[39m\n\u001b[0;32m    541\u001b[0m \u001b[38;5;66;03m# A copy of x is sent to the user function (gh13740)\u001b[39;00m\n\u001b[1;32m--> 542\u001b[0m fx \u001b[38;5;241m=\u001b[39m \u001b[43mfunction\u001b[49m\u001b[43m(\u001b[49m\u001b[43mnp\u001b[49m\u001b[38;5;241;43m.\u001b[39;49m\u001b[43mcopy\u001b[49m\u001b[43m(\u001b[49m\u001b[43mx\u001b[49m\u001b[43m)\u001b[49m\u001b[43m,\u001b[49m\u001b[43m \u001b[49m\u001b[38;5;241;43m*\u001b[39;49m\u001b[43m(\u001b[49m\u001b[43mwrapper_args\u001b[49m\u001b[43m \u001b[49m\u001b[38;5;241;43m+\u001b[39;49m\u001b[43m \u001b[49m\u001b[43margs\u001b[49m\u001b[43m)\u001b[49m\u001b[43m)\u001b[49m\n\u001b[0;32m    543\u001b[0m \u001b[38;5;66;03m# Ideally, we'd like to a have a true scalar returned from f(x). For\u001b[39;00m\n\u001b[0;32m    544\u001b[0m \u001b[38;5;66;03m# backwards-compatibility, also allow np.array([1.3]),\u001b[39;00m\n\u001b[0;32m    545\u001b[0m \u001b[38;5;66;03m# np.array([[1.3]]) etc.\u001b[39;00m\n\u001b[0;32m    546\u001b[0m \u001b[38;5;28;01mif\u001b[39;00m \u001b[38;5;129;01mnot\u001b[39;00m np\u001b[38;5;241m.\u001b[39misscalar(fx):\n",
      "Cell \u001b[1;32mIn[3], line 25\u001b[0m, in \u001b[0;36mf\u001b[1;34m(x)\u001b[0m\n\u001b[0;32m     23\u001b[0m subspace\u001b[38;5;241m.\u001b[39mmake_invs_sqrt_beta_mats()\n\u001b[0;32m     24\u001b[0m subspace\u001b[38;5;241m.\u001b[39mmake_P_mats()\n\u001b[1;32m---> 25\u001b[0m \u001b[43msubspace\u001b[49m\u001b[38;5;241;43m.\u001b[39;49m\u001b[43mfind_P_eigens\u001b[49m\u001b[43m(\u001b[49m\u001b[43m)\u001b[49m\n\u001b[0;32m     26\u001b[0m subspace\u001b[38;5;241m.\u001b[39mfind_energy_levels()\n\u001b[0;32m     27\u001b[0m \u001b[38;5;28;01mreturn\u001b[39;00m subspace\u001b[38;5;241m.\u001b[39menergy_levels[\u001b[38;5;241m0\u001b[39m]\n",
      "File \u001b[1;32mc:\\Users\\myles\\Documents\\GitHub\\3-particle-quantum-systems\\high_precision\\header.py:69\u001b[0m, in \u001b[0;36mSubspace.find_P_eigens\u001b[1;34m(self)\u001b[0m\n\u001b[0;32m     66\u001b[0m \u001b[38;5;28;01mif\u001b[39;00m \u001b[38;5;28mself\u001b[39m\u001b[38;5;241m.\u001b[39mverbose:\n\u001b[0;32m     67\u001b[0m   \u001b[38;5;28mprint\u001b[39m(\u001b[38;5;124m\"\u001b[39m\u001b[38;5;124mFinding P eigenvectors and eigenvalues.\u001b[39m\u001b[38;5;124m\"\u001b[39m)\n\u001b[1;32m---> 69\u001b[0m \u001b[38;5;28mself\u001b[39m\u001b[38;5;241m.\u001b[39mP_eigenvalues, \u001b[38;5;28mself\u001b[39m\u001b[38;5;241m.\u001b[39mP_eigenvectors\u001b[38;5;241m=\u001b[39m\u001b[43mmp\u001b[49m\u001b[38;5;241;43m.\u001b[39;49m\u001b[43meig\u001b[49m\u001b[43m(\u001b[49m\u001b[38;5;28;43mself\u001b[39;49m\u001b[38;5;241;43m.\u001b[39;49m\u001b[43mP_mats\u001b[49m\u001b[43m)\u001b[49m\n",
      "File \u001b[1;32m~\\AppData\\Local\\Packages\\PythonSoftwareFoundation.Python.3.12_qbz5n2kfra8p0\\LocalCache\\local-packages\\Python312\\site-packages\\mpmath\\matrices\\eigen.py:762\u001b[0m, in \u001b[0;36meig\u001b[1;34m(ctx, A, left, right, overwrite_a)\u001b[0m\n\u001b[0;32m    759\u001b[0m     \u001b[38;5;28;01mfor\u001b[39;00m y \u001b[38;5;129;01min\u001b[39;00m xrange(x \u001b[38;5;241m+\u001b[39m \u001b[38;5;241m2\u001b[39m, n):\n\u001b[0;32m    760\u001b[0m         A[y,x] \u001b[38;5;241m=\u001b[39m \u001b[38;5;241m0\u001b[39m\n\u001b[1;32m--> 762\u001b[0m \u001b[43mhessenberg_qr\u001b[49m\u001b[43m(\u001b[49m\u001b[43mctx\u001b[49m\u001b[43m,\u001b[49m\u001b[43m \u001b[49m\u001b[43mA\u001b[49m\u001b[43m,\u001b[49m\u001b[43m \u001b[49m\u001b[43mQ\u001b[49m\u001b[43m)\u001b[49m\n\u001b[0;32m    764\u001b[0m E \u001b[38;5;241m=\u001b[39m [\u001b[38;5;241m0\u001b[39m \u001b[38;5;28;01mfor\u001b[39;00m i \u001b[38;5;129;01min\u001b[39;00m xrange(n)]\n\u001b[0;32m    765\u001b[0m \u001b[38;5;28;01mfor\u001b[39;00m i \u001b[38;5;129;01min\u001b[39;00m xrange(n):\n",
      "File \u001b[1;32m~\\AppData\\Local\\Packages\\PythonSoftwareFoundation.Python.3.12_qbz5n2kfra8p0\\LocalCache\\local-packages\\Python312\\site-packages\\mpmath\\matrices\\eigen.py:485\u001b[0m, in \u001b[0;36mhessenberg_qr\u001b[1;34m(ctx, A, Q)\u001b[0m\n\u001b[0;32m    482\u001b[0m its \u001b[38;5;241m+\u001b[39m\u001b[38;5;241m=\u001b[39m \u001b[38;5;241m1\u001b[39m\n\u001b[0;32m    483\u001b[0m totalits \u001b[38;5;241m+\u001b[39m\u001b[38;5;241m=\u001b[39m \u001b[38;5;241m1\u001b[39m\n\u001b[1;32m--> 485\u001b[0m \u001b[43mqr_step\u001b[49m\u001b[43m(\u001b[49m\u001b[43mctx\u001b[49m\u001b[43m,\u001b[49m\u001b[43m \u001b[49m\u001b[43mn0\u001b[49m\u001b[43m,\u001b[49m\u001b[43m \u001b[49m\u001b[43mn1\u001b[49m\u001b[43m,\u001b[49m\u001b[43m \u001b[49m\u001b[43mA\u001b[49m\u001b[43m,\u001b[49m\u001b[43m \u001b[49m\u001b[43mQ\u001b[49m\u001b[43m,\u001b[49m\u001b[43m \u001b[49m\u001b[43mshift\u001b[49m\u001b[43m)\u001b[49m\n\u001b[0;32m    487\u001b[0m \u001b[38;5;28;01mif\u001b[39;00m its \u001b[38;5;241m>\u001b[39m maxits:\n\u001b[0;32m    488\u001b[0m     \u001b[38;5;28;01mraise\u001b[39;00m \u001b[38;5;167;01mRuntimeError\u001b[39;00m(\u001b[38;5;124m\"\u001b[39m\u001b[38;5;124mqr: failed to converge after \u001b[39m\u001b[38;5;132;01m%d\u001b[39;00m\u001b[38;5;124m steps\u001b[39m\u001b[38;5;124m\"\u001b[39m \u001b[38;5;241m%\u001b[39m its)\n",
      "File \u001b[1;32m~\\AppData\\Local\\Packages\\PythonSoftwareFoundation.Python.3.12_qbz5n2kfra8p0\\LocalCache\\local-packages\\Python312\\site-packages\\mpmath\\matrices\\eigen.py:361\u001b[0m, in \u001b[0;36mqr_step\u001b[1;34m(ctx, n0, n1, A, Q, shift)\u001b[0m\n\u001b[0;32m    357\u001b[0m cs \u001b[38;5;241m=\u001b[39m ctx\u001b[38;5;241m.\u001b[39mconj(s)\n\u001b[0;32m    359\u001b[0m \u001b[38;5;28;01mfor\u001b[39;00m k \u001b[38;5;129;01min\u001b[39;00m xrange(j\u001b[38;5;241m+\u001b[39m\u001b[38;5;241m1\u001b[39m, n):\n\u001b[0;32m    360\u001b[0m     \u001b[38;5;66;03m# apply givens rotation from the left\u001b[39;00m\n\u001b[1;32m--> 361\u001b[0m     x \u001b[38;5;241m=\u001b[39m \u001b[43mA\u001b[49m\u001b[43m[\u001b[49m\u001b[43mj\u001b[49m\u001b[38;5;241;43m+\u001b[39;49m\u001b[38;5;241;43m1\u001b[39;49m\u001b[43m,\u001b[49m\u001b[43mk\u001b[49m\u001b[43m]\u001b[49m\n\u001b[0;32m    362\u001b[0m     y \u001b[38;5;241m=\u001b[39m A[j\u001b[38;5;241m+\u001b[39m\u001b[38;5;241m2\u001b[39m,k]\n\u001b[0;32m    363\u001b[0m     A[j\u001b[38;5;241m+\u001b[39m\u001b[38;5;241m1\u001b[39m,k] \u001b[38;5;241m=\u001b[39m cc \u001b[38;5;241m*\u001b[39m x \u001b[38;5;241m+\u001b[39m cs \u001b[38;5;241m*\u001b[39m y\n",
      "File \u001b[1;32m~\\AppData\\Local\\Packages\\PythonSoftwareFoundation.Python.3.12_qbz5n2kfra8p0\\LocalCache\\local-packages\\Python312\\site-packages\\mpmath\\matrices\\matrices.py:432\u001b[0m, in \u001b[0;36m_matrix.__getitem__\u001b[1;34m(self, key)\u001b[0m\n\u001b[0;32m    428\u001b[0m     \u001b[38;5;28;01melif\u001b[39;00m key \u001b[38;5;129;01min\u001b[39;00m \u001b[38;5;28mself\u001b[39m\u001b[38;5;241m.\u001b[39m__data:\n\u001b[0;32m    429\u001b[0m         \u001b[38;5;28;01mdel\u001b[39;00m \u001b[38;5;28mself\u001b[39m\u001b[38;5;241m.\u001b[39m__data[key]\n\u001b[1;32m--> 432\u001b[0m \u001b[38;5;28;01mdef\u001b[39;00m\u001b[38;5;250m \u001b[39m\u001b[38;5;21m__getitem__\u001b[39m(\u001b[38;5;28mself\u001b[39m, key):\n\u001b[0;32m    433\u001b[0m \u001b[38;5;250m    \u001b[39m\u001b[38;5;124;03m'''\u001b[39;00m\n\u001b[0;32m    434\u001b[0m \u001b[38;5;124;03m        Getitem function for mp matrix class with slice index enabled\u001b[39;00m\n\u001b[0;32m    435\u001b[0m \u001b[38;5;124;03m        it allows the following assingments\u001b[39;00m\n\u001b[0;32m    436\u001b[0m \u001b[38;5;124;03m        scalar to a slice of the matrix\u001b[39;00m\n\u001b[0;32m    437\u001b[0m \u001b[38;5;124;03m     B = A[:,2:6]\u001b[39;00m\n\u001b[0;32m    438\u001b[0m \u001b[38;5;124;03m    '''\u001b[39;00m\n\u001b[0;32m    439\u001b[0m     \u001b[38;5;66;03m# Convert vector to matrix indexing\u001b[39;00m\n",
      "\u001b[1;31mKeyboardInterrupt\u001b[0m: "
     ]
    }
   ],
   "source": [
    "params=[]\n",
    "E=[]\n",
    "N=[]\n",
    "for i in range(10):\n",
    "    print(i+1)\n",
    "    def f(x):\n",
    "        if x[0]<=0 or x[1]<=0 or x[2]<=0:\n",
    "            return 10000\n",
    "        \n",
    "        theparams=np.array(params+[x]).transpose()\n",
    "\n",
    "        subspace=Subspace(len(params)+1)\n",
    "\n",
    "        subspace.set_N_func(N_func)\n",
    "        subspace.set_H_func(H_func)\n",
    "\n",
    "        subspace.set_params(theparams)\n",
    "\n",
    "        subspace.make_N_mat()\n",
    "        subspace.make_H_mat()\n",
    "        subspace.find_N_eigens()\n",
    "        subspace.make_Y_mat()\n",
    "        subspace.make_invs_sqrt_beta_mats()\n",
    "        subspace.make_P_mats()\n",
    "        subspace.find_P_eigens()\n",
    "        subspace.find_energy_levels()\n",
    "        return subspace.energy_levels[0]\n",
    "\n",
    "    res=minimize(f,x0=np.abs(np.array([mp.mpf(400),mp.mpf(1),mp.mpf(0.02)])*np.random.normal(1,1,3)),method='Nelder-Mead')\n",
    "\n",
    "    if res.fun>=0:\n",
    "        print(\"wtf\")\n",
    "\n",
    "    params.append(res.x)\n",
    "\n",
    "    N.append(i+1)\n",
    "    E.append(res.fun)"
   ]
  },
  {
   "cell_type": "code",
   "execution_count": null,
   "metadata": {},
   "outputs": [
    {
     "data": {
      "text/plain": [
       "[<matplotlib.lines.Line2D at 0x1feffe67d70>]"
      ]
     },
     "execution_count": 5,
     "metadata": {},
     "output_type": "execute_result"
    },
    {
     "data": {
      "image/png": "[encoded data removed]",
      "text/plain": [
       "<Figure size 640x480 with 1 Axes>"
      ]
     },
     "metadata": {},
     "output_type": "display_data"
    }
   ],
   "source": [
    "import matplotlib.pyplot as plt\n",
    "\n",
    "plt.scatter(N,np.array(E))\n",
    "plt.plot(N,np.array(N)*0-402.63730092734914,linestyle='--')"
   ]
  },
  {
   "cell_type": "code",
   "execution_count": null,
   "metadata": {},
   "outputs": [],
   "source": []
  },
  {
   "cell_type": "code",
   "execution_count": null,
   "metadata": {},
   "outputs": [
    {
     "name": "stdout",
     "output_type": "stream",
     "text": [
      "[np.float64(-402.63729943727174), np.float64(-402.6372994372741), np.float64(-402.63729943727424), np.float64(-402.63729943727446), np.float64(-402.6372994712978), np.float64(-402.6372994739417), np.float64(-402.6372994739419), np.float64(-402.63730071080164), np.float64(-402.6373007108017), np.float64(-402.6373007110513)]\n"
     ]
    }
   ],
   "source": [
    "print(E)"
   ]
  },
  {
   "cell_type": "code",
   "execution_count": null,
   "metadata": {},
   "outputs": [],
   "source": [
    "def term(ai,bi,ci,aj,bj,cj):\n",
    "    Ai=2*np.real(ai)+2*np.real(bi)\n",
    "    Bi=2*np.real(ai)+2*np.real(ci)\n",
    "    Ci=2*np.real(bi)+2*np.real(ci)\n",
    "    Aj=2*np.real(aj)+2*np.real(bj)\n",
    "    Bj=2*np.real(aj)+2*np.real(cj)\n",
    "    Cj=2*np.real(bj)+2*np.real(cj)\n",
    "\n",
    "    return (\n",
    "        np.sqrt(Ai*Aj)/(np.conjugate(ai+bi)+aj+bj)\n",
    "        *np.sqrt(Bi*Bj)/(np.conjugate(ai+bi)+aj+bj)\n",
    "        *np.sqrt(Ci*Cj)/(np.conjugate(ai+bi)+aj+bj)\n",
    "        *Ai*Bi*Ci/np.sqrt( Ai**2 * (Bi + Ci) + Bi**2 * (Ai + Ci) + Ci**2 * (Ai + Bi) + Ai*Bi*Ci)\n",
    "        *Aj*Bj*Cj/np.sqrt( Aj**2 * (Bj + Cj) + Bj**2 * (Aj + Cj) + Cj**2 * (Aj + Bj) + Aj*Bj*Cj)\n",
    "    )\n"
   ]
  },
  {
   "cell_type": "code",
   "execution_count": null,
   "metadata": {},
   "outputs": [
    {
     "data": {
      "text/plain": [
       "(array([0, 1, 2, 3]),)"
      ]
     },
     "execution_count": 8,
     "metadata": {},
     "output_type": "execute_result"
    }
   ],
   "source": [
    "np.meshgrid(np.arange(4))"
   ]
  },
  {
   "cell_type": "code",
   "execution_count": null,
   "metadata": {},
   "outputs": [],
   "source": [
    "def delta(Amplitudes,params):\n",
    "    ais, ajs=np.meshgrid(params[0],params[0])\n",
    "    bis, bjs=np.meshgrid(params[1],params[1])\n",
    "    cis, cjs=np.meshgrid(params[2],params[2])\n",
    "    Ampis,Ampjs=np.meshgrid(Amplitudes,Amplitudes)\n",
    "    terms=term(ais,bis,cis,ajs,bjs,cjs)\n",
    "    sum=np.sum(np.conjugate(Ampis)*Ampjs*terms)\n",
    "    return sum/(4*np.pi)"
   ]
  },
  {
   "cell_type": "code",
   "execution_count": null,
   "metadata": {},
   "outputs": [],
   "source": [
    "def HFS(Amplitudes,params):\n",
    "    expdelta=np.pi*np.sum(Amplitudes/np.real(params[0]+params[1])**3)\n",
    "    prefactor=(\n",
    "        (1/(3*hbar))\n",
    "        *alpha\n",
    "        *(g2*g3/(m2*m3))\n",
    "        )\n",
    "    return prefactor*expdelta"
   ]
  },
  {
   "cell_type": "code",
   "execution_count": null,
   "metadata": {},
   "outputs": [],
   "source": [
    "D=[]\n",
    "for n in N:\n",
    "    theparams=np.array(params)[:n].transpose()\n",
    "\n",
    "    subspace=Subspace(n)\n",
    "\n",
    "    subspace.set_N_func(N_func)\n",
    "    subspace.set_H_func(H_func)\n",
    "\n",
    "    subspace.set_params(theparams)\n",
    "\n",
    "    subspace.make_N_mat()\n",
    "    subspace.make_H_mat()\n",
    "    subspace.find_N_eigens()\n",
    "    subspace.make_Y_mat()\n",
    "    subspace.make_invs_sqrt_beta_mats()\n",
    "    subspace.make_P_mats()\n",
    "    subspace.find_P_eigens()\n",
    "\n",
    "    subspace.find_energy_eigenstates()\n",
    "\n",
    "    D.append(delta(subspace.energy_eigenstates[0],theparams[:,0]))"
   ]
  },
  {
   "cell_type": "code",
   "execution_count": null,
   "metadata": {},
   "outputs": [
    {
     "data": {
      "text/plain": [
       "mpf('-402.62573931652487742904818094828463880636327159502701')"
      ]
     },
     "execution_count": 15,
     "metadata": {},
     "output_type": "execute_result"
    }
   ],
   "source": [
    "H_func(0,0,[mp.mpf(400)],[mp.mpf(1)],[mp.mpf(0.02)])"
   ]
  },
  {
   "cell_type": "code",
   "execution_count": null,
   "metadata": {},
   "outputs": [
    {
     "name": "stdout",
     "output_type": "stream",
     "text": [
      "0.3352722486863249\n"
     ]
    }
   ],
   "source": [
    "print(delta([1],[[400],[1],[0.02]]))"
   ]
  },
  {
   "cell_type": "code",
   "execution_count": null,
   "metadata": {},
   "outputs": [
    {
     "data": {
      "text/plain": [
       "<matplotlib.collections.PathCollection at 0x1feffed2810>"
      ]
     },
     "execution_count": 14,
     "metadata": {},
     "output_type": "execute_result"
    },
    {
     "data": {
      "image/png": "[encoded data removed]",
      "text/plain": [
       "<Figure size 640x480 with 1 Axes>"
      ]
     },
     "metadata": {},
     "output_type": "display_data"
    }
   ],
   "source": [
    "plt.scatter(N,D)"
   ]
  },
  {
   "cell_type": "code",
   "execution_count": null,
   "metadata": {},
   "outputs": [],
   "source": [
    "print(np.array(D))"
   ]
  }
 ],
 "metadata": {
  "kernelspec": {
   "display_name": "Python 3",
   "language": "python",
   "name": "python3"
  },
  "language_info": {
   "codemirror_mode": {
    "name": "ipython",
    "version": 3
   },
   "file_extension": ".py",
   "mimetype": "text/x-python",
   "name": "python",
   "nbconvert_exporter": "python",
   "pygments_lexer": "ipython3",
   "version": "3.12.9"
  }
 },
 "nbformat": 4,
 "nbformat_minor": 2
}
