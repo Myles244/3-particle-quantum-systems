{
 "cells": [
  {
   "cell_type": "code",
   "execution_count": 1,
   "metadata": {},
   "outputs": [],
   "source": [
    "from exponential import *"
   ]
  },
  {
   "cell_type": "code",
   "execution_count": 7,
   "metadata": {},
   "outputs": [],
   "source": [
    "params=[]"
   ]
  },
  {
   "cell_type": "code",
   "execution_count": 8,
   "metadata": {},
   "outputs": [
    {
     "name": "stdout",
     "output_type": "stream",
     "text": [
      "       message: Optimization terminated successfully.\n",
      "       success: True\n",
      "        status: 0\n",
      "           fun: -77.47798680394996\n",
      "             x: [ 3.193e-02  3.188e-02  1.034e-08]\n",
      "           nit: 73\n",
      "          nfev: 134\n",
      " final_simplex: (array([[ 3.193e-02,  3.188e-02,  1.034e-08],\n",
      "                       [ 3.192e-02,  3.185e-02,  8.923e-08],\n",
      "                       [ 3.192e-02,  3.186e-02,  1.904e-07],\n",
      "                       [ 3.192e-02,  3.183e-02,  1.186e-07]]), array([-7.748e+01, -7.748e+01, -7.748e+01, -7.748e+01]))\n"
     ]
    }
   ],
   "source": [
    "from scipy.optimize import minimize\n",
    "\n",
    "def f(x):\n",
    "    if np.any(x<=0):\n",
    "        return 10000\n",
    "\n",
    "    return H_func(0,0,[x[0]],[x[1]],[x[2]])\n",
    "\n",
    "res=minimize(f,x0=[0.02,0.02,0.0045],method='Nelder-Mead')\n",
    "print(res)\n",
    "params.append(res.x)"
   ]
  },
  {
   "cell_type": "code",
   "execution_count": 9,
   "metadata": {},
   "outputs": [
    {
     "name": "stdout",
     "output_type": "stream",
     "text": [
      "[array([3.19299787e-02, 3.18845277e-02, 1.03403808e-08])]\n"
     ]
    }
   ],
   "source": [
    "print(params)"
   ]
  },
  {
   "cell_type": "code",
   "execution_count": null,
   "metadata": {},
   "outputs": [],
   "source": []
  }
 ],
 "metadata": {
  "kernelspec": {
   "display_name": "Python 3",
   "language": "python",
   "name": "python3"
  },
  "language_info": {
   "codemirror_mode": {
    "name": "ipython",
    "version": 3
   },
   "file_extension": ".py",
   "mimetype": "text/x-python",
   "name": "python",
   "nbconvert_exporter": "python",
   "pygments_lexer": "ipython3",
   "version": "3.12.9"
  }
 },
 "nbformat": 4,
 "nbformat_minor": 2
}
