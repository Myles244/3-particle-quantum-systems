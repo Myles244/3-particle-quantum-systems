{
 "cells": [
  {
   "cell_type": "code",
   "execution_count": 1,
   "metadata": {},
   "outputs": [],
   "source": [
    "from header import *\n",
    "import scipy.constants as cnst"
   ]
  },
  {
   "cell_type": "code",
   "execution_count": 2,
   "metadata": {},
   "outputs": [],
   "source": [
    "# --- constants --- \n",
    "\n",
    "#masses of nuclear particles:\n",
    "        \n",
    "#time unit in seconds \n",
    "T_unit=10**(-15)\n",
    "L_unit=10**(-12)\n",
    "E_unit=cnst.eV\n",
    "M_unit=E_unit*T_unit**2/L_unit**2\n",
    "\n",
    "assert(M_unit==E_unit*T_unit**2/L_unit**2)\n",
    "\n",
    "#mass of the alpha particle\n",
    "m1=(cnst.physical_constants['alpha particle mass'][0])/M_unit\n",
    "\n",
    "#mass of the muon\n",
    "m2=(cnst.physical_constants['muon mass'][0])/M_unit\n",
    "\n",
    "#mass of the electron\n",
    "m3=cnst.m_e/M_unit\n",
    "\n",
    "m2=m3\n",
    "\n",
    "#hbar\n",
    "hbar=cnst.hbar/(E_unit*T_unit)\n",
    "\n",
    "#elementry charge\n",
    "e=cnst.e\n",
    "\n",
    "#vacume permiativity\n",
    "epsilon0=(cnst.physical_constants['vacuum electric permittivity'][0])*L_unit*E_unit\n",
    "\n"
   ]
  },
  {
   "cell_type": "code",
   "execution_count": 3,
   "metadata": {},
   "outputs": [],
   "source": [
    "def I110(a,b,c):\n",
    "    x=1/(a+b)\n",
    "    y=1/(a+c)\n",
    "    z=1/(b+c)\n",
    "\n",
    "    return 16*np.pi**2*x*y*z*(2*x**2+x*y+x*z+y*z)\n",
    "\n",
    "def I111(a,b,c):\n",
    "    x=1/(a+b)\n",
    "    y=1/(a+c)\n",
    "    z=1/(b+c)\n",
    "\n",
    "    return 32*np.pi**2*x*y*z*(x**2*(y+z)+y**2*(x+z)+z**2*(x+y)+x*y*z)\n",
    "\n",
    "def I210(a,b,c):\n",
    "    x=1/(a+b)\n",
    "    y=1/(a+c)\n",
    "    z=1/(b+c)\n",
    "\n",
    "    return 32*np.pi**2*x*y*z*(x**2*(3*x+2*y+z)+y**2*(x+z)+x*y*z)\n",
    "\n",
    "def I300(a,b,c):\n",
    "    x=1/(a+b)\n",
    "    y=1/(a+c)\n",
    "    z=1/(b+c)\n",
    "\n",
    "    return 96*np.pi**2*x*y*z*(x+y)*(x**2+y**2)"
   ]
  },
  {
   "cell_type": "code",
   "execution_count": 4,
   "metadata": {},
   "outputs": [],
   "source": [
    "def N_func(i,j,alphas,betas,gammas):\n",
    "        \n",
    "    return I111(np.conjugate(alphas[i])+alphas[j],np.conjugate(betas[i])+betas[j],np.conjugate(gammas[i])+gammas[j])"
   ]
  },
  {
   "cell_type": "code",
   "execution_count": 5,
   "metadata": {},
   "outputs": [],
   "source": [
    "\n",
    "def H_func(i,j,alphas,betas,gammas):\n",
    "\t\n",
    "\ta=np.conj(alphas[i])+alphas[j]\n",
    "\tb=np.conj(betas[i])+betas[j]\n",
    "\tc=np.conj(gammas[i])+gammas[j]\n",
    "\n",
    "\tT=-0.5*hbar**2*(\n",
    "\t\t\t((alphas[j]**2+betas[j]**2)/m1  +  (alphas[j]**2+gammas[j]**2)/m2  +  (betas[j]**2+gammas[j]**2)/m3)*I111(a,b,c)\n",
    "\t\t\t\n",
    "\t\t\t-2*alphas[j]*(1/m1+1/m2)*I110(c,b,a)\n",
    "\t\t\t-2*betas[j]*(1/m1+1/m3)*I110(a,c,b)  \n",
    "\t\t\t-2*gammas[j]*(1/m2+1/m3)*I110(a,b,c) \n",
    "\t\t\t\t\n",
    "\t\t\t+alphas[j]*betas[j]/m1*(I210(a,b,c)+I210(b,a,c)-I300(c,b,a))\n",
    "\t\t\t+alphas[j]*gammas[j]/m2*(I210(a,c,b)+I210(c,a,b)-I300(b,a,c))\n",
    "\t\t\t+betas[j]*gammas[j]/m3*(I210(b,c,a)+I210(c,b,a)-I300(a,b,c))\n",
    "\t\t\t)\n",
    "\t\n",
    "\t\n",
    "\tV=(e**2/(4*np.pi*epsilon0))*(-2*I110(c,b,a)-2*I110(a,c,b)+I110(a,b,c))\n",
    "\n",
    "\treturn (T+V)*N_func(i,j,alphas,betas,gammas)"
   ]
  },
  {
   "cell_type": "code",
   "execution_count": 6,
   "metadata": {},
   "outputs": [
    {
     "name": "stdout",
     "output_type": "stream",
     "text": [
      "1\n",
      "Constructing the N matrices.\n",
      "Constructing the H matrices.\n",
      "Finding the eigenvectors and eigenvalues of the N matrices.\n",
      "Constructing the Y matrices.\n",
      "Constructing the inverse square root beta matrices.\n",
      "Constructing the P matrices.\n",
      "Finding P eigenvectors and eigenvalues.\n",
      "Calculating the energy levels.\n",
      "2\n",
      "Constructing the N matrices.\n",
      "Constructing the H matrices.\n",
      "Finding the eigenvectors and eigenvalues of the N matrices.\n",
      "Constructing the Y matrices.\n",
      "Constructing the inverse square root beta matrices.\n",
      "Constructing the P matrices.\n",
      "Finding P eigenvectors and eigenvalues.\n",
      "Calculating the energy levels.\n",
      "3\n",
      "Constructing the N matrices.\n",
      "Constructing the H matrices.\n",
      "Finding the eigenvectors and eigenvalues of the N matrices.\n",
      "Constructing the Y matrices.\n",
      "Constructing the inverse square root beta matrices.\n",
      "Constructing the P matrices.\n",
      "Finding P eigenvectors and eigenvalues.\n",
      "Calculating the energy levels.\n",
      "4\n",
      "Constructing the N matrices.\n",
      "Constructing the H matrices.\n",
      "Finding the eigenvectors and eigenvalues of the N matrices.\n",
      "Constructing the Y matrices.\n",
      "Constructing the inverse square root beta matrices.\n",
      "Constructing the P matrices.\n",
      "Finding P eigenvectors and eigenvalues.\n",
      "Calculating the energy levels.\n",
      "5\n",
      "Constructing the N matrices.\n",
      "Constructing the H matrices.\n",
      "Finding the eigenvectors and eigenvalues of the N matrices.\n",
      "Constructing the Y matrices.\n",
      "Constructing the inverse square root beta matrices.\n",
      "Constructing the P matrices.\n",
      "Finding P eigenvectors and eigenvalues.\n",
      "Calculating the energy levels.\n",
      "6\n",
      "Constructing the N matrices.\n",
      "Constructing the H matrices.\n",
      "Finding the eigenvectors and eigenvalues of the N matrices.\n",
      "Constructing the Y matrices.\n",
      "Constructing the inverse square root beta matrices.\n",
      "Constructing the P matrices.\n",
      "Finding P eigenvectors and eigenvalues.\n",
      "Calculating the energy levels.\n",
      "7\n",
      "Constructing the N matrices.\n",
      "Constructing the H matrices.\n",
      "Finding the eigenvectors and eigenvalues of the N matrices.\n"
     ]
    },
    {
     "name": "stderr",
     "output_type": "stream",
     "text": [
      "c:\\Users\\myles\\Documents\\GitHub\\3-particle-quantum-systems\\header.py:69: RuntimeWarning: invalid value encountered in sqrt\n",
      "  invs_sqrt_beta[:,i,i]=1/np.sqrt(self.N_eigenvalues[:,i])\n"
     ]
    },
    {
     "name": "stdout",
     "output_type": "stream",
     "text": [
      "Constructing the Y matrices.\n",
      "Constructing the inverse square root beta matrices.\n",
      "Constructing the P matrices.\n",
      "Finding P eigenvectors and eigenvalues.\n",
      "Calculating the energy levels.\n",
      "8\n",
      "Constructing the N matrices.\n",
      "Constructing the H matrices.\n",
      "Finding the eigenvectors and eigenvalues of the N matrices.\n",
      "Constructing the Y matrices.\n",
      "Constructing the inverse square root beta matrices.\n",
      "Constructing the P matrices.\n",
      "Finding P eigenvectors and eigenvalues.\n",
      "Calculating the energy levels.\n",
      "9\n",
      "Constructing the N matrices.\n",
      "Constructing the H matrices.\n",
      "Finding the eigenvectors and eigenvalues of the N matrices.\n",
      "Constructing the Y matrices.\n",
      "Constructing the inverse square root beta matrices.\n",
      "Constructing the P matrices.\n",
      "Finding P eigenvectors and eigenvalues.\n",
      "Calculating the energy levels.\n",
      "10\n",
      "Constructing the N matrices.\n",
      "Constructing the H matrices.\n",
      "Finding the eigenvectors and eigenvalues of the N matrices.\n",
      "Constructing the Y matrices.\n",
      "Constructing the inverse square root beta matrices.\n",
      "Constructing the P matrices.\n",
      "Finding P eigenvectors and eigenvalues.\n",
      "Calculating the energy levels.\n",
      "11\n",
      "Constructing the N matrices.\n",
      "Constructing the H matrices.\n",
      "Finding the eigenvectors and eigenvalues of the N matrices.\n",
      "Constructing the Y matrices.\n",
      "Constructing the inverse square root beta matrices.\n",
      "Constructing the P matrices.\n",
      "Finding P eigenvectors and eigenvalues.\n",
      "Calculating the energy levels.\n",
      "12\n",
      "Constructing the N matrices.\n",
      "Constructing the H matrices.\n",
      "Finding the eigenvectors and eigenvalues of the N matrices.\n",
      "Constructing the Y matrices.\n",
      "Constructing the inverse square root beta matrices.\n",
      "Constructing the P matrices.\n",
      "Finding P eigenvectors and eigenvalues.\n",
      "Calculating the energy levels.\n"
     ]
    },
    {
     "data": {
      "image/png": "[encoded data removed]",
      "text/plain": [
       "<Figure size 640x480 with 1 Axes>"
      ]
     },
     "metadata": {},
     "output_type": "display_data"
    }
   ],
   "source": [
    "\n",
    "E=[]\n",
    "\n",
    "ns=[1,2,3,4,5,6,7,8,9,10,11,12]\n",
    "\n",
    "for n in ns:\n",
    "    print(n)\n",
    "    subspace=Subspace(n**3)\n",
    "\n",
    "    subspace.set_N_func(N_func)\n",
    "    subspace.set_H_func(H_func)\n",
    "\n",
    "    param_range=np.geomspace(0.01,100,n)\n",
    "    params=np.expand_dims(np.array(np.meshgrid(param_range,param_range,param_range,indexing='ij')).reshape(3,-1),-1)\n",
    "\n",
    "    subspace.set_params(1,params)\n",
    "\n",
    "    subspace.make_N_mats_vectorized()\n",
    "    subspace.make_H_mats_vectorized()\n",
    "    subspace.find_N_eigens()\n",
    "    subspace.make_Y_mats()\n",
    "    subspace.make_invs_sqrt_beta_mats()\n",
    "    subspace.make_P_mats()\n",
    "    subspace.find_P_eigens()\n",
    "    subspace.find_energy_levels()\n",
    "\n",
    "    E.append(subspace.energy_levels[:,0])\n",
    "    \n",
    "import matplotlib.pyplot as plt\n",
    "plt.scatter(np.arange(len(E)),E)\n",
    "\n",
    "plt.show()"
   ]
  },
  {
   "cell_type": "code",
   "execution_count": 7,
   "metadata": {},
   "outputs": [
    {
     "name": "stdout",
     "output_type": "stream",
     "text": [
      "[array([-2.15573467e+13]), array([-2.15573467e+13]), array([nan]), array([nan]), array([nan]), array([nan]), array([nan]), array([nan]), array([nan]), array([nan]), array([nan]), array([nan])]\n"
     ]
    }
   ],
   "source": [
    "print(E)"
   ]
  },
  {
   "cell_type": "code",
   "execution_count": null,
   "metadata": {},
   "outputs": [],
   "source": [
    "print()"
   ]
  }
 ],
 "metadata": {
  "kernelspec": {
   "display_name": "Python 3",
   "language": "python",
   "name": "python3"
  },
  "language_info": {
   "codemirror_mode": {
    "name": "ipython",
    "version": 3
   },
   "file_extension": ".py",
   "mimetype": "text/x-python",
   "name": "python",
   "nbconvert_exporter": "python",
   "pygments_lexer": "ipython3",
   "version": "3.12.9"
  }
 },
 "nbformat": 4,
 "nbformat_minor": 2
}
