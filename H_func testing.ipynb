{
 "cells": [
  {
   "cell_type": "code",
   "execution_count": 1,
   "metadata": {},
   "outputs": [],
   "source": [
    "from header import *\n",
    "import scipy.constants as cnst"
   ]
  },
  {
   "cell_type": "code",
   "execution_count": 2,
   "metadata": {},
   "outputs": [],
   "source": [
    "# --- constants --- \n",
    "\n",
    "#masses of nuclear particles:\n",
    "        \n",
    "#time unit in seconds \n",
    "T_unit=10**(-15)\n",
    "L_unit=10**(-11)\n",
    "E_unit=cnst.eV\n",
    "M_unit=E_unit*T_unit**2/L_unit**2\n",
    "\n",
    "assert(M_unit==E_unit*T_unit**2/L_unit**2)\n",
    "\n",
    "#mass of the alpha particle\n",
    "m1=(cnst.physical_constants['alpha particle mass'][0])/M_unit\n",
    "\n",
    "#mass of the muon\n",
    "m2=(cnst.physical_constants['muon mass'][0])/M_unit\n",
    "\n",
    "#mass of the electron\n",
    "m3=cnst.m_e/M_unit\n",
    "\n",
    "m2=m3\n",
    "\n",
    "#hbar\n",
    "hbar=cnst.hbar/(E_unit*T_unit)\n",
    "\n",
    "#elementry charge\n",
    "e=cnst.e\n",
    "\n",
    "#vacume permiativity\n",
    "epsilon0=(cnst.physical_constants['vacuum electric permittivity'][0])*L_unit*E_unit\n",
    "\n"
   ]
  },
  {
   "cell_type": "code",
   "execution_count": 3,
   "metadata": {},
   "outputs": [],
   "source": [
    "#prefactor\n",
    "def pref(lambdas):\n",
    "    return (\n",
    "        lambdas[0]/np.sqrt(lambdas[3]*lambdas[6])\n",
    "        *lambdas[1]/np.sqrt(lambdas[4]*lambdas[7])\n",
    "        *lambdas[2]/np.sqrt(lambdas[5]*lambdas[8])\n",
    "        )\n",
    "\n",
    "#messy norm term\n",
    "def mnt(x,y,z): \n",
    "    return (x**2*(y+z)+y**2*(x+z)+z**2*(x+y)+x*y*z)\n",
    "\n",
    "def I110(lambdas):\n",
    "\n",
    "    I=(\n",
    "        0.5\n",
    "        *pref(lambdas)\n",
    "        *((2*lambdas[0]**2 + lambdas[0]*lambdas[1] + lambdas[0]*lambdas[2] + lambdas[1]*lambdas[2])\n",
    "        /(\n",
    "            np.sqrt(mnt(lambdas[3],lambdas[4],lambdas[5]))\n",
    "            *np.sqrt(mnt(lambdas[6],lambdas[7],lambdas[8])) \n",
    "        ))\n",
    "        )\n",
    "    \n",
    "    return I\n",
    "\n",
    "def I111(lambdas):\n",
    "\n",
    "    I=(\n",
    "        pref(lambdas)\n",
    "        *(mnt(lambdas[0],lambdas[1],lambdas[2])\n",
    "        /(\n",
    "            np.sqrt(mnt(lambdas[3],lambdas[4],lambdas[5]))\n",
    "            *np.sqrt(mnt(lambdas[6],lambdas[7],lambdas[8])) \n",
    "        ))\n",
    "        )\n",
    "    return I\n",
    "\n",
    "def I210(lambdas):\n",
    "        \n",
    "    I=(\n",
    "        pref(lambdas)\n",
    "        *((lambdas[0]**2*(3*lambdas[0]+2*lambdas[1]+lambdas[2])+lambdas[1]**2*(lambdas[0]+lambdas[2]) + lambdas[0]*lambdas[1]*lambdas[2])\n",
    "        /(\n",
    "            np.sqrt(mnt(lambdas[3],lambdas[4],lambdas[5]))\n",
    "            *np.sqrt(mnt(lambdas[6],lambdas[7],lambdas[8])) \n",
    "        ))\n",
    "        )\n",
    "    \n",
    "    return I\n",
    "\n",
    "def I300(lambdas):\n",
    "\n",
    "    I=(\n",
    "        3\n",
    "        *pref(lambdas)\n",
    "        *(lambdas[0]**2+lambdas[1]**2)/np.sqrt(mnt(lambdas[3],lambdas[4],lambdas[5]))\n",
    "        *(lambdas[0]+lambdas[1])/np.sqrt(mnt(lambdas[6],lambdas[7],lambdas[8]))\n",
    "        )\n",
    "\n",
    "    return I"
   ]
  },
  {
   "cell_type": "code",
   "execution_count": 4,
   "metadata": {},
   "outputs": [],
   "source": [
    "def N_func(i,j,alphas,betas,gammas):\n",
    "    lambdas=[\n",
    "        1/(np.conjugate(alphas[i])+alphas[j]+np.conjugate(betas[i])+betas[j]),1/(np.conjugate(alphas[i])+alphas[j]+np.conjugate(gammas[i])+gammas[j]),  1/(np.conjugate(betas[i])+betas[j]+np.conjugate(gammas[i])+gammas[j]),  \n",
    "        0.5/(np.real(alphas[i])+np.real(betas[i])), 0.5/(np.real(alphas[i])+np.real(gammas[i])), 0.5/(np.real(betas[i])+np.real(gammas[i])),\n",
    "         0.5/(np.real(alphas[j])+np.real(betas[j])), 0.5/(np.real(alphas[j])+np.real(gammas[j])), 0.5/(np.real(betas[j])+np.real(gammas[j]))\n",
    "        ]\n",
    "    I=I111(lambdas)\n",
    "    \n",
    "    return I"
   ]
  },
  {
   "cell_type": "code",
   "execution_count": 5,
   "metadata": {},
   "outputs": [],
   "source": [
    "def order(first,second,third,lambdas):\n",
    "    return [lambdas[first],lambdas[second],lambdas[third],\n",
    "            lambdas[3+first],lambdas[3+second],lambdas[3+third],\n",
    "            lambdas[6+first],lambdas[6+second],lambdas[6+third]]"
   ]
  },
  {
   "cell_type": "code",
   "execution_count": 6,
   "metadata": {},
   "outputs": [],
   "source": [
    "\n",
    "def H_func(i,j,alphas,betas,gammas):\n",
    "\n",
    "\tlambdas=[\n",
    "\t\t1/(np.conjugate(alphas[i])+alphas[j]+np.conjugate(betas[i])+betas[j]),1/(np.conjugate(alphas[i])+alphas[j]+np.conjugate(gammas[i])+gammas[j]),  1/(np.conjugate(betas[i])+betas[j]+np.conjugate(gammas[i])+gammas[j]),  \n",
    "\t\t0.5/(np.real(alphas[i])+np.real(betas[i])), 0.5/(np.real(alphas[i])+np.real(gammas[i])), 0.5/(np.real(betas[i])+np.real(gammas[i])),\n",
    "\t\t0.5/(np.real(alphas[j])+np.real(betas[j])), 0.5/(np.real(alphas[j])+np.real(gammas[j])), 0.5/(np.real(betas[j])+np.real(gammas[j]))\n",
    "\t\t]\n",
    "\n",
    "\tT=-0.5*hbar**2*(\n",
    "\t\t\t((alphas[j]**2+betas[j]**2)/m1  +  (alphas[j]**2+gammas[j]**2)/m2  +  (betas[j]**2+gammas[j]**2)/m3)*I111(lambdas)\n",
    "\t\t\t\n",
    "\t\t\t-2*alphas[j]*(1/m1+1/m2)*I110(order(2,1,0,lambdas))\n",
    "\t\t\t-2*betas[j]*(1/m1+1/m3)*I110(order(0,2,1,lambdas))  \n",
    "\t\t\t-2*gammas[j]*(1/m2+1/m3)*I110(lambdas) \n",
    "\t\t\t\t\n",
    "\t\t\t+alphas[j]*betas[j]/m1*(I210(lambdas)+I210(order(1,0,2,lambdas))-I300(order(2,1,0,lambdas)))\n",
    "\t\t\t+alphas[j]*gammas[j]/m2*(I210(order(0,2,1,lambdas))+I210(order(2,0,1,lambdas))-I300(order(1,0,2,lambdas)))\n",
    "\t\t\t+betas[j]*gammas[j]/m3*(I210(order(1,2,0,lambdas))+I210(order(2,1,0,lambdas))-I300(lambdas))\n",
    "\t\t\t)\n",
    "\t\n",
    "\t\n",
    "\tV=(e**2/(4*np.pi*epsilon0))*(-2*I110(order(2,1,0,lambdas))-2*I110(order(0,2,1,lambdas))+I110(lambdas))\n",
    "\n",
    "\treturn (T+V)"
   ]
  },
  {
   "cell_type": "code",
   "execution_count": 7,
   "metadata": {},
   "outputs": [
    {
     "name": "stdout",
     "output_type": "stream",
     "text": [
      "Constructing the N matrices.\n",
      "Constructing the H matrices.\n",
      "Finding the eigenvectors and eigenvalues of the N matrices.\n",
      "Constructing the Y matrices.\n",
      "Constructing the inverse square root beta matrices.\n",
      "Constructing the P matrices.\n",
      "Finding P eigenvectors and eigenvalues.\n",
      "Calculating the energy levels.\n",
      "[[-69.86106415 215.72425866]]\n"
     ]
    }
   ],
   "source": [
    "subspace=Subspace(2)\n",
    "\n",
    "subspace.set_N_func(N_func)\n",
    "subspace.set_H_func(H_func)\n",
    "\n",
    "params=np.array([\n",
    "    [[0.031],[0.1]],\n",
    "    [[0.031],[0.1]],\n",
    "    [[0.0045],[0.01]]])*L_unit/10**(-12)\n",
    "\n",
    "subspace.set_params(1,params)\n",
    "\n",
    "subspace.make_N_mats()\n",
    "subspace.make_H_mats()\n",
    "subspace.find_N_eigens()\n",
    "subspace.make_Y_mats()\n",
    "subspace.make_invs_sqrt_beta_mats()\n",
    "subspace.make_P_mats()\n",
    "subspace.find_P_eigens()\n",
    "subspace.find_energy_levels()\n",
    "\n",
    "print(subspace.energy_levels)"
   ]
  },
  {
   "cell_type": "code",
   "execution_count": 8,
   "metadata": {},
   "outputs": [
    {
     "name": "stdout",
     "output_type": "stream",
     "text": [
      "[[215.72425866 -69.86106415]]\n"
     ]
    }
   ],
   "source": [
    "print(subspace.P_eigenvalues)"
   ]
  },
  {
   "cell_type": "markdown",
   "metadata": {},
   "source": []
  },
  {
   "cell_type": "code",
   "execution_count": 9,
   "metadata": {},
   "outputs": [
    {
     "name": "stdout",
     "output_type": "stream",
     "text": [
      "Calculating the components of the energy eigenstates.\n",
      "[[[ 0.99953732 -0.0304163 ]\n",
      "  [ 0.49334438 -0.86983408]]]\n"
     ]
    }
   ],
   "source": [
    "subspace.find_energy_eigenstates()\n",
    "print(subspace.energy_eigenstates)"
   ]
  },
  {
   "cell_type": "code",
   "execution_count": 10,
   "metadata": {},
   "outputs": [
    {
     "name": "stdout",
     "output_type": "stream",
     "text": [
      "[[150.92019583 154.58918273]\n",
      " [ 92.5519004   -5.05700133]]\n"
     ]
    }
   ],
   "source": [
    "print(subspace.P_mats[0])# why not hermitian !!!!!!!!! :))))))))))))))))"
   ]
  },
  {
   "cell_type": "code",
   "execution_count": 11,
   "metadata": {},
   "outputs": [
    {
     "name": "stdout",
     "output_type": "stream",
     "text": [
      "[[1.        0.3946372]\n",
      " [0.3946372 1.       ]]\n"
     ]
    }
   ],
   "source": [
    "print(subspace.N_mats[0])"
   ]
  },
  {
   "cell_type": "code",
   "execution_count": 12,
   "metadata": {},
   "outputs": [
    {
     "name": "stdout",
     "output_type": "stream",
     "text": [
      "[[-71.38679382 -77.7081533 ]\n",
      " [-20.70600129 155.69558406]]\n"
     ]
    }
   ],
   "source": [
    "print(subspace.H_mats[0])# why not hermitian"
   ]
  },
  {
   "cell_type": "code",
   "execution_count": null,
   "metadata": {},
   "outputs": [],
   "source": []
  },
  {
   "cell_type": "code",
   "execution_count": 13,
   "metadata": {},
   "outputs": [
    {
     "name": "stdout",
     "output_type": "stream",
     "text": [
      "Constructing the N matrices.\n",
      "Constructing the H matrices.\n",
      "Finding the eigenvectors and eigenvalues of the N matrices.\n",
      "Constructing the Y matrices.\n",
      "Constructing the inverse square root beta matrices.\n",
      "Constructing the P matrices.\n",
      "Finding P eigenvectors and eigenvalues.\n",
      "Calculating the energy levels.\n",
      "[[-12.38135616]]\n"
     ]
    }
   ],
   "source": [
    "subspace=Subspace(1)\n",
    "\n",
    "subspace.set_N_func(N_func)\n",
    "subspace.set_H_func(H_func)\n",
    "\n",
    "params=np.array([\n",
    "    [[0.031]],\n",
    "    [[0.031]],\n",
    "    [[0.0045]]])\n",
    "\n",
    "subspace.set_params(1,params)\n",
    "\n",
    "subspace.make_N_mats()\n",
    "subspace.make_H_mats()\n",
    "subspace.find_N_eigens()\n",
    "subspace.make_Y_mats()\n",
    "subspace.make_invs_sqrt_beta_mats()\n",
    "subspace.make_P_mats()\n",
    "subspace.find_P_eigens()\n",
    "subspace.find_energy_levels()\n",
    "\n",
    "print(subspace.energy_levels)"
   ]
  },
  {
   "cell_type": "code",
   "execution_count": 14,
   "metadata": {},
   "outputs": [
    {
     "name": "stdout",
     "output_type": "stream",
     "text": [
      "1\n",
      "Constructing the N matrices.\n",
      "Constructing the H matrices.\n",
      "Finding the eigenvectors and eigenvalues of the N matrices.\n",
      "Constructing the Y matrices.\n",
      "Constructing the inverse square root beta matrices.\n",
      "Constructing the P matrices.\n",
      "Finding P eigenvectors and eigenvalues.\n",
      "Calculating the energy levels.\n",
      "2\n",
      "Constructing the N matrices.\n",
      "Constructing the H matrices.\n",
      "Finding the eigenvectors and eigenvalues of the N matrices.\n",
      "Constructing the Y matrices.\n",
      "Constructing the inverse square root beta matrices.\n",
      "Constructing the P matrices.\n",
      "Finding P eigenvectors and eigenvalues.\n",
      "Calculating the energy levels.\n",
      "3\n",
      "Constructing the N matrices.\n",
      "Constructing the H matrices.\n",
      "Finding the eigenvectors and eigenvalues of the N matrices.\n",
      "Constructing the Y matrices.\n",
      "Constructing the inverse square root beta matrices.\n",
      "Constructing the P matrices.\n",
      "Finding P eigenvectors and eigenvalues.\n",
      "Calculating the energy levels.\n",
      "4\n",
      "Constructing the N matrices.\n",
      "Constructing the H matrices.\n",
      "Finding the eigenvectors and eigenvalues of the N matrices.\n",
      "Constructing the Y matrices.\n",
      "Constructing the inverse square root beta matrices.\n",
      "Constructing the P matrices.\n",
      "Finding P eigenvectors and eigenvalues.\n",
      "Calculating the energy levels.\n",
      "5\n",
      "Constructing the N matrices.\n",
      "Constructing the H matrices.\n",
      "Finding the eigenvectors and eigenvalues of the N matrices.\n",
      "Constructing the Y matrices.\n",
      "Constructing the inverse square root beta matrices.\n",
      "Constructing the P matrices.\n",
      "Finding P eigenvectors and eigenvalues.\n",
      "Calculating the energy levels.\n"
     ]
    },
    {
     "name": "stderr",
     "output_type": "stream",
     "text": [
      "C:\\Users\\myles\\AppData\\Local\\Packages\\PythonSoftwareFoundation.Python.3.12_qbz5n2kfra8p0\\LocalCache\\local-packages\\Python312\\site-packages\\matplotlib\\collections.py:200: ComplexWarning: Casting complex values to real discards the imaginary part\n",
      "  offsets = np.asanyarray(offsets, float)\n"
     ]
    },
    {
     "data": {
      "image/png": "[encoded data removed]",
      "text/plain": [
       "<Figure size 640x480 with 1 Axes>"
      ]
     },
     "metadata": {},
     "output_type": "display_data"
    }
   ],
   "source": [
    "\n",
    "E=[]\n",
    "\n",
    "ns=[1,2,3,4,5]\n",
    "\n",
    "for n in ns:\n",
    "    print(n)\n",
    "    subspace=Subspace(n**2)\n",
    "\n",
    "    subspace.set_N_func(N_func)\n",
    "    subspace.set_H_func(H_func)\n",
    "\n",
    "    param_range=np.linspace(0.001,0.1,n)\n",
    "    params=np.expand_dims(np.array(np.meshgrid(param_range,param_range/10,indexing='ij')).reshape(2,-1),-1)\n",
    "    params=np.array([params[0],params[0],params[1]])*L_unit/10**(-12)\n",
    "\n",
    "    subspace.set_params(1,params)\n",
    "\n",
    "    subspace.make_N_mats_vectorized()\n",
    "    subspace.make_H_mats_vectorized()\n",
    "    subspace.find_N_eigens()\n",
    "    subspace.make_Y_mats()\n",
    "    subspace.make_invs_sqrt_beta_mats()\n",
    "    subspace.make_P_mats()\n",
    "    subspace.find_P_eigens()\n",
    "    subspace.find_energy_levels()\n",
    "\n",
    "    E.append(subspace.energy_levels[:,0])\n",
    "    \n",
    "import matplotlib.pyplot as plt\n",
    "plt.scatter(np.arange(len(E)),E)\n",
    "\n",
    "plt.show()"
   ]
  },
  {
   "cell_type": "code",
   "execution_count": null,
   "metadata": {},
   "outputs": [
    {
     "data": {
      "text/plain": [
       "  message: Desired error not necessarily achieved due to precision loss.\n",
       "  success: False\n",
       "   status: 2\n",
       "      fun: -48.70829241212152\n",
       "        x: [ 8.706e-01  3.108e-01  4.805e-01]\n",
       "      nit: 1\n",
       "      jac: [-4.260e+02  1.109e+03  6.480e+02]\n",
       " hess_inv: [[ 5.720e+00 -1.771e-01  1.301e+00]\n",
       "            [-1.771e-01  3.274e-01 -5.246e-01]\n",
       "            [ 1.301e+00 -5.246e-01  1.025e+00]]\n",
       "     nfev: 347\n",
       "     njev: 85"
      ]
     },
     "execution_count": 15,
     "metadata": {},
     "output_type": "execute_result"
    }
   ],
   "source": [
    "from scipy.optimize import minimize\n",
    "\n",
    "def f(x):\n",
    "    if np.any(x<=0):\n",
    "        return 10000\n",
    "\n",
    "    return H_func(0,0,[x[0]],[x[1]],[x[2]])\n",
    "\n",
    "minimize(f,x0=[0.1,0.1,0.1])\n",
    "\n"
   ]
  },
  {
   "cell_type": "code",
   "execution_count": null,
   "metadata": {},
   "outputs": [],
   "source": []
  }
 ],
 "metadata": {
  "kernelspec": {
   "display_name": "Python 3",
   "language": "python",
   "name": "python3"
  },
  "language_info": {
   "codemirror_mode": {
    "name": "ipython",
    "version": 3
   },
   "file_extension": ".py",
   "mimetype": "text/x-python",
   "name": "python",
   "nbconvert_exporter": "python",
   "pygments_lexer": "ipython3",
   "version": "3.12.9"
  }
 },
 "nbformat": 4,
 "nbformat_minor": 2
}
