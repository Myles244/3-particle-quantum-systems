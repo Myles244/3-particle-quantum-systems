{
 "cells": [
  {
   "cell_type": "code",
   "execution_count": 13,
   "metadata": {},
   "outputs": [],
   "source": [
    "from exponential import *\n",
    "from scipy.optimize import minimize"
   ]
  },
  {
   "cell_type": "code",
   "execution_count": 28,
   "metadata": {},
   "outputs": [],
   "source": [
    "def f(x):\n",
    "    theseparams=x.reshape(3,-1,order='F')\n",
    "\n",
    "    for i in range(theseparams.shape[1]):\n",
    "        a,b,c=theseparams[:,i].flatten()\n",
    "        if a<0 or b<0 or c<0 or (a==0 and b==0) or (a==0 and c==0) or (b==0 and c==0):\n",
    "            return 1000\n",
    "        \n",
    "    subspace=Subspace(theseparams.shape[1])\n",
    "\n",
    "    subspace.set_N_func(N_func)\n",
    "    subspace.set_H_func(H_func)\n",
    "\n",
    "    subspace.set_params(theseparams)\n",
    "\n",
    "    subspace.make_N_mat()\n",
    "    subspace.make_H_mat()\n",
    "    subspace.find_N_eigens()\n",
    "    subspace.make_Y_mat()\n",
    "    subspace.make_invs_sqrt_beta_mats()\n",
    "    subspace.make_P_mats()\n",
    "    subspace.find_P_eigens()\n",
    "    subspace.find_energy_levels()\n",
    "    return subspace.energy_levels[0]\n",
    "    "
   ]
  },
  {
   "cell_type": "code",
   "execution_count": 29,
   "metadata": {},
   "outputs": [],
   "source": [
    "x=np.array([\n",
    "    1,1,1,\n",
    "    206,1,1,\n",
    "    1,1,0,\n",
    "    1,0,1,\n",
    "    0,1,1\n",
    "])"
   ]
  },
  {
   "cell_type": "code",
   "execution_count": 30,
   "metadata": {},
   "outputs": [],
   "source": [
    "cons = [\n",
    "    {'type':'eq', 'fun': lambda x: x[3]-206*x[4]},\n",
    "    {'type':'eq', 'fun': lambda x: x[8]},\n",
    "    {'type':'eq', 'fun': lambda x: x[10]},\n",
    "    {'type':'eq', 'fun': lambda x: x[12]}\n",
    "    ]"
   ]
  },
  {
   "cell_type": "code",
   "execution_count": 31,
   "metadata": {},
   "outputs": [
    {
     "data": {
      "text/plain": [
       " message: Optimization terminated successfully\n",
       " success: True\n",
       "  status: 0\n",
       "     fun: -402.1747219359467465621201350876756755707864785267400204252858817859369361790835320318185929478975539\n",
       "       x: [ 1.168e+00  1.020e+00 ...  1.069e+00  1.068e+00]\n",
       "     nit: 70\n",
       "     jac: [-1.781e-07 -5.030e-08 ... -4.650e-08 -4.612e-08]\n",
       "    nfev: 1364\n",
       "    njev: 70"
      ]
     },
     "execution_count": 31,
     "metadata": {},
     "output_type": "execute_result"
    }
   ],
   "source": [
    "minimize(f,x0=x,method='SLSQP',constraints=cons)"
   ]
  },
  {
   "cell_type": "code",
   "execution_count": 1,
   "metadata": {},
   "outputs": [
    {
     "ename": "NameError",
     "evalue": "name 'N' is not defined",
     "output_type": "error",
     "traceback": [
      "\u001b[1;31m---------------------------------------------------------------------------\u001b[0m",
      "\u001b[1;31mNameError\u001b[0m                                 Traceback (most recent call last)",
      "Cell \u001b[1;32mIn[1], line 2\u001b[0m\n\u001b[0;32m      1\u001b[0m \u001b[38;5;28;01mimport\u001b[39;00m\u001b[38;5;250m \u001b[39m\u001b[38;5;21;01mmatplotlib\u001b[39;00m\u001b[38;5;21;01m.\u001b[39;00m\u001b[38;5;21;01mpyplot\u001b[39;00m\u001b[38;5;250m \u001b[39m\u001b[38;5;28;01mas\u001b[39;00m\u001b[38;5;250m \u001b[39m\u001b[38;5;21;01mplt\u001b[39;00m\n\u001b[1;32m----> 2\u001b[0m plt\u001b[38;5;241m.\u001b[39mscatter(\u001b[43mN\u001b[49m,E)\n",
      "\u001b[1;31mNameError\u001b[0m: name 'N' is not defined"
     ]
    }
   ],
   "source": [
    "import matplotlib.pyplot as plt\n",
    "plt.scatter(N,E)"
   ]
  },
  {
   "cell_type": "code",
   "execution_count": null,
   "metadata": {},
   "outputs": [
    {
     "name": "stdout",
     "output_type": "stream",
     "text": [
      "-398.76428146133927412075613881047826368329396404881\n"
     ]
    }
   ],
   "source": [
    "print(E[3])"
   ]
  },
  {
   "cell_type": "code",
   "execution_count": null,
   "metadata": {},
   "outputs": [],
   "source": [
    "def term(ai,bi,ci,aj,bj,cj):\n",
    "    Ai=2*np.real(ai)+2*np.real(bi)\n",
    "    Bi=2*np.real(ai)+2*np.real(ci)\n",
    "    Ci=2*np.real(bi)+2*np.real(ci)\n",
    "    Aj=2*np.real(aj)+2*np.real(bj)\n",
    "    Bj=2*np.real(aj)+2*np.real(cj)\n",
    "    Cj=2*np.real(bj)+2*np.real(cj)\n",
    "\n",
    "    return (\n",
    "        np.sqrt(Ai*Aj)/(np.conjugate(ai+bi)+aj+bj)\n",
    "        *np.sqrt(Bi*Bj)/(np.conjugate(ai+bi)+aj+bj)\n",
    "        *np.sqrt(Ci*Cj)/(np.conjugate(ai+bi)+aj+bj)\n",
    "        *Ai*Bi*Ci/np.sqrt( Ai**2 * (Bi + Ci) + Bi**2 * (Ai + Ci) + Ci**2 * (Ai + Bi) + Ai*Bi*Ci)\n",
    "        *Aj*Bj*Cj/np.sqrt( Aj**2 * (Bj + Cj) + Bj**2 * (Aj + Cj) + Cj**2 * (Aj + Bj) + Aj*Bj*Cj)\n",
    "    )"
   ]
  },
  {
   "cell_type": "code",
   "execution_count": null,
   "metadata": {},
   "outputs": [],
   "source": [
    "def delta(Amplitudes,params):\n",
    "    ais, ajs=np.meshgrid(params[0],params[0])\n",
    "    bis, bjs=np.meshgrid(params[1],params[1])\n",
    "    cis, cjs=np.meshgrid(params[2],params[2])\n",
    "    Ampis,Ampjs=np.meshgrid(Amplitudes,Amplitudes)\n",
    "    terms=term(ais,bis,cis,ajs,bjs,cjs)\n",
    "    sum=np.sum(np.conjugate(Ampis)*Ampjs*terms)\n",
    "    return sum/(4*np.pi)"
   ]
  },
  {
   "cell_type": "code",
   "execution_count": null,
   "metadata": {},
   "outputs": [
    {
     "data": {
      "text/plain": [
       "(3, 20)"
      ]
     },
     "execution_count": 7,
     "metadata": {},
     "output_type": "execute_result"
    }
   ],
   "source": [
    "np.array(params).transpose().shape"
   ]
  },
  {
   "cell_type": "code",
   "execution_count": null,
   "metadata": {},
   "outputs": [
    {
     "name": "stdout",
     "output_type": "stream",
     "text": [
      "0\n",
      "1\n",
      "2\n",
      "3\n",
      "4\n",
      "5\n",
      "6\n",
      "7\n",
      "8\n",
      "9\n",
      "10\n",
      "11\n",
      "12\n",
      "13\n",
      "14\n",
      "15\n",
      "16\n",
      "17\n",
      "18\n",
      "19\n"
     ]
    }
   ],
   "source": [
    "D=[]\n",
    "for i in range(len(N)):\n",
    "    print(i)\n",
    "    D.append(delta(A[i],np.array(params).transpose()[:,:i+1]))"
   ]
  },
  {
   "cell_type": "code",
   "execution_count": null,
   "metadata": {},
   "outputs": [
    {
     "data": {
      "text/plain": [
       "<matplotlib.collections.PathCollection at 0x1cc7fe3d700>"
      ]
     },
     "execution_count": 9,
     "metadata": {},
     "output_type": "execute_result"
    },
    {
     "data": {
      "image/png": "[encoded data removed]",
      "text/plain": [
       "<Figure size 640x480 with 1 Axes>"
      ]
     },
     "metadata": {},
     "output_type": "display_data"
    }
   ],
   "source": [
    "plt.scatter(N,D)"
   ]
  },
  {
   "cell_type": "code",
   "execution_count": null,
   "metadata": {},
   "outputs": [
    {
     "name": "stdout",
     "output_type": "stream",
     "text": [
      "0.31512424223055325461353223795319125854202801053172\n"
     ]
    }
   ],
   "source": [
    "print(D[-1])"
   ]
  }
 ],
 "metadata": {
  "kernelspec": {
   "display_name": "Python 3",
   "language": "python",
   "name": "python3"
  },
  "language_info": {
   "codemirror_mode": {
    "name": "ipython",
    "version": 3
   },
   "file_extension": ".py",
   "mimetype": "text/x-python",
   "name": "python",
   "nbconvert_exporter": "python",
   "pygments_lexer": "ipython3",
   "version": "3.12.9"
  }
 },
 "nbformat": 4,
 "nbformat_minor": 2
}
