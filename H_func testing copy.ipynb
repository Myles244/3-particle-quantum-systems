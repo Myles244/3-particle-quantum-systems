{
 "cells": [
  {
   "cell_type": "code",
   "execution_count": 1,
   "metadata": {},
   "outputs": [],
   "source": [
    "from header import *\n",
    "import scipy.constants as cnst"
   ]
  },
  {
   "cell_type": "code",
   "execution_count": 2,
   "metadata": {},
   "outputs": [],
   "source": [
    "# --- constants --- \n",
    "\n",
    "#masses of nuclear particles:\n",
    "        \n",
    "#time unit in seconds \n",
    "T_unit=10**(-15)\n",
    "L_unit=10**(-12)\n",
    "E_unit=cnst.eV\n",
    "M_unit=E_unit*T_unit**2/L_unit**2\n",
    "\n",
    "assert(M_unit==E_unit*T_unit**2/L_unit**2)\n",
    "\n",
    "#mass of the alpha particle\n",
    "m1=(cnst.physical_constants['alpha particle mass'][0])/M_unit\n",
    "\n",
    "#mass of the muon\n",
    "m2=(cnst.physical_constants['muon mass'][0])/M_unit\n",
    "\n",
    "#mass of the electron\n",
    "m3=cnst.m_e/M_unit\n",
    "\n",
    "m2=m3\n",
    "m1=m3\n",
    "\n",
    "#hbar\n",
    "hbar=cnst.hbar/(E_unit*T_unit)\n",
    "\n",
    "#elementry charge\n",
    "e=cnst.e\n",
    "\n",
    "#vacume permiativity\n",
    "epsilon0=(cnst.physical_constants['vacuum electric permittivity'][0])*L_unit*E_unit\n",
    "\n"
   ]
  },
  {
   "cell_type": "code",
   "execution_count": 3,
   "metadata": {},
   "outputs": [],
   "source": [
    "#prefactor\n",
    "def pref(lambdas):\n",
    "    return (\n",
    "        lambdas[0]/np.sqrt(lambdas[3]*lambdas[6])\n",
    "        *lambdas[1]/np.sqrt(lambdas[4]*lambdas[7])\n",
    "        *lambdas[2]/np.sqrt(lambdas[5]*lambdas[8])\n",
    "        )\n",
    "\n",
    "#messy norm term\n",
    "def mnt(x,y,z): \n",
    "    return (x**2*(y+z)+y**2*(x+z)+z**2*(x+y)+x*y*z)\n",
    "\n",
    "def I110(lambdas):\n",
    "\n",
    "    I=(\n",
    "        0.5\n",
    "        *pref(lambdas)\n",
    "        *((2*lambdas[0]**2 + lambdas[0]*lambdas[1] + lambdas[0]*lambdas[2] + lambdas[1]*lambdas[2])\n",
    "        /(\n",
    "            np.sqrt(mnt(lambdas[3],lambdas[4],lambdas[5]))\n",
    "            *np.sqrt(mnt(lambdas[6],lambdas[7],lambdas[8])) \n",
    "        ))\n",
    "        )\n",
    "    \n",
    "    return I\n",
    "\n",
    "def I111(lambdas):\n",
    "\n",
    "    I=(\n",
    "        pref(lambdas)\n",
    "        *(mnt(lambdas[0],lambdas[1],lambdas[2])\n",
    "        /(\n",
    "            np.sqrt(mnt(lambdas[3],lambdas[4],lambdas[5]))\n",
    "            *np.sqrt(mnt(lambdas[6],lambdas[7],lambdas[8])) \n",
    "        ))\n",
    "        )\n",
    "    return I\n",
    "\n",
    "def I210(lambdas):\n",
    "        \n",
    "    I=(\n",
    "        pref(lambdas)\n",
    "        *((lambdas[0]**2*(3*lambdas[0]+2*lambdas[1]+lambdas[2])+lambdas[1]**2*(lambdas[0]+lambdas[2]) + lambdas[0]*lambdas[1]*lambdas[2])\n",
    "        /(\n",
    "            np.sqrt(mnt(lambdas[3],lambdas[4],lambdas[5]))\n",
    "            *np.sqrt(mnt(lambdas[6],lambdas[7],lambdas[8])) \n",
    "        ))\n",
    "        )\n",
    "    \n",
    "    return I\n",
    "\n",
    "def I300(lambdas):\n",
    "\n",
    "    I=(\n",
    "        3\n",
    "        *pref(lambdas)\n",
    "        *(lambdas[0]**2+lambdas[1]**2)/np.sqrt(mnt(lambdas[3],lambdas[4],lambdas[5]))\n",
    "        *(lambdas[0]+lambdas[1])/np.sqrt(mnt(lambdas[6],lambdas[7],lambdas[8]))\n",
    "        )\n",
    "\n",
    "    return I"
   ]
  },
  {
   "cell_type": "code",
   "execution_count": 4,
   "metadata": {},
   "outputs": [],
   "source": [
    "def N_func(i,j,alphas,betas,gammas):\n",
    "    lambdas=[\n",
    "        1/(np.conjugate(alphas[i])+alphas[j]+np.conjugate(betas[i])+betas[j]),1/(np.conjugate(alphas[i])+alphas[j]+np.conjugate(gammas[i])+gammas[j]),  1/(np.conjugate(betas[i])+betas[j]+np.conjugate(gammas[i])+gammas[j]),  \n",
    "        0.5/(np.real(alphas[i])+np.real(betas[i])), 0.5/(np.real(alphas[i])+np.real(gammas[i])), 0.5/(np.real(betas[i])+np.real(gammas[i])),\n",
    "         0.5/(np.real(alphas[j])+np.real(betas[j])), 0.5/(np.real(alphas[j])+np.real(gammas[j])), 0.5/(np.real(betas[j])+np.real(gammas[j]))\n",
    "        ]\n",
    "    I=I111(lambdas)\n",
    "    \n",
    "    return I"
   ]
  },
  {
   "cell_type": "code",
   "execution_count": 5,
   "metadata": {},
   "outputs": [],
   "source": [
    "def order(first,second,third,lambdas):\n",
    "    return [lambdas[first+second-1],lambdas[first+third-1],lambdas[second+third-1],\n",
    "            lambdas[3],lambdas[4],lambdas[5],\n",
    "            lambdas[6],lambdas[7],lambdas[8]\n",
    "            ]"
   ]
  },
  {
   "cell_type": "code",
   "execution_count": 6,
   "metadata": {},
   "outputs": [],
   "source": [
    "\n",
    "def H_func(i,j,alphas,betas,gammas):\n",
    "\n",
    "\tlambdas=[\n",
    "\t\t1/(np.conjugate(alphas[i])+alphas[j]+np.conjugate(betas[i])+betas[j]),1/(np.conjugate(alphas[i])+alphas[j]+np.conjugate(gammas[i])+gammas[j]),  1/(np.conjugate(betas[i])+betas[j]+np.conjugate(gammas[i])+gammas[j]),  \n",
    "\t\t0.5/(np.real(alphas[i])+np.real(betas[i])), 0.5/(np.real(alphas[i])+np.real(gammas[i])), 0.5/(np.real(betas[i])+np.real(gammas[i])),\n",
    "\t\t0.5/(np.real(alphas[j])+np.real(betas[j])), 0.5/(np.real(alphas[j])+np.real(gammas[j])), 0.5/(np.real(betas[j])+np.real(gammas[j]))\n",
    "\t\t]\n",
    "\n",
    "\tT=-0.5*hbar**2*(\n",
    "\t\t\t((alphas[j]**2+betas[j]**2)/m1  +  (alphas[j]**2+gammas[j]**2)/m2  +  (betas[j]**2+gammas[j]**2)/m3)*I111(lambdas)\n",
    "\t\t\t\n",
    "\t\t\t-2*alphas[j]*(1/m1+1/m2)*I110(order(1,2,0,lambdas))\n",
    "\t\t\t-2*betas[j]*(1/m1+1/m3)*I110(order(0,2,1,lambdas))  \n",
    "\t\t\t-2*gammas[j]*(1/m2+1/m3)*I110(lambdas) \n",
    "\t\t\t\t\n",
    "\t\t\t+alphas[j]*betas[j]/m1*(I210(order(0,2,1,lambdas))+I210(order(1,2,0,lambdas))-I300(order(2,0,1,lambdas)))\n",
    "\t\t\t+alphas[j]*gammas[j]/m2*(I210(lambdas)+I210(order(2,1,0,lambdas))-I300(order(1,0,2,lambdas)))\n",
    "\t\t\t+betas[j]*gammas[j]/m3*(I210(order(1,0,2,lambdas))+I210(order(2,0,1,lambdas))-I300(lambdas))\n",
    "\t\t\t)\n",
    "\t\n",
    "\tV=(e**2/(4*np.pi*epsilon0))*(-2*I110(order(1,2,0,lambdas))-2*I110(order(0,2,1,lambdas))+I110(lambdas))\n",
    "\n",
    "\tprint(T,V)\n"
   ]
  },
  {
   "cell_type": "code",
   "execution_count": 7,
   "metadata": {},
   "outputs": [
    {
     "name": "stdout",
     "output_type": "stream",
     "text": [
      "1720127.9364174297 -9722.825629034796\n",
      "1720127.9364174288 -9722.825629034796\n"
     ]
    }
   ],
   "source": [
    "p=np.array([[1,4],\n",
    "    [2,5],\n",
    "    [3,6]])\n",
    "H_func(0,1,*p)\n",
    "H_func(1,0,*p)"
   ]
  },
  {
   "cell_type": "code",
   "execution_count": 8,
   "metadata": {},
   "outputs": [
    {
     "name": "stdout",
     "output_type": "stream",
     "text": [
      "I111 0.5186279384097199\n",
      "\n",
      "I110 2.8873321483394934\n",
      "I101 2.5268489029285597\n",
      "I011 2.2928814119166567\n",
      "\n",
      "I210 0.8370836900648111\n",
      "I201 0.6974459493973891\n",
      "I021 0.5800444048003446\n",
      "I012 0.5345507259924746\n",
      "I120 0.7976558350979902\n",
      "I102 0.6129576887542018\n",
      "\n",
      "I300 1.0943241378546185\n",
      "I030 0.9288292756606824\n",
      "I003 0.7081694594021013\n"
     ]
    }
   ],
   "source": [
    "alphas=[1,4]\n",
    "betas=[2,5]\n",
    "gammas=[3,6]\n",
    "i=0\n",
    "j=1\n",
    "lambdas=[\n",
    "\t\t1/(np.conjugate(alphas[i])+alphas[j]+np.conjugate(betas[i])+betas[j]),1/(np.conjugate(alphas[i])+alphas[j]+np.conjugate(gammas[i])+gammas[j]),  1/(np.conjugate(betas[i])+betas[j]+np.conjugate(gammas[i])+gammas[j]),  \n",
    "\t\t0.5/(np.real(alphas[i])+np.real(betas[i])), 0.5/(np.real(alphas[i])+np.real(gammas[i])), 0.5/(np.real(betas[i])+np.real(gammas[i])),\n",
    "\t\t0.5/(np.real(alphas[j])+np.real(betas[j])), 0.5/(np.real(alphas[j])+np.real(gammas[j])), 0.5/(np.real(betas[j])+np.real(gammas[j]))\n",
    "\t\t]\n",
    "\n",
    "print(\"I111\",I111(lambdas))\n",
    "print()\n",
    "print(\"I110\",I110(lambdas))\n",
    "print(\"I101\",I110(order(0,2,1,lambdas)))\n",
    "print(\"I011\",I110(order(1,2,0,lambdas)))\n",
    "print()\n",
    "print(\"I210\",I210(lambdas))\n",
    "print(\"I201\",I210(order(0,2,1,lambdas)))\n",
    "print(\"I021\",I210(order(1,2,0,lambdas)))\n",
    "print(\"I012\",I210(order(2,1,0,lambdas)))\n",
    "print(\"I120\",I210(order(1,0,2,lambdas)))\n",
    "print(\"I102\",I210(order(2,0,1,lambdas)))\n",
    "print()\n",
    "print(\"I300\",I300(lambdas))\n",
    "print(\"I030\",I300(order(1,0,2,lambdas)))\n",
    "print(\"I003\",I300(order(2,0,1,lambdas)))"
   ]
  },
  {
   "cell_type": "code",
   "execution_count": 9,
   "metadata": {},
   "outputs": [
    {
     "name": "stdout",
     "output_type": "stream",
     "text": [
      "-10.303111274830544\n",
      "21.263745474798515 -43.61154032461885 12.044683574989792\n"
     ]
    }
   ],
   "source": [
    "dell1=(alphas[j]**2+betas[j]**2)*I111(lambdas)-2*alphas[j]*I110(order(1,2,0,lambdas))-2*betas[j]*I110(order(0,2,1,lambdas))  +alphas[j]*betas[j]*(I210(order(0,2,1,lambdas))+I210(order(2,0,1,lambdas))-I300(order(2,0,1,lambdas)))\n",
    "print(dell1)\n",
    "print((alphas[j]**2+betas[j]**2)*I111(lambdas),-2*alphas[j]*I110(order(1,2,0,lambdas))-2*betas[j]*I110(order(0,2,1,lambdas)),+alphas[j]*betas[j]*(I210(order(0,2,1,lambdas))+I210(order(2,0,1,lambdas))-I300(order(2,0,1,lambdas))))"
   ]
  },
  {
   "cell_type": "code",
   "execution_count": 10,
   "metadata": {},
   "outputs": [
    {
     "name": "stdout",
     "output_type": "stream",
     "text": [
      "12.044683574989792\n",
      "20 0.6974459493973891 0.6129576887542018 -0.7081694594021013\n"
     ]
    }
   ],
   "source": [
    "print(alphas[j]*betas[j]*(I210(order(0,2,1,lambdas))+I210(order(2,0,1,lambdas))-I300(order(2,0,1,lambdas))))\n",
    "print(alphas[j]*betas[j],I210(order(0,2,1,lambdas)),I210(order(2,0,1,lambdas)),-I300(order(2,0,1,lambdas)))"
   ]
  },
  {
   "cell_type": "code",
   "execution_count": 11,
   "metadata": {},
   "outputs": [
    {
     "name": "stdout",
     "output_type": "stream",
     "text": [
      "I111 0.5186279384097199\n",
      "\n",
      "I110 2.8873321483394934\n",
      "I101 2.5268489029285597\n",
      "I011 2.2928814119166567\n",
      "\n",
      "I210 0.8370836900648111\n",
      "I201 0.6974459493973891\n",
      "I021 0.5800444048003446\n",
      "I012 0.5345507259924746\n",
      "I120 0.7976558350979902\n",
      "I102 0.6129576887542018\n",
      "\n",
      "I300 1.0943241378546185\n",
      "I030 0.9288292756606824\n",
      "I003 0.7081694594021013\n"
     ]
    }
   ],
   "source": [
    "\n",
    "i=1\n",
    "j=0\n",
    "lambdas=[\n",
    "\t\t1/(np.conjugate(alphas[i])+alphas[j]+np.conjugate(betas[i])+betas[j]),1/(np.conjugate(alphas[i])+alphas[j]+np.conjugate(gammas[i])+gammas[j]),  1/(np.conjugate(betas[i])+betas[j]+np.conjugate(gammas[i])+gammas[j]),  \n",
    "\t\t0.5/(np.real(alphas[i])+np.real(betas[i])), 0.5/(np.real(alphas[i])+np.real(gammas[i])), 0.5/(np.real(betas[i])+np.real(gammas[i])),\n",
    "\t\t0.5/(np.real(alphas[j])+np.real(betas[j])), 0.5/(np.real(alphas[j])+np.real(gammas[j])), 0.5/(np.real(betas[j])+np.real(gammas[j]))\n",
    "\t\t]\n",
    "\n",
    "print(\"I111\",I111(lambdas))\n",
    "print()\n",
    "print(\"I110\",I110(lambdas))\n",
    "print(\"I101\",I110(order(0,2,1,lambdas)))\n",
    "print(\"I011\",I110(order(1,2,0,lambdas)))\n",
    "print()\n",
    "print(\"I210\",I210(lambdas))\n",
    "print(\"I201\",I210(order(0,2,1,lambdas)))\n",
    "print(\"I021\",I210(order(1,2,0,lambdas)))\n",
    "print(\"I012\",I210(order(2,1,0,lambdas)))\n",
    "print(\"I120\",I210(order(1,0,2,lambdas)))\n",
    "print(\"I102\",I210(order(2,0,1,lambdas)))\n",
    "print()\n",
    "print(\"I300\",I300(lambdas))\n",
    "print(\"I030\",I300(order(1,0,2,lambdas)))\n",
    "print(\"I003\",I300(order(2,0,1,lambdas)))"
   ]
  },
  {
   "cell_type": "code",
   "execution_count": 12,
   "metadata": {},
   "outputs": [
    {
     "name": "stdout",
     "output_type": "stream",
     "text": [
      "-10.895550385999975\n",
      "2.5931396920485996 -14.693158435547552 1.2044683574989792\n"
     ]
    }
   ],
   "source": [
    "dell1=(alphas[j]**2+betas[j]**2)*I111(lambdas)-2*alphas[j]*I110(order(1,2,0,lambdas))-2*betas[j]*I110(order(0,2,1,lambdas))  +alphas[j]*betas[j]*(I210(order(0,2,1,lambdas))+I210(order(2,0,1,lambdas))-I300(order(2,0,1,lambdas)))\n",
    "print(dell1)\n",
    "print((alphas[j]**2+betas[j]**2)*I111(lambdas),-2*alphas[j]*I110(order(1,2,0,lambdas))-2*betas[j]*I110(order(0,2,1,lambdas)),+alphas[j]*betas[j]*(I210(order(0,2,1,lambdas))+I210(order(2,0,1,lambdas))-I300(order(2,0,1,lambdas))))"
   ]
  },
  {
   "cell_type": "code",
   "execution_count": 13,
   "metadata": {},
   "outputs": [
    {
     "name": "stdout",
     "output_type": "stream",
     "text": [
      "1.2044683574989792\n",
      "2 0.6974459493973891 0.6129576887542018 -0.7081694594021013\n"
     ]
    }
   ],
   "source": [
    "print(alphas[j]*betas[j]*(I210(order(0,2,1,lambdas))+I210(order(2,0,1,lambdas))-I300(order(2,0,1,lambdas))))\n",
    "print(alphas[j]*betas[j],I210(order(0,2,1,lambdas)),I210(order(2,0,1,lambdas)),-I300(order(2,0,1,lambdas)))"
   ]
  }
 ],
 "metadata": {
  "kernelspec": {
   "display_name": "Python 3",
   "language": "python",
   "name": "python3"
  },
  "language_info": {
   "codemirror_mode": {
    "name": "ipython",
    "version": 3
   },
   "file_extension": ".py",
   "mimetype": "text/x-python",
   "name": "python",
   "nbconvert_exporter": "python",
   "pygments_lexer": "ipython3",
   "version": "3.12.9"
  }
 },
 "nbformat": 4,
 "nbformat_minor": 2
}
