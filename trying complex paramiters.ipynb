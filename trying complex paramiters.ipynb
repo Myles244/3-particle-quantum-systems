{
 "cells": [
  {
   "cell_type": "code",
   "execution_count": 1,
   "metadata": {},
   "outputs": [],
   "source": [
    "from complex_exponential import *\n",
    "from scipy.optimize import minimize"
   ]
  },
  {
   "cell_type": "code",
   "execution_count": 2,
   "metadata": {},
   "outputs": [
    {
     "name": "stdout",
     "output_type": "stream",
     "text": [
      "       message: Optimization terminated successfully.\n",
      "       success: True\n",
      "        status: 0\n",
      "           fun: -402.63730067250907\n",
      "             x: [ 4.021e+02  5.169e+02  5.427e+02  7.403e+02  9.774e-01\n",
      "                  1.995e+00  3.340e+00  3.876e+00  2.251e-02  3.274e-02\n",
      "                  4.187e-02  2.909e-02]\n",
      "           nit: 566\n",
      "          nfev: 1016\n",
      " final_simplex: (array([[ 4.021e+02,  5.169e+02, ...,  4.187e-02,\n",
      "                         2.909e-02],\n",
      "                       [ 4.021e+02,  5.169e+02, ...,  4.187e-02,\n",
      "                         2.909e-02],\n",
      "                       ...,\n",
      "                       [ 4.021e+02,  5.169e+02, ...,  4.187e-02,\n",
      "                         2.909e-02],\n",
      "                       [ 4.021e+02,  5.169e+02, ...,  4.187e-02,\n",
      "                         2.909e-02]]), array([-4.026e+02, -4.026e+02, ..., -4.026e+02, -4.026e+02]))\n"
     ]
    }
   ],
   "source": [
    "\n",
    "def f(x):\n",
    "    theseparams=x.reshape(3,-1)*mp.mpf(1)\n",
    "\n",
    "    for i in range(theseparams.shape[1]):\n",
    "        a,b,c=theseparams[:,i].flatten()\n",
    "        if a<0 or b<0 or c<0 or (a==0 and b==0) or (a==0 and c==0) or (b==0 and c==0):\n",
    "            return 1000\n",
    "        \n",
    "    #symetry breaking condition reduces space of solutions synce its symetric\n",
    "    for i in range(theseparams.shape[1]-1):\n",
    "        if mp.norm(theseparams[:,i])>mp.norm(theseparams[:,i+1]):\n",
    "            return 1000\n",
    "        \n",
    "    \n",
    "\n",
    "    subspace=Subspace(theseparams.shape[1])\n",
    "\n",
    "    subspace.set_N_func(N_func)\n",
    "    subspace.set_H_func(H_func)\n",
    "\n",
    "    subspace.set_params(theseparams)\n",
    "\n",
    "    subspace.make_N_mat()\n",
    "    subspace.make_H_mat()\n",
    "    subspace.find_N_eigens()\n",
    "    subspace.make_Y_mat()\n",
    "    subspace.make_invs_sqrt_beta_mats()\n",
    "    subspace.make_P_mats()\n",
    "    subspace.find_P_eigens()\n",
    "    subspace.find_energy_levels()\n",
    "    return np.float64(subspace.energy_levels[0])\n",
    "\n",
    "res=minimize(f,x0=[400,500,600,700,1,2,3,4,0.02,0.03,0.04,0.05],method=\"Nelder-Mead\")\n",
    "print(res)"
   ]
  },
  {
   "cell_type": "code",
   "execution_count": null,
   "metadata": {},
   "outputs": [],
   "source": [
    "mp.dps=400\n",
    "\n",
    "def f(x):\n",
    "    theseparams=x[:6].reshape(3,-1)*mp.mpf(1)+x[6:].reshape(3,-1)*mp.mpf(1)*1j\n",
    "\n",
    "    if np.any(x[:6]<=0):\n",
    "        return 1000\n",
    "\n",
    "    #symetry breaking condition reduces space of solutions synce its symetric\n",
    "    for i in range(theseparams.shape[1]-1):\n",
    "        if mp.norm(theseparams[:,i])>mp.norm(theseparams[:,i+1]):\n",
    "            return 1000\n",
    "        \n",
    "    \n",
    "    subspace=Subspace(theseparams.shape[1])\n",
    "\n",
    "    subspace.set_N_func(N_func)\n",
    "    subspace.set_H_func(H_func)\n",
    "\n",
    "    subspace.set_params(theseparams)\n",
    "\n",
    "    subspace.make_N_mat()\n",
    "\n",
    "    subspace.make_H_mat()\n",
    "\n",
    "    print(subspace.H_mat)\n",
    "    subspace.find_N_eigens()\n",
    "    subspace.make_Y_mat()\n",
    "    subspace.make_invs_sqrt_beta_mats()\n",
    "    subspace.make_P_mats()\n",
    "    subspace.find_P_eigens()\n",
    "    subspace.find_energy_levels()\n",
    "    return np.float64(subspace.energy_levels[0])"
   ]
  },
  {
   "cell_type": "code",
   "execution_count": null,
   "metadata": {},
   "outputs": [],
   "source": []
  },
  {
   "cell_type": "code",
   "execution_count": null,
   "metadata": {},
   "outputs": [],
   "source": [
    "res=minimize(f,x0=[400,500,1,2,0.02,0.03,0,0,0,0.01,0.01,0.01],method=\"Nelder-Mead\")\n",
    "print(res)"
   ]
  }
 ],
 "metadata": {
  "kernelspec": {
   "display_name": "Python 3",
   "language": "python",
   "name": "python3"
  },
  "language_info": {
   "codemirror_mode": {
    "name": "ipython",
    "version": 3
   },
   "file_extension": ".py",
   "mimetype": "text/x-python",
   "name": "python",
   "nbconvert_exporter": "python",
   "pygments_lexer": "ipython3",
   "version": "3.12.9"
  }
 },
 "nbformat": 4,
 "nbformat_minor": 2
}
