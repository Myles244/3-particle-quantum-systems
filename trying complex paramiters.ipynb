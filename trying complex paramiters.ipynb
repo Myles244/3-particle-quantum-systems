{
 "cells": [
  {
   "cell_type": "code",
   "execution_count": 3,
   "metadata": {},
   "outputs": [],
   "source": [
    "from exponential import *\n",
    "from scipy.optimize import minimize"
   ]
  },
  {
   "cell_type": "code",
   "execution_count": null,
   "metadata": {},
   "outputs": [
    {
     "name": "stdout",
     "output_type": "stream",
     "text": [
      "100\n",
      "1\n"
     ]
    }
   ],
   "source": [
    "params=np.load(\"data/best100params.npy\",allow_pickle=True)[:,:10]\n",
    "bestparams=params\n",
    "\n",
    "x0=params.flatten()\n",
    "bestE=0\n",
    "\n",
    "nitt=0\n",
    "\n",
    "def f(x):\n",
    "    global bestE\n",
    "    global bestparams\n",
    "    global nitt\n",
    "    nitt+=1\n",
    "    print(nitt)\n",
    "    theseparams=x.reshape(3,-1)*mp.mpf(1) \n",
    "\n",
    "    for i in range(theseparams.shape[1]):\n",
    "        a,b,c=theseparams[:,i].flatten()\n",
    "        if a<0 or b<0 or c<0 or (a==0 and b==0) or (a==0 and c==0) or (b==0 and c==0):\n",
    "            return 1000\n",
    "        \n",
    "    #symetry breaking condition reduces space of solutions synce its symetric\n",
    "    for i in range(theseparams.shape[1]-1):\n",
    "        if mp.norm(theseparams[:,i])>mp.norm(theseparams[:,i+1]):\n",
    "            return 1000\n",
    "        \n",
    "\n",
    "    subspace=Subspace(theseparams.shape[1])\n",
    "\n",
    "    subspace.set_N_func(N_func)\n",
    "    subspace.set_H_func(H_func)\n",
    "\n",
    "    subspace.set_params(theseparams)\n",
    "\n",
    "    subspace.make_N_mat()\n",
    "    subspace.make_H_mat()\n",
    "    subspace.find_N_eigens()\n",
    "    subspace.make_Y_mat()\n",
    "    subspace.make_invs_sqrt_beta_mats()\n",
    "    subspace.make_P_mats()\n",
    "    subspace.find_P_eigens()\n",
    "    subspace.find_energy_levels()\n",
    "    \n",
    "    if subspace.energy_levels[0]<bestE:\n",
    "        print(\"Success, new lowest energy level found, saving paramiters\")\n",
    "        print(np.float64(subspace.energy_levels[0]))\n",
    "        bestE=subspace.energy_levels[0]\n",
    "        bestparams=theseparams\n",
    "        #np.save(\"data/best100params.npy\",bestparams,allow_pickle=True)\n",
    "\n",
    "        subspace.find_energy_eigenstates()\n",
    "        expdelta=delta_r23(subspace.energy_eigenstates[0],params)\n",
    "        print(HFS(expdelta))\n",
    "    return np.float64((subspace.energy_levels[0]+402.637302)*1*10**6)\n",
    "\n",
    "print(params.shape[1])\n",
    "\n",
    "x0=params.flatten()\n",
    "\n",
    "f(x0)\n",
    "\n",
    "res=minimize(f,x0=x0,method='Nelder-Mead')\n",
    "print(res)\n"
   ]
  },
  {
   "cell_type": "code",
   "execution_count": null,
   "metadata": {},
   "outputs": [],
   "source": []
  }
 ],
 "metadata": {
  "kernelspec": {
   "display_name": "Python 3",
   "language": "python",
   "name": "python3"
  },
  "language_info": {
   "codemirror_mode": {
    "name": "ipython",
    "version": 3
   },
   "file_extension": ".py",
   "mimetype": "text/x-python",
   "name": "python",
   "nbconvert_exporter": "python",
   "pygments_lexer": "ipython3",
   "version": "3.12.9"
  }
 },
 "nbformat": 4,
 "nbformat_minor": 2
}
