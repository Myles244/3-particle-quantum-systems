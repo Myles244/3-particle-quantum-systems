{
 "cells": [
  {
   "cell_type": "code",
   "execution_count": 2,
   "metadata": {},
   "outputs": [],
   "source": [
    "from exponential import *\n",
    "from scipy.optimize import minimize\n",
    "\n"
   ]
  },
  {
   "cell_type": "code",
   "execution_count": 3,
   "metadata": {},
   "outputs": [],
   "source": [
    "params=[]\n",
    "E=[]\n",
    "N=[]"
   ]
  },
  {
   "cell_type": "code",
   "execution_count": 17,
   "metadata": {},
   "outputs": [
    {
     "name": "stdout",
     "output_type": "stream",
     "text": [
      "[[1.05 1.05 1.05]\n",
      " [1.05 1.05 0.86]\n",
      " [0.86 1.05 1.05]\n",
      " ...\n",
      " [0.1  2.   2.  ]\n",
      " [2.   0.1  2.  ]\n",
      " [2.   2.   2.  ]]\n"
     ]
    }
   ],
   "source": [
    "x0rs=np.array(np.meshgrid(np.linspace(0.1,2,11),np.linspace(0.1,2,11),np.linspace(0.1,2,11),indexing='ij')).reshape(3,-1).transpose()\n",
    "ordering=(x0rs[:,0]-1)**2+(x0rs[:,1]-1)**2+(x0rs[:,2]-1)**2\n",
    "x0rs=x0rs[np.argsort(ordering)]\n",
    "print(x0rs)"
   ]
  },
  {
   "cell_type": "code",
   "execution_count": 182,
   "metadata": {},
   "outputs": [
    {
     "data": {
      "text/plain": [
       "np.float64(2.2227587494850775e-162)"
      ]
     },
     "execution_count": 182,
     "metadata": {},
     "output_type": "execute_result"
    }
   ],
   "source": [
    "np.sqrt(np.nextafter(0,1))"
   ]
  },
  {
   "cell_type": "code",
   "execution_count": null,
   "metadata": {},
   "outputs": [
    {
     "name": "stdout",
     "output_type": "stream",
     "text": [
      "1\n",
      "2\n",
      "wtf\n",
      "3\n"
     ]
    },
    {
     "ename": "LinAlgError",
     "evalue": "Array must not contain infs or NaNs",
     "output_type": "error",
     "traceback": [
      "\u001b[1;31m---------------------------------------------------------------------------\u001b[0m",
      "\u001b[1;31mLinAlgError\u001b[0m                               Traceback (most recent call last)",
      "Cell \u001b[1;32mIn[184], line 37\u001b[0m\n\u001b[0;32m     33\u001b[0m         \u001b[38;5;28;01mreturn\u001b[39;00m \u001b[38;5;241m10000\u001b[39m\n\u001b[0;32m     35\u001b[0m     \u001b[38;5;28;01mreturn\u001b[39;00m subspace\u001b[38;5;241m.\u001b[39menergy_levels[\u001b[38;5;241m0\u001b[39m,\u001b[38;5;241m0\u001b[39m]\n\u001b[1;32m---> 37\u001b[0m res\u001b[38;5;241m=\u001b[39m\u001b[43mminimize\u001b[49m\u001b[43m(\u001b[49m\u001b[43mf\u001b[49m\u001b[43m,\u001b[49m\u001b[43mx0\u001b[49m\u001b[38;5;241;43m=\u001b[39;49m\u001b[43m[\u001b[49m\u001b[38;5;241;43m200\u001b[39;49m\u001b[43m,\u001b[49m\u001b[38;5;241;43m1\u001b[39;49m\u001b[43m,\u001b[49m\u001b[38;5;241;43m0.04\u001b[39;49m\u001b[43m]\u001b[49m\u001b[38;5;241;43m*\u001b[39;49m\u001b[43mnp\u001b[49m\u001b[38;5;241;43m.\u001b[39;49m\u001b[43mrandom\u001b[49m\u001b[38;5;241;43m.\u001b[39;49m\u001b[43mnormal\u001b[49m\u001b[43m(\u001b[49m\u001b[38;5;241;43m1\u001b[39;49m\u001b[43m,\u001b[49m\u001b[38;5;241;43m0.5\u001b[39;49m\u001b[43m,\u001b[49m\u001b[38;5;241;43m3\u001b[39;49m\u001b[43m)\u001b[49m\u001b[43m,\u001b[49m\u001b[43mmethod\u001b[49m\u001b[38;5;241;43m=\u001b[39;49m\u001b[38;5;124;43m'\u001b[39;49m\u001b[38;5;124;43mNelder-Mead\u001b[39;49m\u001b[38;5;124;43m'\u001b[39;49m\u001b[43m)\u001b[49m\n\u001b[0;32m     39\u001b[0m \u001b[38;5;28;01mif\u001b[39;00m res\u001b[38;5;241m.\u001b[39mfun\u001b[38;5;241m>\u001b[39m\u001b[38;5;241m=\u001b[39m\u001b[38;5;241m0\u001b[39m:\n\u001b[0;32m     40\u001b[0m     \u001b[38;5;28mprint\u001b[39m(\u001b[38;5;124m\"\u001b[39m\u001b[38;5;124mwtf\u001b[39m\u001b[38;5;124m\"\u001b[39m)\n",
      "File \u001b[1;32m~\\AppData\\Local\\Packages\\PythonSoftwareFoundation.Python.3.12_qbz5n2kfra8p0\\LocalCache\\local-packages\\Python312\\site-packages\\scipy\\optimize\\_minimize.py:726\u001b[0m, in \u001b[0;36mminimize\u001b[1;34m(fun, x0, args, method, jac, hess, hessp, bounds, constraints, tol, callback, options)\u001b[0m\n\u001b[0;32m    723\u001b[0m callback \u001b[38;5;241m=\u001b[39m _wrap_callback(callback, meth)\n\u001b[0;32m    725\u001b[0m \u001b[38;5;28;01mif\u001b[39;00m meth \u001b[38;5;241m==\u001b[39m \u001b[38;5;124m'\u001b[39m\u001b[38;5;124mnelder-mead\u001b[39m\u001b[38;5;124m'\u001b[39m:\n\u001b[1;32m--> 726\u001b[0m     res \u001b[38;5;241m=\u001b[39m \u001b[43m_minimize_neldermead\u001b[49m\u001b[43m(\u001b[49m\u001b[43mfun\u001b[49m\u001b[43m,\u001b[49m\u001b[43m \u001b[49m\u001b[43mx0\u001b[49m\u001b[43m,\u001b[49m\u001b[43m \u001b[49m\u001b[43margs\u001b[49m\u001b[43m,\u001b[49m\u001b[43m \u001b[49m\u001b[43mcallback\u001b[49m\u001b[43m,\u001b[49m\u001b[43m \u001b[49m\u001b[43mbounds\u001b[49m\u001b[38;5;241;43m=\u001b[39;49m\u001b[43mbounds\u001b[49m\u001b[43m,\u001b[49m\n\u001b[0;32m    727\u001b[0m \u001b[43m                               \u001b[49m\u001b[38;5;241;43m*\u001b[39;49m\u001b[38;5;241;43m*\u001b[39;49m\u001b[43moptions\u001b[49m\u001b[43m)\u001b[49m\n\u001b[0;32m    728\u001b[0m \u001b[38;5;28;01melif\u001b[39;00m meth \u001b[38;5;241m==\u001b[39m \u001b[38;5;124m'\u001b[39m\u001b[38;5;124mpowell\u001b[39m\u001b[38;5;124m'\u001b[39m:\n\u001b[0;32m    729\u001b[0m     res \u001b[38;5;241m=\u001b[39m _minimize_powell(fun, x0, args, callback, bounds, \u001b[38;5;241m*\u001b[39m\u001b[38;5;241m*\u001b[39moptions)\n",
      "File \u001b[1;32m~\\AppData\\Local\\Packages\\PythonSoftwareFoundation.Python.3.12_qbz5n2kfra8p0\\LocalCache\\local-packages\\Python312\\site-packages\\scipy\\optimize\\_optimize.py:833\u001b[0m, in \u001b[0;36m_minimize_neldermead\u001b[1;34m(func, x0, args, callback, maxiter, maxfev, disp, return_all, initial_simplex, xatol, fatol, adaptive, bounds, **unknown_options)\u001b[0m\n\u001b[0;32m    831\u001b[0m \u001b[38;5;28;01mtry\u001b[39;00m:\n\u001b[0;32m    832\u001b[0m     \u001b[38;5;28;01mfor\u001b[39;00m k \u001b[38;5;129;01min\u001b[39;00m \u001b[38;5;28mrange\u001b[39m(N \u001b[38;5;241m+\u001b[39m \u001b[38;5;241m1\u001b[39m):\n\u001b[1;32m--> 833\u001b[0m         fsim[k] \u001b[38;5;241m=\u001b[39m \u001b[43mfunc\u001b[49m\u001b[43m(\u001b[49m\u001b[43msim\u001b[49m\u001b[43m[\u001b[49m\u001b[43mk\u001b[49m\u001b[43m]\u001b[49m\u001b[43m)\u001b[49m\n\u001b[0;32m    834\u001b[0m \u001b[38;5;28;01mexcept\u001b[39;00m _MaxFuncCallError:\n\u001b[0;32m    835\u001b[0m     \u001b[38;5;28;01mpass\u001b[39;00m\n",
      "File \u001b[1;32m~\\AppData\\Local\\Packages\\PythonSoftwareFoundation.Python.3.12_qbz5n2kfra8p0\\LocalCache\\local-packages\\Python312\\site-packages\\scipy\\optimize\\_optimize.py:542\u001b[0m, in \u001b[0;36m_wrap_scalar_function_maxfun_validation.<locals>.function_wrapper\u001b[1;34m(x, *wrapper_args)\u001b[0m\n\u001b[0;32m    540\u001b[0m ncalls[\u001b[38;5;241m0\u001b[39m] \u001b[38;5;241m+\u001b[39m\u001b[38;5;241m=\u001b[39m \u001b[38;5;241m1\u001b[39m\n\u001b[0;32m    541\u001b[0m \u001b[38;5;66;03m# A copy of x is sent to the user function (gh13740)\u001b[39;00m\n\u001b[1;32m--> 542\u001b[0m fx \u001b[38;5;241m=\u001b[39m \u001b[43mfunction\u001b[49m\u001b[43m(\u001b[49m\u001b[43mnp\u001b[49m\u001b[38;5;241;43m.\u001b[39;49m\u001b[43mcopy\u001b[49m\u001b[43m(\u001b[49m\u001b[43mx\u001b[49m\u001b[43m)\u001b[49m\u001b[43m,\u001b[49m\u001b[43m \u001b[49m\u001b[38;5;241;43m*\u001b[39;49m\u001b[43m(\u001b[49m\u001b[43mwrapper_args\u001b[49m\u001b[43m \u001b[49m\u001b[38;5;241;43m+\u001b[39;49m\u001b[43m \u001b[49m\u001b[43margs\u001b[49m\u001b[43m)\u001b[49m\u001b[43m)\u001b[49m\n\u001b[0;32m    543\u001b[0m \u001b[38;5;66;03m# Ideally, we'd like to a have a true scalar returned from f(x). For\u001b[39;00m\n\u001b[0;32m    544\u001b[0m \u001b[38;5;66;03m# backwards-compatibility, also allow np.array([1.3]),\u001b[39;00m\n\u001b[0;32m    545\u001b[0m \u001b[38;5;66;03m# np.array([[1.3]]) etc.\u001b[39;00m\n\u001b[0;32m    546\u001b[0m \u001b[38;5;28;01mif\u001b[39;00m \u001b[38;5;129;01mnot\u001b[39;00m np\u001b[38;5;241m.\u001b[39misscalar(fx):\n",
      "Cell \u001b[1;32mIn[184], line 21\u001b[0m, in \u001b[0;36mf\u001b[1;34m(x)\u001b[0m\n\u001b[0;32m     19\u001b[0m subspace\u001b[38;5;241m.\u001b[39mmake_N_mats_vectorized()\n\u001b[0;32m     20\u001b[0m subspace\u001b[38;5;241m.\u001b[39mmake_H_mats_vectorized()\n\u001b[1;32m---> 21\u001b[0m \u001b[43msubspace\u001b[49m\u001b[38;5;241;43m.\u001b[39;49m\u001b[43mfind_N_eigens\u001b[49m\u001b[43m(\u001b[49m\u001b[43m)\u001b[49m\n\u001b[0;32m     23\u001b[0m \u001b[38;5;28;01mif\u001b[39;00m np\u001b[38;5;241m.\u001b[39many(subspace\u001b[38;5;241m.\u001b[39mN_eigenvalues\u001b[38;5;241m<\u001b[39m\u001b[38;5;241m=\u001b[39m\u001b[38;5;241m100\u001b[39m\u001b[38;5;241m*\u001b[39mnp\u001b[38;5;241m.\u001b[39mnextafter(\u001b[38;5;241m0\u001b[39m,\u001b[38;5;241m1\u001b[39m)):\n\u001b[0;32m     24\u001b[0m     \u001b[38;5;28;01mreturn\u001b[39;00m \u001b[38;5;241m10000\u001b[39m\n",
      "File \u001b[1;32mc:\\Users\\myles\\Documents\\GitHub\\3-particle-quantum-systems\\header.py:68\u001b[0m, in \u001b[0;36mSubspace.find_N_eigens\u001b[1;34m(self)\u001b[0m\n\u001b[0;32m     66\u001b[0m \u001b[38;5;28;01mif\u001b[39;00m \u001b[38;5;28mself\u001b[39m\u001b[38;5;241m.\u001b[39mverbose:\n\u001b[0;32m     67\u001b[0m   \u001b[38;5;28mprint\u001b[39m(\u001b[38;5;124m\"\u001b[39m\u001b[38;5;124mFinding the eigenvectors and eigenvalues of the N matrices.\u001b[39m\u001b[38;5;124m\"\u001b[39m)\n\u001b[1;32m---> 68\u001b[0m \u001b[38;5;28mself\u001b[39m\u001b[38;5;241m.\u001b[39mN_eigenvalues, \u001b[38;5;28mself\u001b[39m\u001b[38;5;241m.\u001b[39mN_eigenvectors\u001b[38;5;241m=\u001b[39m\u001b[43mnp\u001b[49m\u001b[38;5;241;43m.\u001b[39;49m\u001b[43mlinalg\u001b[49m\u001b[38;5;241;43m.\u001b[39;49m\u001b[43meig\u001b[49m\u001b[43m(\u001b[49m\u001b[38;5;28;43mself\u001b[39;49m\u001b[38;5;241;43m.\u001b[39;49m\u001b[43mN_mats\u001b[49m\u001b[43m)\u001b[49m\n",
      "File \u001b[1;32m~\\AppData\\Local\\Packages\\PythonSoftwareFoundation.Python.3.12_qbz5n2kfra8p0\\LocalCache\\local-packages\\Python312\\site-packages\\numpy\\linalg\\_linalg.py:1465\u001b[0m, in \u001b[0;36meig\u001b[1;34m(a)\u001b[0m\n\u001b[0;32m   1463\u001b[0m _assert_stacked_2d(a)\n\u001b[0;32m   1464\u001b[0m _assert_stacked_square(a)\n\u001b[1;32m-> 1465\u001b[0m \u001b[43m_assert_finite\u001b[49m\u001b[43m(\u001b[49m\u001b[43ma\u001b[49m\u001b[43m)\u001b[49m\n\u001b[0;32m   1466\u001b[0m t, result_t \u001b[38;5;241m=\u001b[39m _commonType(a)\n\u001b[0;32m   1468\u001b[0m signature \u001b[38;5;241m=\u001b[39m \u001b[38;5;124m'\u001b[39m\u001b[38;5;124mD->DD\u001b[39m\u001b[38;5;124m'\u001b[39m \u001b[38;5;28;01mif\u001b[39;00m isComplexType(t) \u001b[38;5;28;01melse\u001b[39;00m \u001b[38;5;124m'\u001b[39m\u001b[38;5;124md->DD\u001b[39m\u001b[38;5;124m'\u001b[39m\n",
      "File \u001b[1;32m~\\AppData\\Local\\Packages\\PythonSoftwareFoundation.Python.3.12_qbz5n2kfra8p0\\LocalCache\\local-packages\\Python312\\site-packages\\numpy\\linalg\\_linalg.py:207\u001b[0m, in \u001b[0;36m_assert_finite\u001b[1;34m(*arrays)\u001b[0m\n\u001b[0;32m    205\u001b[0m \u001b[38;5;28;01mfor\u001b[39;00m a \u001b[38;5;129;01min\u001b[39;00m arrays:\n\u001b[0;32m    206\u001b[0m     \u001b[38;5;28;01mif\u001b[39;00m \u001b[38;5;129;01mnot\u001b[39;00m isfinite(a)\u001b[38;5;241m.\u001b[39mall():\n\u001b[1;32m--> 207\u001b[0m         \u001b[38;5;28;01mraise\u001b[39;00m LinAlgError(\u001b[38;5;124m\"\u001b[39m\u001b[38;5;124mArray must not contain infs or NaNs\u001b[39m\u001b[38;5;124m\"\u001b[39m)\n",
      "\u001b[1;31mLinAlgError\u001b[0m: Array must not contain infs or NaNs"
     ]
    }
   ],
   "source": [
    "params=[]\n",
    "E=[]\n",
    "N=[]\n",
    "for i in range(100):\n",
    "    print(i+1)\n",
    "    def f(x):\n",
    "        if x[0]<=0 or x[1]<=0 or x[2]<=0:\n",
    "            return 10000\n",
    "        \n",
    "        theparams=np.expand_dims(np.array(params+[x]).transpose(),-1)\n",
    "\n",
    "        subspace=Subspace(len(params)+1)\n",
    "\n",
    "        subspace.set_N_func(N_func)\n",
    "        subspace.set_H_func(H_func)\n",
    "\n",
    "        subspace.set_params(1,theparams)\n",
    "\n",
    "        subspace.make_N_mats_vectorized()\n",
    "        subspace.make_H_mats_vectorized()\n",
    "        subspace.find_N_eigens()\n",
    "\n",
    "        if np.any(subspace.N_eigenvalues<=100*np.nextafter(0,1)):\n",
    "            return 10000\n",
    "    \n",
    "        subspace.make_Y_mats()\n",
    "        subspace.make_invs_sqrt_beta_mats()\n",
    "        subspace.make_P_mats()\n",
    "        subspace.find_P_eigens()\n",
    "        subspace.find_energy_levels()\n",
    "\n",
    "        if type(subspace.energy_levels[0,0])== np.complex128:\n",
    "            return 10000\n",
    "        \n",
    "        return subspace.energy_levels[0,0]\n",
    "\n",
    "    res=minimize(f,x0=[400,1,0.02]*np.random.normal(1,0.5,3),method='Nelder-Mead')\n",
    "\n",
    "    if res.fun>=0:\n",
    "        print(\"wtf\")\n",
    "\n",
    "    params.append(res.x)\n",
    "\n",
    "    N.append(i+1)\n",
    "    E.append(res.fun)"
   ]
  },
  {
   "cell_type": "code",
   "execution_count": 169,
   "metadata": {},
   "outputs": [
    {
     "data": {
      "text/plain": [
       "[<matplotlib.lines.Line2D at 0x27c04ae2420>]"
      ]
     },
     "execution_count": 169,
     "metadata": {},
     "output_type": "execute_result"
    },
    {
     "data": {
      "image/png": "[encoded data removed]",
      "text/plain": [
       "<Figure size 640x480 with 1 Axes>"
      ]
     },
     "metadata": {},
     "output_type": "display_data"
    }
   ],
   "source": [
    "import matplotlib.pyplot as plt\n",
    "\n",
    "plt.scatter(N,np.array(E))\n",
    "plt.plot(N,np.array(N)*0-402.63730092734914,linestyle='--')"
   ]
  },
  {
   "cell_type": "code",
   "execution_count": null,
   "metadata": {},
   "outputs": [],
   "source": []
  },
  {
   "cell_type": "code",
   "execution_count": 159,
   "metadata": {},
   "outputs": [
    {
     "name": "stdout",
     "output_type": "stream",
     "text": [
      "[np.float64(-402.6373006723345), np.float64(-402.63730067233485), np.float64(-402.63730070788796), np.float64(-402.63730070798783), np.float64(-402.63730070806156), np.float64(-402.6373007108794), np.float64(-402.63730071088844), np.float64(-402.6373009216552), np.float64(-402.63730092165576), np.float64(-402.6373009216561), np.float64(-402.6373009217932), np.float64(-402.637301080186), np.float64(-402.63730108018814), np.float64(-402.6373010801886), np.float64(-402.637301080189), np.float64(-402.63730108021593), np.float64(-402.6373010802158), np.float64(-402.6373010802161), np.float64(-402.6373011128503), np.float64(-402.63730111287714), np.float64(-402.6373011128795), np.float64(-402.6373011128795), np.float64(-402.6373011192415), np.float64(-402.63730111925713), np.float64(-402.6373011192595), np.float64(-402.6373011192565), np.float64(-402.63730113479613), np.float64(-402.6373011348002), np.float64(-402.63730113480597), np.float64(-402.63730113615634), np.float64(-402.63730114138184), np.float64(-402.63730114995974), np.float64(-402.6373011500832), np.float64(-402.6373011500366), np.float64(-402.637301150225), np.float64(-402.6373011502962), np.float64(-482.9218569808517), np.float64(-543.8402687063018), np.float64(-568.2480703998046), np.float64(-556.699662616104), np.float64(-568.799754349158), np.float64(-591.4792246920099)]\n"
     ]
    }
   ],
   "source": [
    "print(E)"
   ]
  },
  {
   "cell_type": "code",
   "execution_count": 160,
   "metadata": {},
   "outputs": [],
   "source": [
    "def term(ai,bi,ci,aj,bj,cj):\n",
    "    Ai=2*np.real(ai)+2*np.real(bi)\n",
    "    Bi=2*np.real(ai)+2*np.real(ci)\n",
    "    Ci=2*np.real(bi)+2*np.real(ci)\n",
    "    Aj=2*np.real(aj)+2*np.real(bj)\n",
    "    Bj=2*np.real(aj)+2*np.real(cj)\n",
    "    Cj=2*np.real(bj)+2*np.real(cj)\n",
    "\n",
    "    return (\n",
    "        np.sqrt(Ai*Aj)/(np.conjugate(ai+bi)+aj+bj)\n",
    "        *np.sqrt(Bi*Bj)/(np.conjugate(ai+bi)+aj+bj)\n",
    "        *np.sqrt(Ci*Cj)/(np.conjugate(ai+bi)+aj+bj)\n",
    "        *Ai*Bi*Ci/np.sqrt( Ai**2 * (Bi + Ci) + Bi**2 * (Ai + Ci) + Ci**2 * (Ai + Bi) + Ai*Bi*Ci)\n",
    "        *Aj*Bj*Cj/np.sqrt( Aj**2 * (Bj + Cj) + Bj**2 * (Aj + Cj) + Cj**2 * (Aj + Bj) + Aj*Bj*Cj)\n",
    "    )\n"
   ]
  },
  {
   "cell_type": "code",
   "execution_count": 161,
   "metadata": {},
   "outputs": [
    {
     "data": {
      "text/plain": [
       "(array([0, 1, 2, 3]),)"
      ]
     },
     "execution_count": 161,
     "metadata": {},
     "output_type": "execute_result"
    }
   ],
   "source": [
    "np.meshgrid(np.arange(4))"
   ]
  },
  {
   "cell_type": "code",
   "execution_count": 162,
   "metadata": {},
   "outputs": [],
   "source": [
    "def delta(Amplitudes,params):\n",
    "    ais, ajs=np.meshgrid(params[0],params[0])\n",
    "    bis, bjs=np.meshgrid(params[1],params[1])\n",
    "    cis, cjs=np.meshgrid(params[2],params[2])\n",
    "    Ampis,Ampjs=np.meshgrid(Amplitudes,Amplitudes)\n",
    "    terms=term(ais,bis,cis,ajs,bjs,cjs)\n",
    "    sum=np.sum(np.conjugate(Ampis)*Ampjs*terms)\n",
    "    return sum/(4*np.pi)"
   ]
  },
  {
   "cell_type": "code",
   "execution_count": 163,
   "metadata": {},
   "outputs": [],
   "source": [
    "def HFS(Amplitudes,params):\n",
    "    expdelta=np.pi*np.sum(Amplitudes/np.real(params[0]+params[1])**3)\n",
    "    prefactor=(\n",
    "        (1/(3*hbar))\n",
    "        *alpha\n",
    "        *(g2*g3/(m2*m3))\n",
    "        )\n",
    "    return prefactor*expdelta"
   ]
  },
  {
   "cell_type": "code",
   "execution_count": 171,
   "metadata": {},
   "outputs": [
    {
     "name": "stderr",
     "output_type": "stream",
     "text": [
      "c:\\Users\\myles\\Documents\\GitHub\\3-particle-quantum-systems\\header.py:120: ComplexWarning: Casting complex values to real discards the imaginary part\n",
      "  energy_eigenstates[i,j]=unorderd_energy_eigenstates[i,:,order[i,j]]/np.linalg.norm(unorderd_energy_eigenstates[i,:,order[i,j]]) #normalise vectors\n",
      "c:\\Users\\myles\\Documents\\GitHub\\3-particle-quantum-systems\\header.py:76: RuntimeWarning: invalid value encountered in sqrt\n",
      "  invs_sqrt_beta[:,i,i]=1/np.sqrt(self.N_eigenvalues[:,i])\n"
     ]
    },
    {
     "ename": "LinAlgError",
     "evalue": "Array must not contain infs or NaNs",
     "output_type": "error",
     "traceback": [
      "\u001b[1;31m---------------------------------------------------------------------------\u001b[0m",
      "\u001b[1;31mLinAlgError\u001b[0m                               Traceback (most recent call last)",
      "Cell \u001b[1;32mIn[171], line 18\u001b[0m\n\u001b[0;32m     16\u001b[0m subspace\u001b[38;5;241m.\u001b[39mmake_invs_sqrt_beta_mats()\n\u001b[0;32m     17\u001b[0m subspace\u001b[38;5;241m.\u001b[39mmake_P_mats()\n\u001b[1;32m---> 18\u001b[0m \u001b[43msubspace\u001b[49m\u001b[38;5;241;43m.\u001b[39;49m\u001b[43mfind_P_eigens\u001b[49m\u001b[43m(\u001b[49m\u001b[43m)\u001b[49m\n\u001b[0;32m     20\u001b[0m subspace\u001b[38;5;241m.\u001b[39mfind_energy_eigenstates()\n\u001b[0;32m     22\u001b[0m D\u001b[38;5;241m.\u001b[39mappend(delta(subspace\u001b[38;5;241m.\u001b[39menergy_eigenstates[\u001b[38;5;241m0\u001b[39m,\u001b[38;5;241m0\u001b[39m],theparams[:,:,\u001b[38;5;241m0\u001b[39m]))\n",
      "File \u001b[1;32mc:\\Users\\myles\\Documents\\GitHub\\3-particle-quantum-systems\\header.py:98\u001b[0m, in \u001b[0;36mSubspace.find_P_eigens\u001b[1;34m(self)\u001b[0m\n\u001b[0;32m     95\u001b[0m \u001b[38;5;28;01mif\u001b[39;00m \u001b[38;5;28mself\u001b[39m\u001b[38;5;241m.\u001b[39mverbose:\n\u001b[0;32m     96\u001b[0m   \u001b[38;5;28mprint\u001b[39m(\u001b[38;5;124m\"\u001b[39m\u001b[38;5;124mFinding P eigenvectors and eigenvalues.\u001b[39m\u001b[38;5;124m\"\u001b[39m)\n\u001b[1;32m---> 98\u001b[0m \u001b[38;5;28mself\u001b[39m\u001b[38;5;241m.\u001b[39mP_eigenvalues, \u001b[38;5;28mself\u001b[39m\u001b[38;5;241m.\u001b[39mP_eigenvectors\u001b[38;5;241m=\u001b[39m\u001b[43mnp\u001b[49m\u001b[38;5;241;43m.\u001b[39;49m\u001b[43mlinalg\u001b[49m\u001b[38;5;241;43m.\u001b[39;49m\u001b[43meig\u001b[49m\u001b[43m(\u001b[49m\u001b[38;5;28;43mself\u001b[39;49m\u001b[38;5;241;43m.\u001b[39;49m\u001b[43mP_mats\u001b[49m\u001b[43m)\u001b[49m\n",
      "File \u001b[1;32m~\\AppData\\Local\\Packages\\PythonSoftwareFoundation.Python.3.12_qbz5n2kfra8p0\\LocalCache\\local-packages\\Python312\\site-packages\\numpy\\linalg\\_linalg.py:1465\u001b[0m, in \u001b[0;36meig\u001b[1;34m(a)\u001b[0m\n\u001b[0;32m   1463\u001b[0m _assert_stacked_2d(a)\n\u001b[0;32m   1464\u001b[0m _assert_stacked_square(a)\n\u001b[1;32m-> 1465\u001b[0m \u001b[43m_assert_finite\u001b[49m\u001b[43m(\u001b[49m\u001b[43ma\u001b[49m\u001b[43m)\u001b[49m\n\u001b[0;32m   1466\u001b[0m t, result_t \u001b[38;5;241m=\u001b[39m _commonType(a)\n\u001b[0;32m   1468\u001b[0m signature \u001b[38;5;241m=\u001b[39m \u001b[38;5;124m'\u001b[39m\u001b[38;5;124mD->DD\u001b[39m\u001b[38;5;124m'\u001b[39m \u001b[38;5;28;01mif\u001b[39;00m isComplexType(t) \u001b[38;5;28;01melse\u001b[39;00m \u001b[38;5;124m'\u001b[39m\u001b[38;5;124md->DD\u001b[39m\u001b[38;5;124m'\u001b[39m\n",
      "File \u001b[1;32m~\\AppData\\Local\\Packages\\PythonSoftwareFoundation.Python.3.12_qbz5n2kfra8p0\\LocalCache\\local-packages\\Python312\\site-packages\\numpy\\linalg\\_linalg.py:207\u001b[0m, in \u001b[0;36m_assert_finite\u001b[1;34m(*arrays)\u001b[0m\n\u001b[0;32m    205\u001b[0m \u001b[38;5;28;01mfor\u001b[39;00m a \u001b[38;5;129;01min\u001b[39;00m arrays:\n\u001b[0;32m    206\u001b[0m     \u001b[38;5;28;01mif\u001b[39;00m \u001b[38;5;129;01mnot\u001b[39;00m isfinite(a)\u001b[38;5;241m.\u001b[39mall():\n\u001b[1;32m--> 207\u001b[0m         \u001b[38;5;28;01mraise\u001b[39;00m LinAlgError(\u001b[38;5;124m\"\u001b[39m\u001b[38;5;124mArray must not contain infs or NaNs\u001b[39m\u001b[38;5;124m\"\u001b[39m)\n",
      "\u001b[1;31mLinAlgError\u001b[0m: Array must not contain infs or NaNs"
     ]
    }
   ],
   "source": [
    "D=[]\n",
    "for n in N:\n",
    "    theparams=np.expand_dims(np.array(params)[:n].transpose(),-1)\n",
    "\n",
    "    subspace=Subspace(n)\n",
    "\n",
    "    subspace.set_N_func(N_func)\n",
    "    subspace.set_H_func(H_func)\n",
    "\n",
    "    subspace.set_params(1,theparams)\n",
    "\n",
    "    subspace.make_N_mats_vectorized()\n",
    "    subspace.make_H_mats_vectorized()\n",
    "    subspace.find_N_eigens()\n",
    "    subspace.make_Y_mats()\n",
    "    subspace.make_invs_sqrt_beta_mats()\n",
    "    subspace.make_P_mats()\n",
    "    subspace.find_P_eigens()\n",
    "\n",
    "    subspace.find_energy_eigenstates()\n",
    "\n",
    "    D.append(delta(subspace.energy_eigenstates[0,0],theparams[:,:,0]))"
   ]
  },
  {
   "cell_type": "code",
   "execution_count": 155,
   "metadata": {},
   "outputs": [
    {
     "data": {
      "text/plain": [
       "np.float64(-402.6257393165248)"
      ]
     },
     "execution_count": 155,
     "metadata": {},
     "output_type": "execute_result"
    }
   ],
   "source": [
    "H_func(0,0,[400],[1],[0.02])"
   ]
  },
  {
   "cell_type": "code",
   "execution_count": 139,
   "metadata": {},
   "outputs": [
    {
     "name": "stdout",
     "output_type": "stream",
     "text": [
      "105.88814275832569\n"
     ]
    }
   ],
   "source": [
    "print(8*np.pi*term(400,1,0.02,400,1,0.02))"
   ]
  },
  {
   "cell_type": "code",
   "execution_count": 140,
   "metadata": {},
   "outputs": [
    {
     "data": {
      "text/plain": [
       "<matplotlib.collections.PathCollection at 0x27c04507020>"
      ]
     },
     "execution_count": 140,
     "metadata": {},
     "output_type": "execute_result"
    },
    {
     "data": {
      "image/png": "[encoded data removed]",
      "text/plain": [
       "<Figure size 640x480 with 1 Axes>"
      ]
     },
     "metadata": {},
     "output_type": "display_data"
    }
   ],
   "source": [
    "plt.scatter(N,D)"
   ]
  },
  {
   "cell_type": "code",
   "execution_count": 78,
   "metadata": {},
   "outputs": [
    {
     "name": "stdout",
     "output_type": "stream",
     "text": [
      "[3.15908570e-01 3.15908606e-01 3.16804872e-01 3.16804917e-01\n",
      " 3.16804980e-01 3.16804871e-01 3.16805114e-01 3.16805098e-01\n",
      " 3.08970124e-01 3.08970079e-01 3.09114476e-01 3.09097438e-01\n",
      " 1.36008613e-02 1.36005397e-02 1.35988899e-02 2.99685806e-03\n",
      " 3.56528842e-04 3.13360053e-04 3.13988071e-04 3.14294304e-04\n",
      " 3.13751038e-04 3.13862186e-04 3.12226014e-04 3.12982438e-04\n",
      " 3.07591708e-04 3.09861424e-04 3.07998493e-04 1.65848184e-04\n",
      " 8.69134454e-05 7.99219712e-05]\n"
     ]
    }
   ],
   "source": [
    "print(np.array(D))"
   ]
  },
  {
   "cell_type": "code",
   "execution_count": null,
   "metadata": {},
   "outputs": [],
   "source": [
    "x0=np.array(params).flatten()\n",
    "dim=len(params)"
   ]
  },
  {
   "cell_type": "code",
   "execution_count": null,
   "metadata": {},
   "outputs": [],
   "source": [
    "def f(x):\n",
    "    theseparams=np.expand_dims(x.reshape(3,-1,order='F'),-1)\n",
    "\n",
    "    for i in range(dim):\n",
    "        a,b,c=theseparams[:,i].flatten()\n",
    "        if a<0 or b<0 or c<0 or a*b==0 or a*c==0 or b*c==0:\n",
    "            return 1000\n",
    "        \n",
    "    subspace=Subspace(dim)\n",
    "\n",
    "    subspace.set_N_func(N_func)\n",
    "    subspace.set_H_func(H_func)\n",
    "\n",
    "    subspace.set_params(1,theseparams)\n",
    "\n",
    "    subspace.make_N_mats_vectorized()\n",
    "    subspace.make_H_mats_vectorized()\n",
    "    subspace.find_N_eigens()\n",
    "    if np.any(subspace.N_eigenvalues<0):\n",
    "        return 1000\n",
    "    subspace.make_Y_mats()\n",
    "    subspace.make_invs_sqrt_beta_mats()\n",
    "    subspace.make_P_mats()\n",
    "    subspace.find_P_eigens()\n",
    "    subspace.find_energy_levels()\n",
    "    return subspace.energy_levels[0,0]\n",
    "    \n",
    "    "
   ]
  },
  {
   "cell_type": "code",
   "execution_count": null,
   "metadata": {},
   "outputs": [],
   "source": [
    "\n",
    "res=minimize(f,x0=x0,method='Nelder-Mead')\n",
    "print(res.fun)\n",
    "x=res.x"
   ]
  },
  {
   "cell_type": "code",
   "execution_count": null,
   "metadata": {},
   "outputs": [],
   "source": [
    "theseparams=np.expand_dims(x.reshape(3,-1,order='F'),-1)\n",
    "\n",
    "subspace=Subspace(dim)\n",
    "\n",
    "subspace.set_N_func(N_func)\n",
    "subspace.set_H_func(H_func)\n",
    "\n",
    "subspace.set_params(1,theseparams)\n",
    "\n",
    "subspace.make_N_mats_vectorized()\n",
    "subspace.make_H_mats_vectorized()\n",
    "subspace.find_N_eigens()\n",
    "subspace.make_Y_mats()\n",
    "subspace.make_invs_sqrt_beta_mats()\n",
    "subspace.make_P_mats()\n",
    "subspace.find_P_eigens()\n",
    "subspace.find_energy_levels()\n",
    "subspace.find_energy_eigenstates()\n",
    "print(subspace.energy_levels[0,0]*27.211386245981)"
   ]
  },
  {
   "cell_type": "code",
   "execution_count": null,
   "metadata": {},
   "outputs": [],
   "source": [
    "theseparams.shape"
   ]
  },
  {
   "cell_type": "code",
   "execution_count": null,
   "metadata": {},
   "outputs": [],
   "source": [
    "subspace.energy_eigenstates.shape"
   ]
  },
  {
   "cell_type": "code",
   "execution_count": null,
   "metadata": {},
   "outputs": [],
   "source": [
    "delta=np.pi*np.sum(subspace.energy_eigenstates[0,0]/theseparams[:,:,0])\n",
    "print(delta)"
   ]
  },
  {
   "cell_type": "code",
   "execution_count": null,
   "metadata": {},
   "outputs": [],
   "source": [
    "print(delta)"
   ]
  },
  {
   "cell_type": "code",
   "execution_count": null,
   "metadata": {},
   "outputs": [],
   "source": [
    "D=[]"
   ]
  },
  {
   "cell_type": "code",
   "execution_count": null,
   "metadata": {},
   "outputs": [],
   "source": []
  },
  {
   "cell_type": "code",
   "execution_count": null,
   "metadata": {},
   "outputs": [],
   "source": [
    "np.sum(np.real(theparams[:,:,0]),axis=0).shape"
   ]
  },
  {
   "cell_type": "code",
   "execution_count": null,
   "metadata": {},
   "outputs": [],
   "source": [
    "subspace.energy_eigenstates[0,0].shape"
   ]
  },
  {
   "cell_type": "code",
   "execution_count": null,
   "metadata": {},
   "outputs": [],
   "source": [
    "plt.scatter(N,D)"
   ]
  },
  {
   "cell_type": "code",
   "execution_count": null,
   "metadata": {},
   "outputs": [],
   "source": [
    "print(D)"
   ]
  },
  {
   "cell_type": "code",
   "execution_count": null,
   "metadata": {},
   "outputs": [],
   "source": []
  }
 ],
 "metadata": {
  "kernelspec": {
   "display_name": "Python 3",
   "language": "python",
   "name": "python3"
  },
  "language_info": {
   "codemirror_mode": {
    "name": "ipython",
    "version": 3
   },
   "file_extension": ".py",
   "mimetype": "text/x-python",
   "name": "python",
   "nbconvert_exporter": "python",
   "pygments_lexer": "ipython3",
   "version": "3.12.9"
  }
 },
 "nbformat": 4,
 "nbformat_minor": 2
}
