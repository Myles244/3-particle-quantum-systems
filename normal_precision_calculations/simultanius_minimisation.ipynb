{
 "cells": [
  {
   "cell_type": "code",
   "execution_count": 1,
   "metadata": {},
   "outputs": [],
   "source": [
    "from exponential import *"
   ]
  },
  {
   "cell_type": "code",
   "execution_count": 2,
   "metadata": {},
   "outputs": [],
   "source": [
    "params=[]\n",
    "E=[]\n",
    "N=[]"
   ]
  },
  {
   "cell_type": "code",
   "execution_count": 3,
   "metadata": {},
   "outputs": [
    {
     "name": "stdout",
     "output_type": "stream",
     "text": [
      "       message: Optimization terminated successfully.\n",
      "       success: True\n",
      "        status: 0\n",
      "           fun: -77.47800770399431\n",
      "             x: [ 3.186e-02  3.191e-02  3.103e-08]\n",
      "           nit: 51\n",
      "          nfev: 96\n",
      " final_simplex: (array([[ 3.186e-02,  3.191e-02,  3.103e-08],\n",
      "                       [ 3.188e-02,  3.187e-02,  7.820e-08],\n",
      "                       [ 3.187e-02,  3.189e-02,  2.342e-07],\n",
      "                       [ 3.185e-02,  3.191e-02,  2.026e-07]]), array([-7.748e+01, -7.748e+01, -7.748e+01, -7.748e+01]))\n"
     ]
    }
   ],
   "source": [
    "from scipy.optimize import minimize\n",
    "\n",
    "def f(x):\n",
    "    if x[0]<=0 or x[1]<=0 or x[2]<0:\n",
    "        return 10000\n",
    "\n",
    "    return H_func(0,0,[x[0]],[x[1]],[x[2]])\n",
    "\n",
    "res=minimize(f,x0=[0.03,0.03,0],method='Nelder-Mead')\n",
    "print(res)\n",
    "params.append(res.x)\n",
    "\n",
    "N.append(1)\n",
    "E.append(res.fun)"
   ]
  },
  {
   "cell_type": "code",
   "execution_count": 4,
   "metadata": {},
   "outputs": [
    {
     "name": "stdout",
     "output_type": "stream",
     "text": [
      "[array([3.18607670e-02, 3.19130809e-02, 3.10252226e-08])]\n"
     ]
    }
   ],
   "source": [
    "print(params)"
   ]
  },
  {
   "cell_type": "code",
   "execution_count": 5,
   "metadata": {},
   "outputs": [
    {
     "name": "stdout",
     "output_type": "stream",
     "text": [
      "0\n",
      "1\n",
      "2\n",
      "3\n",
      "4\n",
      "5\n",
      "6\n",
      "7\n",
      "8\n",
      "9\n",
      "10\n",
      "11\n",
      "12\n",
      "13\n",
      "14\n",
      "15\n",
      "16\n",
      "17\n",
      "18\n",
      "19\n",
      "20\n",
      "21\n",
      "22\n",
      "23\n",
      "24\n",
      "25\n",
      "26\n",
      "27\n",
      "28\n",
      "29\n",
      "30\n",
      "31\n",
      "32\n",
      "33\n",
      "34\n",
      "35\n",
      "36\n",
      "37\n",
      "38\n",
      "39\n",
      "40\n",
      "41\n",
      "42\n",
      "43\n",
      "44\n",
      "45\n",
      "46\n",
      "47\n",
      "48\n",
      "49\n",
      "50\n",
      "51\n",
      "52\n",
      "53\n",
      "54\n",
      "55\n",
      "56\n",
      "57\n",
      "58\n",
      "59\n",
      "60\n"
     ]
    },
    {
     "name": "stderr",
     "output_type": "stream",
     "text": [
      "c:\\Users\\myles\\Documents\\GitHub\\3-particle-quantum-systems\\header.py:76: RuntimeWarning: invalid value encountered in sqrt\n",
      "  invs_sqrt_beta[:,i,i]=1/np.sqrt(self.N_eigenvalues[:,i])\n"
     ]
    },
    {
     "ename": "LinAlgError",
     "evalue": "Array must not contain infs or NaNs",
     "output_type": "error",
     "traceback": [
      "\u001b[1;31m---------------------------------------------------------------------------\u001b[0m",
      "\u001b[1;31mLinAlgError\u001b[0m                               Traceback (most recent call last)",
      "Cell \u001b[1;32mIn[5], line 26\u001b[0m\n\u001b[0;32m     23\u001b[0m     subspace\u001b[38;5;241m.\u001b[39mfind_energy_levels()\n\u001b[0;32m     24\u001b[0m     \u001b[38;5;28;01mreturn\u001b[39;00m subspace\u001b[38;5;241m.\u001b[39menergy_levels[\u001b[38;5;241m0\u001b[39m,\u001b[38;5;241m0\u001b[39m]\n\u001b[1;32m---> 26\u001b[0m res\u001b[38;5;241m=\u001b[39m\u001b[43mminimize\u001b[49m\u001b[43m(\u001b[49m\u001b[43mf\u001b[49m\u001b[43m,\u001b[49m\u001b[43mx0\u001b[49m\u001b[38;5;241;43m=\u001b[39;49m\u001b[43m[\u001b[49m\u001b[38;5;241;43m0.02\u001b[39;49m\u001b[43m,\u001b[49m\u001b[38;5;241;43m0.02\u001b[39;49m\u001b[43m,\u001b[49m\u001b[38;5;241;43m0.004\u001b[39;49m\u001b[43m]\u001b[49m\u001b[43m,\u001b[49m\u001b[43mmethod\u001b[49m\u001b[38;5;241;43m=\u001b[39;49m\u001b[38;5;124;43m'\u001b[39;49m\u001b[38;5;124;43mNelder-Mead\u001b[39;49m\u001b[38;5;124;43m'\u001b[39;49m\u001b[43m)\u001b[49m\n\u001b[0;32m     28\u001b[0m params\u001b[38;5;241m.\u001b[39mappend(res\u001b[38;5;241m.\u001b[39mx)\n\u001b[0;32m     30\u001b[0m N\u001b[38;5;241m.\u001b[39mappend(i\u001b[38;5;241m+\u001b[39m\u001b[38;5;241m1\u001b[39m)\n",
      "File \u001b[1;32m~\\AppData\\Local\\Packages\\PythonSoftwareFoundation.Python.3.12_qbz5n2kfra8p0\\LocalCache\\local-packages\\Python312\\site-packages\\scipy\\optimize\\_minimize.py:726\u001b[0m, in \u001b[0;36mminimize\u001b[1;34m(fun, x0, args, method, jac, hess, hessp, bounds, constraints, tol, callback, options)\u001b[0m\n\u001b[0;32m    723\u001b[0m callback \u001b[38;5;241m=\u001b[39m _wrap_callback(callback, meth)\n\u001b[0;32m    725\u001b[0m \u001b[38;5;28;01mif\u001b[39;00m meth \u001b[38;5;241m==\u001b[39m \u001b[38;5;124m'\u001b[39m\u001b[38;5;124mnelder-mead\u001b[39m\u001b[38;5;124m'\u001b[39m:\n\u001b[1;32m--> 726\u001b[0m     res \u001b[38;5;241m=\u001b[39m \u001b[43m_minimize_neldermead\u001b[49m\u001b[43m(\u001b[49m\u001b[43mfun\u001b[49m\u001b[43m,\u001b[49m\u001b[43m \u001b[49m\u001b[43mx0\u001b[49m\u001b[43m,\u001b[49m\u001b[43m \u001b[49m\u001b[43margs\u001b[49m\u001b[43m,\u001b[49m\u001b[43m \u001b[49m\u001b[43mcallback\u001b[49m\u001b[43m,\u001b[49m\u001b[43m \u001b[49m\u001b[43mbounds\u001b[49m\u001b[38;5;241;43m=\u001b[39;49m\u001b[43mbounds\u001b[49m\u001b[43m,\u001b[49m\n\u001b[0;32m    727\u001b[0m \u001b[43m                               \u001b[49m\u001b[38;5;241;43m*\u001b[39;49m\u001b[38;5;241;43m*\u001b[39;49m\u001b[43moptions\u001b[49m\u001b[43m)\u001b[49m\n\u001b[0;32m    728\u001b[0m \u001b[38;5;28;01melif\u001b[39;00m meth \u001b[38;5;241m==\u001b[39m \u001b[38;5;124m'\u001b[39m\u001b[38;5;124mpowell\u001b[39m\u001b[38;5;124m'\u001b[39m:\n\u001b[0;32m    729\u001b[0m     res \u001b[38;5;241m=\u001b[39m _minimize_powell(fun, x0, args, callback, bounds, \u001b[38;5;241m*\u001b[39m\u001b[38;5;241m*\u001b[39moptions)\n",
      "File \u001b[1;32m~\\AppData\\Local\\Packages\\PythonSoftwareFoundation.Python.3.12_qbz5n2kfra8p0\\LocalCache\\local-packages\\Python312\\site-packages\\scipy\\optimize\\_optimize.py:909\u001b[0m, in \u001b[0;36m_minimize_neldermead\u001b[1;34m(func, x0, args, callback, maxiter, maxfev, disp, return_all, initial_simplex, xatol, fatol, adaptive, bounds, **unknown_options)\u001b[0m\n\u001b[0;32m    906\u001b[0m                     \u001b[38;5;28;01mif\u001b[39;00m bounds \u001b[38;5;129;01mis\u001b[39;00m \u001b[38;5;129;01mnot\u001b[39;00m \u001b[38;5;28;01mNone\u001b[39;00m:\n\u001b[0;32m    907\u001b[0m                         sim[j] \u001b[38;5;241m=\u001b[39m np\u001b[38;5;241m.\u001b[39mclip(\n\u001b[0;32m    908\u001b[0m                             sim[j], lower_bound, upper_bound)\n\u001b[1;32m--> 909\u001b[0m                     fsim[j] \u001b[38;5;241m=\u001b[39m \u001b[43mfunc\u001b[49m\u001b[43m(\u001b[49m\u001b[43msim\u001b[49m\u001b[43m[\u001b[49m\u001b[43mj\u001b[49m\u001b[43m]\u001b[49m\u001b[43m)\u001b[49m\n\u001b[0;32m    910\u001b[0m     iterations \u001b[38;5;241m+\u001b[39m\u001b[38;5;241m=\u001b[39m \u001b[38;5;241m1\u001b[39m\n\u001b[0;32m    911\u001b[0m \u001b[38;5;28;01mexcept\u001b[39;00m _MaxFuncCallError:\n",
      "File \u001b[1;32m~\\AppData\\Local\\Packages\\PythonSoftwareFoundation.Python.3.12_qbz5n2kfra8p0\\LocalCache\\local-packages\\Python312\\site-packages\\scipy\\optimize\\_optimize.py:542\u001b[0m, in \u001b[0;36m_wrap_scalar_function_maxfun_validation.<locals>.function_wrapper\u001b[1;34m(x, *wrapper_args)\u001b[0m\n\u001b[0;32m    540\u001b[0m ncalls[\u001b[38;5;241m0\u001b[39m] \u001b[38;5;241m+\u001b[39m\u001b[38;5;241m=\u001b[39m \u001b[38;5;241m1\u001b[39m\n\u001b[0;32m    541\u001b[0m \u001b[38;5;66;03m# A copy of x is sent to the user function (gh13740)\u001b[39;00m\n\u001b[1;32m--> 542\u001b[0m fx \u001b[38;5;241m=\u001b[39m \u001b[43mfunction\u001b[49m\u001b[43m(\u001b[49m\u001b[43mnp\u001b[49m\u001b[38;5;241;43m.\u001b[39;49m\u001b[43mcopy\u001b[49m\u001b[43m(\u001b[49m\u001b[43mx\u001b[49m\u001b[43m)\u001b[49m\u001b[43m,\u001b[49m\u001b[43m \u001b[49m\u001b[38;5;241;43m*\u001b[39;49m\u001b[43m(\u001b[49m\u001b[43mwrapper_args\u001b[49m\u001b[43m \u001b[49m\u001b[38;5;241;43m+\u001b[39;49m\u001b[43m \u001b[49m\u001b[43margs\u001b[49m\u001b[43m)\u001b[49m\u001b[43m)\u001b[49m\n\u001b[0;32m    543\u001b[0m \u001b[38;5;66;03m# Ideally, we'd like to a have a true scalar returned from f(x). For\u001b[39;00m\n\u001b[0;32m    544\u001b[0m \u001b[38;5;66;03m# backwards-compatibility, also allow np.array([1.3]),\u001b[39;00m\n\u001b[0;32m    545\u001b[0m \u001b[38;5;66;03m# np.array([[1.3]]) etc.\u001b[39;00m\n\u001b[0;32m    546\u001b[0m \u001b[38;5;28;01mif\u001b[39;00m \u001b[38;5;129;01mnot\u001b[39;00m np\u001b[38;5;241m.\u001b[39misscalar(fx):\n",
      "Cell \u001b[1;32mIn[5], line 22\u001b[0m, in \u001b[0;36mf\u001b[1;34m(x)\u001b[0m\n\u001b[0;32m     20\u001b[0m subspace\u001b[38;5;241m.\u001b[39mmake_invs_sqrt_beta_mats()\n\u001b[0;32m     21\u001b[0m subspace\u001b[38;5;241m.\u001b[39mmake_P_mats()\n\u001b[1;32m---> 22\u001b[0m \u001b[43msubspace\u001b[49m\u001b[38;5;241;43m.\u001b[39;49m\u001b[43mfind_P_eigens\u001b[49m\u001b[43m(\u001b[49m\u001b[43m)\u001b[49m\n\u001b[0;32m     23\u001b[0m subspace\u001b[38;5;241m.\u001b[39mfind_energy_levels()\n\u001b[0;32m     24\u001b[0m \u001b[38;5;28;01mreturn\u001b[39;00m subspace\u001b[38;5;241m.\u001b[39menergy_levels[\u001b[38;5;241m0\u001b[39m,\u001b[38;5;241m0\u001b[39m]\n",
      "File \u001b[1;32mc:\\Users\\myles\\Documents\\GitHub\\3-particle-quantum-systems\\header.py:98\u001b[0m, in \u001b[0;36mSubspace.find_P_eigens\u001b[1;34m(self)\u001b[0m\n\u001b[0;32m     95\u001b[0m \u001b[38;5;28;01mif\u001b[39;00m \u001b[38;5;28mself\u001b[39m\u001b[38;5;241m.\u001b[39mverbose:\n\u001b[0;32m     96\u001b[0m   \u001b[38;5;28mprint\u001b[39m(\u001b[38;5;124m\"\u001b[39m\u001b[38;5;124mFinding P eigenvectors and eigenvalues.\u001b[39m\u001b[38;5;124m\"\u001b[39m)\n\u001b[1;32m---> 98\u001b[0m \u001b[38;5;28mself\u001b[39m\u001b[38;5;241m.\u001b[39mP_eigenvalues, \u001b[38;5;28mself\u001b[39m\u001b[38;5;241m.\u001b[39mP_eigenvectors\u001b[38;5;241m=\u001b[39m\u001b[43mnp\u001b[49m\u001b[38;5;241;43m.\u001b[39;49m\u001b[43mlinalg\u001b[49m\u001b[38;5;241;43m.\u001b[39;49m\u001b[43meig\u001b[49m\u001b[43m(\u001b[49m\u001b[38;5;28;43mself\u001b[39;49m\u001b[38;5;241;43m.\u001b[39;49m\u001b[43mP_mats\u001b[49m\u001b[43m)\u001b[49m\n",
      "File \u001b[1;32m~\\AppData\\Local\\Packages\\PythonSoftwareFoundation.Python.3.12_qbz5n2kfra8p0\\LocalCache\\local-packages\\Python312\\site-packages\\numpy\\linalg\\_linalg.py:1465\u001b[0m, in \u001b[0;36meig\u001b[1;34m(a)\u001b[0m\n\u001b[0;32m   1463\u001b[0m _assert_stacked_2d(a)\n\u001b[0;32m   1464\u001b[0m _assert_stacked_square(a)\n\u001b[1;32m-> 1465\u001b[0m \u001b[43m_assert_finite\u001b[49m\u001b[43m(\u001b[49m\u001b[43ma\u001b[49m\u001b[43m)\u001b[49m\n\u001b[0;32m   1466\u001b[0m t, result_t \u001b[38;5;241m=\u001b[39m _commonType(a)\n\u001b[0;32m   1468\u001b[0m signature \u001b[38;5;241m=\u001b[39m \u001b[38;5;124m'\u001b[39m\u001b[38;5;124mD->DD\u001b[39m\u001b[38;5;124m'\u001b[39m \u001b[38;5;28;01mif\u001b[39;00m isComplexType(t) \u001b[38;5;28;01melse\u001b[39;00m \u001b[38;5;124m'\u001b[39m\u001b[38;5;124md->DD\u001b[39m\u001b[38;5;124m'\u001b[39m\n",
      "File \u001b[1;32m~\\AppData\\Local\\Packages\\PythonSoftwareFoundation.Python.3.12_qbz5n2kfra8p0\\LocalCache\\local-packages\\Python312\\site-packages\\numpy\\linalg\\_linalg.py:207\u001b[0m, in \u001b[0;36m_assert_finite\u001b[1;34m(*arrays)\u001b[0m\n\u001b[0;32m    205\u001b[0m \u001b[38;5;28;01mfor\u001b[39;00m a \u001b[38;5;129;01min\u001b[39;00m arrays:\n\u001b[0;32m    206\u001b[0m     \u001b[38;5;28;01mif\u001b[39;00m \u001b[38;5;129;01mnot\u001b[39;00m isfinite(a)\u001b[38;5;241m.\u001b[39mall():\n\u001b[1;32m--> 207\u001b[0m         \u001b[38;5;28;01mraise\u001b[39;00m LinAlgError(\u001b[38;5;124m\"\u001b[39m\u001b[38;5;124mArray must not contain infs or NaNs\u001b[39m\u001b[38;5;124m\"\u001b[39m)\n",
      "\u001b[1;31mLinAlgError\u001b[0m: Array must not contain infs or NaNs"
     ]
    }
   ],
   "source": [
    "for i in range(100):\n",
    "    print(i)\n",
    "    def f(x):\n",
    "        if x[0]<=0 or x[1]<=0 or x[2]<=0:\n",
    "            return 10000\n",
    "        \n",
    "        theparams=np.expand_dims(np.array(params+[x]).transpose(),-1)\n",
    "\n",
    "        subspace=Subspace(len(params)+1)\n",
    "\n",
    "        subspace.set_N_func(N_func)\n",
    "        subspace.set_H_func(H_func)\n",
    "\n",
    "        subspace.set_params(1,theparams)\n",
    "\n",
    "        subspace.make_N_mats_vectorized()\n",
    "        subspace.make_H_mats_vectorized()\n",
    "        subspace.find_N_eigens()\n",
    "        subspace.make_Y_mats()\n",
    "        subspace.make_invs_sqrt_beta_mats()\n",
    "        subspace.make_P_mats()\n",
    "        subspace.find_P_eigens()\n",
    "        subspace.find_energy_levels()\n",
    "        return subspace.energy_levels[0,0]\n",
    "\n",
    "    res=minimize(f,x0=[0.02,0.02,0.004],method='Nelder-Mead')\n",
    "\n",
    "    params.append(res.x)\n",
    "\n",
    "    N.append(i+1)\n",
    "    E.append(res.fun)"
   ]
  },
  {
   "cell_type": "code",
   "execution_count": 6,
   "metadata": {},
   "outputs": [
    {
     "data": {
      "text/plain": [
       "<matplotlib.collections.PathCollection at 0x27f82145a00>"
      ]
     },
     "execution_count": 6,
     "metadata": {},
     "output_type": "execute_result"
    },
    {
     "data": {
      "image/png": "[encoded data removed]",
      "text/plain": [
       "<Figure size 640x480 with 1 Axes>"
      ]
     },
     "metadata": {},
     "output_type": "display_data"
    }
   ],
   "source": [
    "import matplotlib.pyplot as plt\n",
    "\n",
    "plt.scatter(N,np.log(np.array(E)+79.005168))"
   ]
  },
  {
   "cell_type": "code",
   "execution_count": 7,
   "metadata": {},
   "outputs": [
    {
     "name": "stdout",
     "output_type": "stream",
     "text": [
      "[np.float64(-77.47800770399431), np.float64(-78.64464969705529), np.float64(-78.75169253726284), np.float64(-78.91499442169135), np.float64(-78.94686127315357), np.float64(-78.95992057211234), np.float64(-78.96536822268288), np.float64(-78.96824863108266), np.float64(-78.97120820741127), np.float64(-78.9760088189376), np.float64(-78.98992830419887), np.float64(-78.99157952670978), np.float64(-78.99305551190119), np.float64(-78.9941064265197), np.float64(-78.99514910417952), np.float64(-78.99624289755292), np.float64(-78.99637246524242), np.float64(-78.99719798731446), np.float64(-78.99776763146359), np.float64(-78.99829230949278), np.float64(-78.99849906858596), np.float64(-78.99872822232958), np.float64(-78.99883532811191), np.float64(-78.9995829359161), np.float64(-78.99963126353518), np.float64(-78.999751676737), np.float64(-78.99985774606205), np.float64(-79.00010176679088), np.float64(-79.00015293415231), np.float64(-79.00017836069863), np.float64(-79.00035551703522), np.float64(-79.00053774966023), np.float64(-79.00055883970555), np.float64(-79.00082971260461), np.float64(-79.00088868471492), np.float64(-79.00094346496098), np.float64(-79.00103250449553), np.float64(-79.00103460156542), np.float64(-79.00104655253617), np.float64(-79.0011092156118), np.float64(-79.00120381970005), np.float64(-79.00124405981504), np.float64(-79.00125508720714), np.float64(-79.00128257679968), np.float64(-79.00131682915288), np.float64(-79.00131820224316), np.float64(-79.00145026654538), np.float64(-79.00156206886808), np.float64(-79.00167958916927), np.float64(-79.00168134097729), np.float64(-79.00172373949778), np.float64(-79.00175850757961), np.float64(-79.00176382159363), np.float64(-79.00176949558552), np.float64(-79.00177827369498), np.float64(-79.00178290118899), np.float64(-79.00181822706503), np.float64(-79.00182110766605), np.float64(-79.0018526199197), np.float64(-79.00187899765426), np.float64(-79.00189111528225)]\n"
     ]
    }
   ],
   "source": [
    "print(E)"
   ]
  },
  {
   "cell_type": "code",
   "execution_count": 13,
   "metadata": {},
   "outputs": [],
   "source": [
    "x0=np.array(params).flatten()"
   ]
  },
  {
   "cell_type": "code",
   "execution_count": 14,
   "metadata": {},
   "outputs": [],
   "source": [
    "dim=61"
   ]
  },
  {
   "cell_type": "code",
   "execution_count": 18,
   "metadata": {},
   "outputs": [],
   "source": [
    "def f(x):\n",
    "    theseparams=np.expand_dims(x.reshape(3,-1,order='F'),-1)\n",
    "\n",
    "    for i in range(dim):\n",
    "        a,b,c=theseparams[:,i].flatten()\n",
    "        if a<0 or b<0 or c<0 or a*b==0 or a*c==0 or b*c==0:\n",
    "            return 1000\n",
    "        \n",
    "    subspace=Subspace(dim)\n",
    "\n",
    "    subspace.set_N_func(N_func)\n",
    "    subspace.set_H_func(H_func)\n",
    "\n",
    "    subspace.set_params(1,theseparams)\n",
    "\n",
    "    subspace.make_N_mats_vectorized()\n",
    "    subspace.make_H_mats_vectorized()\n",
    "    subspace.find_N_eigens()\n",
    "    if np.any(subspace.N_eigenvalues<0):\n",
    "        return 1000\n",
    "    subspace.make_Y_mats()\n",
    "    subspace.make_invs_sqrt_beta_mats()\n",
    "    subspace.make_P_mats()\n",
    "    subspace.find_P_eigens()\n",
    "    subspace.find_energy_levels()\n",
    "    return subspace.energy_levels[0,0]\n",
    "    \n",
    "    "
   ]
  },
  {
   "cell_type": "code",
   "execution_count": 19,
   "metadata": {},
   "outputs": [
    {
     "name": "stdout",
     "output_type": "stream",
     "text": [
      "-79.00189111528225\n"
     ]
    }
   ],
   "source": [
    "print(f(x0))"
   ]
  },
  {
   "cell_type": "code",
   "execution_count": 20,
   "metadata": {},
   "outputs": [
    {
     "name": "stdout",
     "output_type": "stream",
     "text": [
      "-79.00207308068234\n",
      "-79.00212971529533\n",
      "-79.00238561072652\n"
     ]
    },
    {
     "name": "stderr",
     "output_type": "stream",
     "text": [
      "C:\\Users\\myles\\AppData\\Local\\Packages\\PythonSoftwareFoundation.Python.3.12_qbz5n2kfra8p0\\LocalCache\\local-packages\\Python312\\site-packages\\scipy\\optimize\\_optimize.py:876: ComplexWarning: Casting complex values to real discards the imaginary part\n",
      "  fsim[-1] = fxr\n"
     ]
    },
    {
     "name": "stdout",
     "output_type": "stream",
     "text": [
      "-79.00249621476293\n",
      "-79.00251797822453\n",
      "-79.0025273668573\n",
      "-79.00252770119744\n"
     ]
    },
    {
     "ename": "KeyboardInterrupt",
     "evalue": "",
     "output_type": "error",
     "traceback": [
      "\u001b[1;31m---------------------------------------------------------------------------\u001b[0m",
      "\u001b[1;31mKeyboardInterrupt\u001b[0m                         Traceback (most recent call last)",
      "Cell \u001b[1;32mIn[20], line 3\u001b[0m\n\u001b[0;32m      1\u001b[0m x\u001b[38;5;241m=\u001b[39mx0\n\u001b[0;32m      2\u001b[0m \u001b[38;5;28;01mfor\u001b[39;00m i \u001b[38;5;129;01min\u001b[39;00m \u001b[38;5;28mrange\u001b[39m(\u001b[38;5;241m100\u001b[39m):    \n\u001b[1;32m----> 3\u001b[0m     res\u001b[38;5;241m=\u001b[39m\u001b[43mminimize\u001b[49m\u001b[43m(\u001b[49m\u001b[43mf\u001b[49m\u001b[43m,\u001b[49m\u001b[43mx0\u001b[49m\u001b[38;5;241;43m=\u001b[39;49m\u001b[43mx\u001b[49m\u001b[43m,\u001b[49m\u001b[43mmethod\u001b[49m\u001b[38;5;241;43m=\u001b[39;49m\u001b[38;5;124;43m'\u001b[39;49m\u001b[38;5;124;43mNelder-Mead\u001b[39;49m\u001b[38;5;124;43m'\u001b[39;49m\u001b[43m)\u001b[49m\n\u001b[0;32m      4\u001b[0m     \u001b[38;5;28mprint\u001b[39m(res\u001b[38;5;241m.\u001b[39mfun)\n\u001b[0;32m      5\u001b[0m     x\u001b[38;5;241m=\u001b[39mres\u001b[38;5;241m.\u001b[39mx\n",
      "File \u001b[1;32m~\\AppData\\Local\\Packages\\PythonSoftwareFoundation.Python.3.12_qbz5n2kfra8p0\\LocalCache\\local-packages\\Python312\\site-packages\\scipy\\optimize\\_minimize.py:726\u001b[0m, in \u001b[0;36mminimize\u001b[1;34m(fun, x0, args, method, jac, hess, hessp, bounds, constraints, tol, callback, options)\u001b[0m\n\u001b[0;32m    723\u001b[0m callback \u001b[38;5;241m=\u001b[39m _wrap_callback(callback, meth)\n\u001b[0;32m    725\u001b[0m \u001b[38;5;28;01mif\u001b[39;00m meth \u001b[38;5;241m==\u001b[39m \u001b[38;5;124m'\u001b[39m\u001b[38;5;124mnelder-mead\u001b[39m\u001b[38;5;124m'\u001b[39m:\n\u001b[1;32m--> 726\u001b[0m     res \u001b[38;5;241m=\u001b[39m \u001b[43m_minimize_neldermead\u001b[49m\u001b[43m(\u001b[49m\u001b[43mfun\u001b[49m\u001b[43m,\u001b[49m\u001b[43m \u001b[49m\u001b[43mx0\u001b[49m\u001b[43m,\u001b[49m\u001b[43m \u001b[49m\u001b[43margs\u001b[49m\u001b[43m,\u001b[49m\u001b[43m \u001b[49m\u001b[43mcallback\u001b[49m\u001b[43m,\u001b[49m\u001b[43m \u001b[49m\u001b[43mbounds\u001b[49m\u001b[38;5;241;43m=\u001b[39;49m\u001b[43mbounds\u001b[49m\u001b[43m,\u001b[49m\n\u001b[0;32m    727\u001b[0m \u001b[43m                               \u001b[49m\u001b[38;5;241;43m*\u001b[39;49m\u001b[38;5;241;43m*\u001b[39;49m\u001b[43moptions\u001b[49m\u001b[43m)\u001b[49m\n\u001b[0;32m    728\u001b[0m \u001b[38;5;28;01melif\u001b[39;00m meth \u001b[38;5;241m==\u001b[39m \u001b[38;5;124m'\u001b[39m\u001b[38;5;124mpowell\u001b[39m\u001b[38;5;124m'\u001b[39m:\n\u001b[0;32m    729\u001b[0m     res \u001b[38;5;241m=\u001b[39m _minimize_powell(fun, x0, args, callback, bounds, \u001b[38;5;241m*\u001b[39m\u001b[38;5;241m*\u001b[39moptions)\n",
      "File \u001b[1;32m~\\AppData\\Local\\Packages\\PythonSoftwareFoundation.Python.3.12_qbz5n2kfra8p0\\LocalCache\\local-packages\\Python312\\site-packages\\scipy\\optimize\\_optimize.py:909\u001b[0m, in \u001b[0;36m_minimize_neldermead\u001b[1;34m(func, x0, args, callback, maxiter, maxfev, disp, return_all, initial_simplex, xatol, fatol, adaptive, bounds, **unknown_options)\u001b[0m\n\u001b[0;32m    906\u001b[0m                     \u001b[38;5;28;01mif\u001b[39;00m bounds \u001b[38;5;129;01mis\u001b[39;00m \u001b[38;5;129;01mnot\u001b[39;00m \u001b[38;5;28;01mNone\u001b[39;00m:\n\u001b[0;32m    907\u001b[0m                         sim[j] \u001b[38;5;241m=\u001b[39m np\u001b[38;5;241m.\u001b[39mclip(\n\u001b[0;32m    908\u001b[0m                             sim[j], lower_bound, upper_bound)\n\u001b[1;32m--> 909\u001b[0m                     fsim[j] \u001b[38;5;241m=\u001b[39m \u001b[43mfunc\u001b[49m\u001b[43m(\u001b[49m\u001b[43msim\u001b[49m\u001b[43m[\u001b[49m\u001b[43mj\u001b[49m\u001b[43m]\u001b[49m\u001b[43m)\u001b[49m\n\u001b[0;32m    910\u001b[0m     iterations \u001b[38;5;241m+\u001b[39m\u001b[38;5;241m=\u001b[39m \u001b[38;5;241m1\u001b[39m\n\u001b[0;32m    911\u001b[0m \u001b[38;5;28;01mexcept\u001b[39;00m _MaxFuncCallError:\n",
      "File \u001b[1;32m~\\AppData\\Local\\Packages\\PythonSoftwareFoundation.Python.3.12_qbz5n2kfra8p0\\LocalCache\\local-packages\\Python312\\site-packages\\scipy\\optimize\\_optimize.py:542\u001b[0m, in \u001b[0;36m_wrap_scalar_function_maxfun_validation.<locals>.function_wrapper\u001b[1;34m(x, *wrapper_args)\u001b[0m\n\u001b[0;32m    540\u001b[0m ncalls[\u001b[38;5;241m0\u001b[39m] \u001b[38;5;241m+\u001b[39m\u001b[38;5;241m=\u001b[39m \u001b[38;5;241m1\u001b[39m\n\u001b[0;32m    541\u001b[0m \u001b[38;5;66;03m# A copy of x is sent to the user function (gh13740)\u001b[39;00m\n\u001b[1;32m--> 542\u001b[0m fx \u001b[38;5;241m=\u001b[39m \u001b[43mfunction\u001b[49m\u001b[43m(\u001b[49m\u001b[43mnp\u001b[49m\u001b[38;5;241;43m.\u001b[39;49m\u001b[43mcopy\u001b[49m\u001b[43m(\u001b[49m\u001b[43mx\u001b[49m\u001b[43m)\u001b[49m\u001b[43m,\u001b[49m\u001b[43m \u001b[49m\u001b[38;5;241;43m*\u001b[39;49m\u001b[43m(\u001b[49m\u001b[43mwrapper_args\u001b[49m\u001b[43m \u001b[49m\u001b[38;5;241;43m+\u001b[39;49m\u001b[43m \u001b[49m\u001b[43margs\u001b[49m\u001b[43m)\u001b[49m\u001b[43m)\u001b[49m\n\u001b[0;32m    543\u001b[0m \u001b[38;5;66;03m# Ideally, we'd like to a have a true scalar returned from f(x). For\u001b[39;00m\n\u001b[0;32m    544\u001b[0m \u001b[38;5;66;03m# backwards-compatibility, also allow np.array([1.3]),\u001b[39;00m\n\u001b[0;32m    545\u001b[0m \u001b[38;5;66;03m# np.array([[1.3]]) etc.\u001b[39;00m\n\u001b[0;32m    546\u001b[0m \u001b[38;5;28;01mif\u001b[39;00m \u001b[38;5;129;01mnot\u001b[39;00m np\u001b[38;5;241m.\u001b[39misscalar(fx):\n",
      "Cell \u001b[1;32mIn[18], line 17\u001b[0m, in \u001b[0;36mf\u001b[1;34m(x)\u001b[0m\n\u001b[0;32m     14\u001b[0m subspace\u001b[38;5;241m.\u001b[39mset_params(\u001b[38;5;241m1\u001b[39m,theseparams)\n\u001b[0;32m     16\u001b[0m subspace\u001b[38;5;241m.\u001b[39mmake_N_mats_vectorized()\n\u001b[1;32m---> 17\u001b[0m \u001b[43msubspace\u001b[49m\u001b[38;5;241;43m.\u001b[39;49m\u001b[43mmake_H_mats_vectorized\u001b[49m\u001b[43m(\u001b[49m\u001b[43m)\u001b[49m\n\u001b[0;32m     18\u001b[0m subspace\u001b[38;5;241m.\u001b[39mfind_N_eigens()\n\u001b[0;32m     19\u001b[0m \u001b[38;5;28;01mif\u001b[39;00m np\u001b[38;5;241m.\u001b[39many(subspace\u001b[38;5;241m.\u001b[39mN_eigenvalues\u001b[38;5;241m<\u001b[39m\u001b[38;5;241m0\u001b[39m):\n",
      "File \u001b[1;32mc:\\Users\\myles\\Documents\\GitHub\\3-particle-quantum-systems\\header.py:63\u001b[0m, in \u001b[0;36mSubspace.make_H_mats_vectorized\u001b[1;34m(self)\u001b[0m\n\u001b[0;32m     61\u001b[0m   \u001b[38;5;28mprint\u001b[39m(\u001b[38;5;124m\"\u001b[39m\u001b[38;5;124mConstructing the H matrices.\u001b[39m\u001b[38;5;124m\"\u001b[39m)\n\u001b[0;32m     62\u001b[0m indecies\u001b[38;5;241m=\u001b[39mnp\u001b[38;5;241m.\u001b[39marray(np\u001b[38;5;241m.\u001b[39mmeshgrid(np\u001b[38;5;241m.\u001b[39marange(\u001b[38;5;28mself\u001b[39m\u001b[38;5;241m.\u001b[39mdim),np\u001b[38;5;241m.\u001b[39marange(\u001b[38;5;28mself\u001b[39m\u001b[38;5;241m.\u001b[39mdim),indexing\u001b[38;5;241m=\u001b[39m\u001b[38;5;124m'\u001b[39m\u001b[38;5;124mij\u001b[39m\u001b[38;5;124m'\u001b[39m))\u001b[38;5;241m.\u001b[39mtranspose([\u001b[38;5;241m1\u001b[39m,\u001b[38;5;241m2\u001b[39m,\u001b[38;5;241m0\u001b[39m])\n\u001b[1;32m---> 63\u001b[0m \u001b[38;5;28mself\u001b[39m\u001b[38;5;241m.\u001b[39mH_mats\u001b[38;5;241m=\u001b[39mnp\u001b[38;5;241m.\u001b[39mtranspose(\u001b[38;5;28;43mself\u001b[39;49m\u001b[38;5;241;43m.\u001b[39;49m\u001b[43mH_func\u001b[49m\u001b[43m(\u001b[49m\u001b[43mindecies\u001b[49m\u001b[43m[\u001b[49m\u001b[43m:\u001b[49m\u001b[43m,\u001b[49m\u001b[43m:\u001b[49m\u001b[43m,\u001b[49m\u001b[38;5;241;43m0\u001b[39;49m\u001b[43m]\u001b[49m\u001b[43m,\u001b[49m\u001b[43mindecies\u001b[49m\u001b[43m[\u001b[49m\u001b[43m:\u001b[49m\u001b[43m,\u001b[49m\u001b[43m:\u001b[49m\u001b[43m,\u001b[49m\u001b[38;5;241;43m1\u001b[39;49m\u001b[43m]\u001b[49m\u001b[43m,\u001b[49m\u001b[38;5;241;43m*\u001b[39;49m\u001b[38;5;28;43mself\u001b[39;49m\u001b[38;5;241;43m.\u001b[39;49m\u001b[43mparams\u001b[49m\u001b[43m)\u001b[49m,[\u001b[38;5;241m2\u001b[39m,\u001b[38;5;241m0\u001b[39m,\u001b[38;5;241m1\u001b[39m])\n",
      "File \u001b[1;32mc:\\Users\\myles\\Documents\\GitHub\\3-particle-quantum-systems\\exponential.py:124\u001b[0m, in \u001b[0;36mH_func\u001b[1;34m(i, j, alphas, betas, gammas)\u001b[0m\n\u001b[0;32m    115\u001b[0m \u001b[38;5;28;01mdef\u001b[39;00m\u001b[38;5;250m \u001b[39m\u001b[38;5;21mH_func\u001b[39m(i,j,alphas,betas,gammas):\n\u001b[0;32m    117\u001b[0m \tlambdas\u001b[38;5;241m=\u001b[39m[\n\u001b[0;32m    118\u001b[0m \t\t\u001b[38;5;241m1\u001b[39m\u001b[38;5;241m/\u001b[39m(np\u001b[38;5;241m.\u001b[39mconjugate(alphas[i])\u001b[38;5;241m+\u001b[39malphas[j]\u001b[38;5;241m+\u001b[39mnp\u001b[38;5;241m.\u001b[39mconjugate(betas[i])\u001b[38;5;241m+\u001b[39mbetas[j]),\u001b[38;5;241m1\u001b[39m\u001b[38;5;241m/\u001b[39m(np\u001b[38;5;241m.\u001b[39mconjugate(alphas[i])\u001b[38;5;241m+\u001b[39malphas[j]\u001b[38;5;241m+\u001b[39mnp\u001b[38;5;241m.\u001b[39mconjugate(gammas[i])\u001b[38;5;241m+\u001b[39mgammas[j]),  \u001b[38;5;241m1\u001b[39m\u001b[38;5;241m/\u001b[39m(np\u001b[38;5;241m.\u001b[39mconjugate(betas[i])\u001b[38;5;241m+\u001b[39mbetas[j]\u001b[38;5;241m+\u001b[39mnp\u001b[38;5;241m.\u001b[39mconjugate(gammas[i])\u001b[38;5;241m+\u001b[39mgammas[j]),  \n\u001b[0;32m    119\u001b[0m \t\t\u001b[38;5;241m0.5\u001b[39m\u001b[38;5;241m/\u001b[39m(np\u001b[38;5;241m.\u001b[39mreal(alphas[i])\u001b[38;5;241m+\u001b[39mnp\u001b[38;5;241m.\u001b[39mreal(betas[i])), \u001b[38;5;241m0.5\u001b[39m\u001b[38;5;241m/\u001b[39m(np\u001b[38;5;241m.\u001b[39mreal(alphas[i])\u001b[38;5;241m+\u001b[39mnp\u001b[38;5;241m.\u001b[39mreal(gammas[i])), \u001b[38;5;241m0.5\u001b[39m\u001b[38;5;241m/\u001b[39m(np\u001b[38;5;241m.\u001b[39mreal(betas[i])\u001b[38;5;241m+\u001b[39mnp\u001b[38;5;241m.\u001b[39mreal(gammas[i])),\n\u001b[0;32m    120\u001b[0m \t\t\u001b[38;5;241m0.5\u001b[39m\u001b[38;5;241m/\u001b[39m(np\u001b[38;5;241m.\u001b[39mreal(alphas[j])\u001b[38;5;241m+\u001b[39mnp\u001b[38;5;241m.\u001b[39mreal(betas[j])), \u001b[38;5;241m0.5\u001b[39m\u001b[38;5;241m/\u001b[39m(np\u001b[38;5;241m.\u001b[39mreal(alphas[j])\u001b[38;5;241m+\u001b[39mnp\u001b[38;5;241m.\u001b[39mreal(gammas[j])), \u001b[38;5;241m0.5\u001b[39m\u001b[38;5;241m/\u001b[39m(np\u001b[38;5;241m.\u001b[39mreal(betas[j])\u001b[38;5;241m+\u001b[39mnp\u001b[38;5;241m.\u001b[39mreal(gammas[j]))\n\u001b[0;32m    121\u001b[0m \t\t]\n\u001b[0;32m    123\u001b[0m \tT\u001b[38;5;241m=\u001b[39m\u001b[38;5;241m-\u001b[39m\u001b[38;5;241m0.5\u001b[39m\u001b[38;5;241m*\u001b[39mhbar\u001b[38;5;241m*\u001b[39m\u001b[38;5;241m*\u001b[39m\u001b[38;5;241m2\u001b[39m\u001b[38;5;241m*\u001b[39m(\n\u001b[1;32m--> 124\u001b[0m \t\t\t((alphas[j]\u001b[38;5;241m*\u001b[39m\u001b[38;5;241m*\u001b[39m\u001b[38;5;241m2\u001b[39m\u001b[38;5;241m+\u001b[39mbetas[j]\u001b[38;5;241m*\u001b[39m\u001b[38;5;241m*\u001b[39m\u001b[38;5;241m2\u001b[39m)\u001b[38;5;241m/\u001b[39mm1  \u001b[38;5;241m+\u001b[39m  (alphas[j]\u001b[38;5;241m*\u001b[39m\u001b[38;5;241m*\u001b[39m\u001b[38;5;241m2\u001b[39m\u001b[38;5;241m+\u001b[39mgammas[j]\u001b[38;5;241m*\u001b[39m\u001b[38;5;241m*\u001b[39m\u001b[38;5;241m2\u001b[39m)\u001b[38;5;241m/\u001b[39mm2  \u001b[38;5;241m+\u001b[39m  (betas[j]\u001b[38;5;241m*\u001b[39m\u001b[38;5;241m*\u001b[39m\u001b[38;5;241m2\u001b[39m\u001b[38;5;241m+\u001b[39mgammas[j]\u001b[38;5;241m*\u001b[39m\u001b[38;5;241m*\u001b[39m\u001b[38;5;241m2\u001b[39m)\u001b[38;5;241m/\u001b[39mm3)\u001b[38;5;241m*\u001b[39m\u001b[43mI111\u001b[49m\u001b[43m(\u001b[49m\u001b[43mlambdas\u001b[49m\u001b[43m)\u001b[49m\n\u001b[0;32m    125\u001b[0m \t\t\t\n\u001b[0;32m    126\u001b[0m \t\t\t\u001b[38;5;241m-\u001b[39m\u001b[38;5;241m2\u001b[39m\u001b[38;5;241m*\u001b[39malphas[j]\u001b[38;5;241m*\u001b[39m(\u001b[38;5;241m1\u001b[39m\u001b[38;5;241m/\u001b[39mm1\u001b[38;5;241m+\u001b[39m\u001b[38;5;241m1\u001b[39m\u001b[38;5;241m/\u001b[39mm2)\u001b[38;5;241m*\u001b[39mI110(order(\u001b[38;5;241m1\u001b[39m,\u001b[38;5;241m2\u001b[39m,\u001b[38;5;241m0\u001b[39m,lambdas))\n\u001b[0;32m    127\u001b[0m \t\t\t\u001b[38;5;241m-\u001b[39m\u001b[38;5;241m2\u001b[39m\u001b[38;5;241m*\u001b[39mbetas[j]\u001b[38;5;241m*\u001b[39m(\u001b[38;5;241m1\u001b[39m\u001b[38;5;241m/\u001b[39mm1\u001b[38;5;241m+\u001b[39m\u001b[38;5;241m1\u001b[39m\u001b[38;5;241m/\u001b[39mm3)\u001b[38;5;241m*\u001b[39mI110(order(\u001b[38;5;241m0\u001b[39m,\u001b[38;5;241m2\u001b[39m,\u001b[38;5;241m1\u001b[39m,lambdas))  \n\u001b[0;32m    128\u001b[0m \t\t\t\u001b[38;5;241m-\u001b[39m\u001b[38;5;241m2\u001b[39m\u001b[38;5;241m*\u001b[39mgammas[j]\u001b[38;5;241m*\u001b[39m(\u001b[38;5;241m1\u001b[39m\u001b[38;5;241m/\u001b[39mm2\u001b[38;5;241m+\u001b[39m\u001b[38;5;241m1\u001b[39m\u001b[38;5;241m/\u001b[39mm3)\u001b[38;5;241m*\u001b[39mI110(lambdas) \n\u001b[0;32m    129\u001b[0m \t\t\t\t\n\u001b[0;32m    130\u001b[0m \t\t\t\u001b[38;5;241m+\u001b[39malphas[j]\u001b[38;5;241m*\u001b[39mbetas[j]\u001b[38;5;241m/\u001b[39mm1\u001b[38;5;241m*\u001b[39m(I210(order(\u001b[38;5;241m0\u001b[39m,\u001b[38;5;241m2\u001b[39m,\u001b[38;5;241m1\u001b[39m,lambdas))\u001b[38;5;241m+\u001b[39mI210(order(\u001b[38;5;241m1\u001b[39m,\u001b[38;5;241m2\u001b[39m,\u001b[38;5;241m0\u001b[39m,lambdas))\u001b[38;5;241m-\u001b[39mI300(order(\u001b[38;5;241m2\u001b[39m,\u001b[38;5;241m0\u001b[39m,\u001b[38;5;241m1\u001b[39m,lambdas)))\n\u001b[0;32m    131\u001b[0m \t\t\t\u001b[38;5;241m+\u001b[39malphas[j]\u001b[38;5;241m*\u001b[39mgammas[j]\u001b[38;5;241m/\u001b[39mm2\u001b[38;5;241m*\u001b[39m(I210(lambdas)\u001b[38;5;241m+\u001b[39mI210(order(\u001b[38;5;241m2\u001b[39m,\u001b[38;5;241m1\u001b[39m,\u001b[38;5;241m0\u001b[39m,lambdas))\u001b[38;5;241m-\u001b[39mI300(order(\u001b[38;5;241m1\u001b[39m,\u001b[38;5;241m0\u001b[39m,\u001b[38;5;241m2\u001b[39m,lambdas)))\n\u001b[0;32m    132\u001b[0m \t\t\t\u001b[38;5;241m+\u001b[39mbetas[j]\u001b[38;5;241m*\u001b[39mgammas[j]\u001b[38;5;241m/\u001b[39mm3\u001b[38;5;241m*\u001b[39m(I210(order(\u001b[38;5;241m1\u001b[39m,\u001b[38;5;241m0\u001b[39m,\u001b[38;5;241m2\u001b[39m,lambdas))\u001b[38;5;241m+\u001b[39mI210(order(\u001b[38;5;241m2\u001b[39m,\u001b[38;5;241m0\u001b[39m,\u001b[38;5;241m1\u001b[39m,lambdas))\u001b[38;5;241m-\u001b[39mI300(lambdas))\n\u001b[0;32m    133\u001b[0m \t\t\t)\n\u001b[0;32m    135\u001b[0m \tV\u001b[38;5;241m=\u001b[39m(e\u001b[38;5;241m*\u001b[39m\u001b[38;5;241m*\u001b[39m\u001b[38;5;241m2\u001b[39m\u001b[38;5;241m/\u001b[39m(\u001b[38;5;241m4\u001b[39m\u001b[38;5;241m*\u001b[39mnp\u001b[38;5;241m.\u001b[39mpi\u001b[38;5;241m*\u001b[39mepsilon0))\u001b[38;5;241m*\u001b[39m(\u001b[38;5;241m-\u001b[39m\u001b[38;5;241m2\u001b[39m\u001b[38;5;241m*\u001b[39mI110(order(\u001b[38;5;241m1\u001b[39m,\u001b[38;5;241m2\u001b[39m,\u001b[38;5;241m0\u001b[39m,lambdas))\u001b[38;5;241m-\u001b[39m\u001b[38;5;241m2\u001b[39m\u001b[38;5;241m*\u001b[39mI110(order(\u001b[38;5;241m0\u001b[39m,\u001b[38;5;241m2\u001b[39m,\u001b[38;5;241m1\u001b[39m,lambdas))\u001b[38;5;241m+\u001b[39mI110(lambdas))\n\u001b[0;32m    137\u001b[0m \t\u001b[38;5;28;01mreturn\u001b[39;00m T\u001b[38;5;241m+\u001b[39mV\n",
      "File \u001b[1;32mc:\\Users\\myles\\Documents\\GitHub\\3-particle-quantum-systems\\exponential.py:62\u001b[0m, in \u001b[0;36mI111\u001b[1;34m(lambdas)\u001b[0m\n\u001b[0;32m     50\u001b[0m     I\u001b[38;5;241m=\u001b[39m(\n\u001b[0;32m     51\u001b[0m         \u001b[38;5;241m0.5\u001b[39m\n\u001b[0;32m     52\u001b[0m         \u001b[38;5;241m*\u001b[39mpref(lambdas)\n\u001b[1;32m   (...)\u001b[0m\n\u001b[0;32m     57\u001b[0m         ))\n\u001b[0;32m     58\u001b[0m         )\n\u001b[0;32m     60\u001b[0m     \u001b[38;5;28;01mreturn\u001b[39;00m I\n\u001b[1;32m---> 62\u001b[0m \u001b[38;5;28;01mdef\u001b[39;00m\u001b[38;5;250m \u001b[39m\u001b[38;5;21mI111\u001b[39m(lambdas):\n\u001b[0;32m     64\u001b[0m     I\u001b[38;5;241m=\u001b[39m(\n\u001b[0;32m     65\u001b[0m         pref(lambdas)\n\u001b[0;32m     66\u001b[0m         \u001b[38;5;241m*\u001b[39m(mnt(lambdas[\u001b[38;5;241m0\u001b[39m],lambdas[\u001b[38;5;241m1\u001b[39m],lambdas[\u001b[38;5;241m2\u001b[39m])\n\u001b[1;32m   (...)\u001b[0m\n\u001b[0;32m     70\u001b[0m         ))\n\u001b[0;32m     71\u001b[0m         )\n\u001b[0;32m     72\u001b[0m     \u001b[38;5;28;01mreturn\u001b[39;00m I\n",
      "\u001b[1;31mKeyboardInterrupt\u001b[0m: "
     ]
    }
   ],
   "source": [
    "x=x0\n",
    "for i in range(100):    \n",
    "    res=minimize(f,x0=x,method='Nelder-Mead')\n",
    "    print(res.fun)\n",
    "    x=res.x"
   ]
  },
  {
   "cell_type": "code",
   "execution_count": 21,
   "metadata": {},
   "outputs": [],
   "source": [
    "#record -79.00252770119744"
   ]
  },
  {
   "cell_type": "code",
   "execution_count": 24,
   "metadata": {},
   "outputs": [
    {
     "data": {
      "text/plain": [
       "<matplotlib.collections.PathCollection at 0x27f823aa600>"
      ]
     },
     "execution_count": 24,
     "metadata": {},
     "output_type": "execute_result"
    },
    {
     "data": {
      "image/png": "[encoded data removed]",
      "text/plain": [
       "<Figure size 640x480 with 1 Axes>"
      ]
     },
     "metadata": {},
     "output_type": "display_data"
    }
   ],
   "source": [
    "theparams=x.reshape(3,-1,order='F')\n",
    "plt.scatter(N,theparams[0])"
   ]
  },
  {
   "cell_type": "code",
   "execution_count": null,
   "metadata": {},
   "outputs": [],
   "source": []
  }
 ],
 "metadata": {
  "kernelspec": {
   "display_name": "Python 3",
   "language": "python",
   "name": "python3"
  },
  "language_info": {
   "codemirror_mode": {
    "name": "ipython",
    "version": 3
   },
   "file_extension": ".py",
   "mimetype": "text/x-python",
   "name": "python",
   "nbconvert_exporter": "python",
   "pygments_lexer": "ipython3",
   "version": "3.12.9"
  }
 },
 "nbformat": 4,
 "nbformat_minor": 2
}
