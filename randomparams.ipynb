{
 "cells": [
  {
   "cell_type": "code",
   "execution_count": 1,
   "metadata": {},
   "outputs": [],
   "source": [
    "from exponential import *"
   ]
  },
  {
   "cell_type": "code",
   "execution_count": 2,
   "metadata": {},
   "outputs": [
    {
     "name": "stdout",
     "output_type": "stream",
     "text": [
      "0\n",
      "1\n",
      "2\n",
      "3\n",
      "4\n",
      "5\n",
      "6\n",
      "7\n",
      "8\n",
      "9\n",
      "10\n",
      "11\n",
      "12\n",
      "13\n",
      "14\n",
      "15\n",
      "16\n",
      "17\n",
      "18\n",
      "19\n",
      "20\n",
      "21\n",
      "22\n",
      "23\n",
      "24\n",
      "25\n",
      "26\n",
      "27\n",
      "28\n",
      "29\n",
      "30\n",
      "31\n",
      "32\n",
      "33\n",
      "34\n",
      "35\n",
      "36\n",
      "37\n",
      "38\n",
      "39\n",
      "40\n",
      "41\n",
      "42\n",
      "43\n",
      "44\n",
      "45\n",
      "46\n",
      "47\n",
      "48\n",
      "49\n",
      "50\n",
      "51\n",
      "52\n",
      "53\n",
      "54\n",
      "55\n",
      "56\n",
      "57\n",
      "58\n",
      "59\n",
      "60\n",
      "61\n",
      "62\n",
      "63\n",
      "64\n",
      "65\n",
      "66\n",
      "67\n",
      "68\n",
      "69\n",
      "70\n",
      "71\n",
      "72\n",
      "73\n",
      "74\n",
      "75\n",
      "76\n",
      "77\n",
      "78\n",
      "79\n",
      "80\n",
      "81\n",
      "82\n",
      "83\n",
      "84\n",
      "85\n",
      "86\n",
      "87\n",
      "88\n"
     ]
    },
    {
     "ename": "KeyboardInterrupt",
     "evalue": "",
     "output_type": "error",
     "traceback": [
      "\u001b[1;31m---------------------------------------------------------------------------\u001b[0m",
      "\u001b[1;31mKeyboardInterrupt\u001b[0m                         Traceback (most recent call last)",
      "Cell \u001b[1;32mIn[2], line 26\u001b[0m\n\u001b[0;32m     24\u001b[0m subspace\u001b[38;5;241m.\u001b[39mmake_invs_sqrt_beta_mats()\n\u001b[0;32m     25\u001b[0m subspace\u001b[38;5;241m.\u001b[39mmake_P_mats()\n\u001b[1;32m---> 26\u001b[0m \u001b[43msubspace\u001b[49m\u001b[38;5;241;43m.\u001b[39;49m\u001b[43mfind_P_eigens\u001b[49m\u001b[43m(\u001b[49m\u001b[43m)\u001b[49m\n\u001b[0;32m     27\u001b[0m subspace\u001b[38;5;241m.\u001b[39mfind_energy_levels()\n\u001b[0;32m     28\u001b[0m subspace\u001b[38;5;241m.\u001b[39mfind_energy_eigenstates()\n",
      "File \u001b[1;32mc:\\Users\\myles\\Documents\\GitHub\\3-particle-quantum-systems\\high_precision\\header.py:69\u001b[0m, in \u001b[0;36mSubspace.find_P_eigens\u001b[1;34m(self)\u001b[0m\n\u001b[0;32m     66\u001b[0m \u001b[38;5;28;01mif\u001b[39;00m \u001b[38;5;28mself\u001b[39m\u001b[38;5;241m.\u001b[39mverbose:\n\u001b[0;32m     67\u001b[0m   \u001b[38;5;28mprint\u001b[39m(\u001b[38;5;124m\"\u001b[39m\u001b[38;5;124mFinding P eigenvectors and eigenvalues.\u001b[39m\u001b[38;5;124m\"\u001b[39m)\n\u001b[1;32m---> 69\u001b[0m \u001b[38;5;28mself\u001b[39m\u001b[38;5;241m.\u001b[39mP_eigenvalues, \u001b[38;5;28mself\u001b[39m\u001b[38;5;241m.\u001b[39mP_eigenvectors\u001b[38;5;241m=\u001b[39m\u001b[43mmp\u001b[49m\u001b[38;5;241;43m.\u001b[39;49m\u001b[43meig\u001b[49m\u001b[43m(\u001b[49m\u001b[38;5;28;43mself\u001b[39;49m\u001b[38;5;241;43m.\u001b[39;49m\u001b[43mP_mats\u001b[49m\u001b[43m)\u001b[49m\n",
      "File \u001b[1;32m~\\AppData\\Local\\Packages\\PythonSoftwareFoundation.Python.3.12_qbz5n2kfra8p0\\LocalCache\\local-packages\\Python312\\site-packages\\mpmath\\matrices\\eigen.py:762\u001b[0m, in \u001b[0;36meig\u001b[1;34m(ctx, A, left, right, overwrite_a)\u001b[0m\n\u001b[0;32m    759\u001b[0m     \u001b[38;5;28;01mfor\u001b[39;00m y \u001b[38;5;129;01min\u001b[39;00m xrange(x \u001b[38;5;241m+\u001b[39m \u001b[38;5;241m2\u001b[39m, n):\n\u001b[0;32m    760\u001b[0m         A[y,x] \u001b[38;5;241m=\u001b[39m \u001b[38;5;241m0\u001b[39m\n\u001b[1;32m--> 762\u001b[0m \u001b[43mhessenberg_qr\u001b[49m\u001b[43m(\u001b[49m\u001b[43mctx\u001b[49m\u001b[43m,\u001b[49m\u001b[43m \u001b[49m\u001b[43mA\u001b[49m\u001b[43m,\u001b[49m\u001b[43m \u001b[49m\u001b[43mQ\u001b[49m\u001b[43m)\u001b[49m\n\u001b[0;32m    764\u001b[0m E \u001b[38;5;241m=\u001b[39m [\u001b[38;5;241m0\u001b[39m \u001b[38;5;28;01mfor\u001b[39;00m i \u001b[38;5;129;01min\u001b[39;00m xrange(n)]\n\u001b[0;32m    765\u001b[0m \u001b[38;5;28;01mfor\u001b[39;00m i \u001b[38;5;129;01min\u001b[39;00m xrange(n):\n",
      "File \u001b[1;32m~\\AppData\\Local\\Packages\\PythonSoftwareFoundation.Python.3.12_qbz5n2kfra8p0\\LocalCache\\local-packages\\Python312\\site-packages\\mpmath\\matrices\\eigen.py:485\u001b[0m, in \u001b[0;36mhessenberg_qr\u001b[1;34m(ctx, A, Q)\u001b[0m\n\u001b[0;32m    482\u001b[0m its \u001b[38;5;241m+\u001b[39m\u001b[38;5;241m=\u001b[39m \u001b[38;5;241m1\u001b[39m\n\u001b[0;32m    483\u001b[0m totalits \u001b[38;5;241m+\u001b[39m\u001b[38;5;241m=\u001b[39m \u001b[38;5;241m1\u001b[39m\n\u001b[1;32m--> 485\u001b[0m \u001b[43mqr_step\u001b[49m\u001b[43m(\u001b[49m\u001b[43mctx\u001b[49m\u001b[43m,\u001b[49m\u001b[43m \u001b[49m\u001b[43mn0\u001b[49m\u001b[43m,\u001b[49m\u001b[43m \u001b[49m\u001b[43mn1\u001b[49m\u001b[43m,\u001b[49m\u001b[43m \u001b[49m\u001b[43mA\u001b[49m\u001b[43m,\u001b[49m\u001b[43m \u001b[49m\u001b[43mQ\u001b[49m\u001b[43m,\u001b[49m\u001b[43m \u001b[49m\u001b[43mshift\u001b[49m\u001b[43m)\u001b[49m\n\u001b[0;32m    487\u001b[0m \u001b[38;5;28;01mif\u001b[39;00m its \u001b[38;5;241m>\u001b[39m maxits:\n\u001b[0;32m    488\u001b[0m     \u001b[38;5;28;01mraise\u001b[39;00m \u001b[38;5;167;01mRuntimeError\u001b[39;00m(\u001b[38;5;124m\"\u001b[39m\u001b[38;5;124mqr: failed to converge after \u001b[39m\u001b[38;5;132;01m%d\u001b[39;00m\u001b[38;5;124m steps\u001b[39m\u001b[38;5;124m\"\u001b[39m \u001b[38;5;241m%\u001b[39m its)\n",
      "File \u001b[1;32m~\\AppData\\Local\\Packages\\PythonSoftwareFoundation.Python.3.12_qbz5n2kfra8p0\\LocalCache\\local-packages\\Python312\\site-packages\\mpmath\\matrices\\eigen.py:379\u001b[0m, in \u001b[0;36mqr_step\u001b[1;34m(ctx, n0, n1, A, Q, shift)\u001b[0m\n\u001b[0;32m    377\u001b[0m y \u001b[38;5;241m=\u001b[39m Q[k,j\u001b[38;5;241m+\u001b[39m\u001b[38;5;241m2\u001b[39m]\n\u001b[0;32m    378\u001b[0m Q[k,j\u001b[38;5;241m+\u001b[39m\u001b[38;5;241m1\u001b[39m] \u001b[38;5;241m=\u001b[39m c \u001b[38;5;241m*\u001b[39m x \u001b[38;5;241m+\u001b[39m s \u001b[38;5;241m*\u001b[39m y\n\u001b[1;32m--> 379\u001b[0m Q[k,j\u001b[38;5;241m+\u001b[39m\u001b[38;5;241m2\u001b[39m] \u001b[38;5;241m=\u001b[39m \u001b[43mcc\u001b[49m\u001b[43m \u001b[49m\u001b[38;5;241;43m*\u001b[39;49m\u001b[43m \u001b[49m\u001b[43my\u001b[49m \u001b[38;5;241m-\u001b[39m cs \u001b[38;5;241m*\u001b[39m x\n",
      "File \u001b[1;32m<string>:7\u001b[0m, in \u001b[0;36m__mul__\u001b[1;34m(self, other)\u001b[0m\n",
      "File \u001b[1;32m~\\AppData\\Local\\Packages\\PythonSoftwareFoundation.Python.3.12_qbz5n2kfra8p0\\LocalCache\\local-packages\\Python312\\site-packages\\mpmath\\libmp\\libmpf.py:894\u001b[0m, in \u001b[0;36mpython_mpf_mul\u001b[1;34m(s, t, prec, rnd)\u001b[0m\n\u001b[0;32m    892\u001b[0m bc \u001b[38;5;241m+\u001b[39m\u001b[38;5;241m=\u001b[39m \u001b[38;5;28mint\u001b[39m(man\u001b[38;5;241m>>\u001b[39mbc)\n\u001b[0;32m    893\u001b[0m \u001b[38;5;28;01mif\u001b[39;00m prec:\n\u001b[1;32m--> 894\u001b[0m     \u001b[38;5;28;01mreturn\u001b[39;00m \u001b[43mnormalize1\u001b[49m\u001b[43m(\u001b[49m\u001b[43msign\u001b[49m\u001b[43m,\u001b[49m\u001b[43m \u001b[49m\u001b[43mman\u001b[49m\u001b[43m,\u001b[49m\u001b[43m \u001b[49m\u001b[43msexp\u001b[49m\u001b[38;5;241;43m+\u001b[39;49m\u001b[43mtexp\u001b[49m\u001b[43m,\u001b[49m\u001b[43m \u001b[49m\u001b[43mbc\u001b[49m\u001b[43m,\u001b[49m\u001b[43m \u001b[49m\u001b[43mprec\u001b[49m\u001b[43m,\u001b[49m\u001b[43m \u001b[49m\u001b[43mrnd\u001b[49m\u001b[43m)\u001b[49m\n\u001b[0;32m    895\u001b[0m \u001b[38;5;28;01melse\u001b[39;00m:\n\u001b[0;32m    896\u001b[0m     \u001b[38;5;28;01mreturn\u001b[39;00m (sign, man, sexp\u001b[38;5;241m+\u001b[39mtexp, bc)\n",
      "File \u001b[1;32m~\\AppData\\Local\\Packages\\PythonSoftwareFoundation.Python.3.12_qbz5n2kfra8p0\\LocalCache\\local-packages\\Python312\\site-packages\\mpmath\\libmp\\libmpf.py:208\u001b[0m, in \u001b[0;36m_normalize1\u001b[1;34m(sign, man, exp, bc, prec, rnd)\u001b[0m\n\u001b[0;32m    205\u001b[0m         bc \u001b[38;5;241m=\u001b[39m \u001b[38;5;241m1\u001b[39m\n\u001b[0;32m    206\u001b[0m     \u001b[38;5;28;01mreturn\u001b[39;00m sign, man, exp, bc\n\u001b[1;32m--> 208\u001b[0m \u001b[38;5;28;01mdef\u001b[39;00m\u001b[38;5;250m \u001b[39m\u001b[38;5;21m_normalize1\u001b[39m(sign, man, exp, bc, prec, rnd):\n\u001b[0;32m    209\u001b[0m \u001b[38;5;250m    \u001b[39m\u001b[38;5;124;03m\"\"\"same as normalize, but with the added condition that\u001b[39;00m\n\u001b[0;32m    210\u001b[0m \u001b[38;5;124;03m       man is odd or zero\u001b[39;00m\n\u001b[0;32m    211\u001b[0m \u001b[38;5;124;03m    \"\"\"\u001b[39;00m\n\u001b[0;32m    212\u001b[0m     \u001b[38;5;28;01mif\u001b[39;00m \u001b[38;5;129;01mnot\u001b[39;00m man:\n",
      "\u001b[1;31mKeyboardInterrupt\u001b[0m: "
     ]
    }
   ],
   "source": [
    "params=[]\n",
    "N=[]\n",
    "E=[]\n",
    "A=[]\n",
    "\n",
    "for i in range(200):\n",
    "    print(i)\n",
    "\n",
    "    params.append(np.abs(np.array([mp.mpf(400),mp.mpf(1),mp.mpf(0.02)])*np.random.normal(1,1,3)))\n",
    "\n",
    "    theparams=np.array(params).transpose()\n",
    "\n",
    "    subspace=Subspace(len(params))\n",
    "\n",
    "    subspace.set_N_func(N_func)\n",
    "    subspace.set_H_func(H_func)\n",
    "\n",
    "    subspace.set_params(theparams)\n",
    "\n",
    "    subspace.make_N_mat()\n",
    "    subspace.make_H_mat()\n",
    "    subspace.find_N_eigens()\n",
    "    subspace.make_Y_mat()\n",
    "    subspace.make_invs_sqrt_beta_mats()\n",
    "    subspace.make_P_mats()\n",
    "    subspace.find_P_eigens()\n",
    "    subspace.find_energy_levels()\n",
    "    subspace.find_energy_eigenstates()\n",
    "\n",
    "    E.append(subspace.energy_levels[0])\n",
    "    N.append(subspace.dim)\n",
    "    A.append(subspace.energy_eigenstates[0])\n"
   ]
  },
  {
   "cell_type": "code",
   "execution_count": 14,
   "metadata": {},
   "outputs": [
    {
     "data": {
      "image/png": "[encoded data removed]",
      "text/plain": [
       "<Figure size 640x480 with 1 Axes>"
      ]
     },
     "metadata": {},
     "output_type": "display_data"
    }
   ],
   "source": [
    "import matplotlib.pyplot as plt\n",
    "plt.scatter(N,E)\n",
    "plt.xlabel(\"Number of Basis States\")\n",
    "plt.ylabel(\"Ground State Energy\")\n",
    "plt.savefig(\"../figures/groundstatehighpres.png\",dpi=600)"
   ]
  },
  {
   "cell_type": "code",
   "execution_count": 6,
   "metadata": {},
   "outputs": [
    {
     "name": "stdout",
     "output_type": "stream",
     "text": [
      "-402.6373009913886257351597819437019099429777068036062416025869461210506780080559801186655288913891063\n"
     ]
    }
   ],
   "source": [
    "print(E[-1])"
   ]
  },
  {
   "cell_type": "code",
   "execution_count": 7,
   "metadata": {},
   "outputs": [],
   "source": [
    "def term(ai,bi,ci,aj,bj,cj):\n",
    "    Ai=2*np.real(ai)+2*np.real(bi)\n",
    "    Bi=2*np.real(ai)+2*np.real(ci)\n",
    "    Ci=2*np.real(bi)+2*np.real(ci)\n",
    "    Aj=2*np.real(aj)+2*np.real(bj)\n",
    "    Bj=2*np.real(aj)+2*np.real(cj)\n",
    "    Cj=2*np.real(bj)+2*np.real(cj)\n",
    "\n",
    "    return (\n",
    "        np.sqrt(Ai*Aj)/(np.conjugate(ai+bi)+aj+bj)\n",
    "        *np.sqrt(Bi*Bj)/(np.conjugate(ai+bi)+aj+bj)\n",
    "        *np.sqrt(Ci*Cj)/(np.conjugate(ai+bi)+aj+bj)\n",
    "        *Ai*Bi*Ci/np.sqrt( Ai**2 * (Bi + Ci) + Bi**2 * (Ai + Ci) + Ci**2 * (Ai + Bi) + Ai*Bi*Ci)\n",
    "        *Aj*Bj*Cj/np.sqrt( Aj**2 * (Bj + Cj) + Bj**2 * (Aj + Cj) + Cj**2 * (Aj + Bj) + Aj*Bj*Cj)\n",
    "    )"
   ]
  },
  {
   "cell_type": "code",
   "execution_count": 8,
   "metadata": {},
   "outputs": [],
   "source": [
    "def delta(Amplitudes,params):\n",
    "    ais, ajs=np.meshgrid(params[0],params[0])\n",
    "    bis, bjs=np.meshgrid(params[1],params[1])\n",
    "    cis, cjs=np.meshgrid(params[2],params[2])\n",
    "    Ampis,Ampjs=np.meshgrid(Amplitudes,Amplitudes)\n",
    "    terms=term(ais,bis,cis,ajs,bjs,cjs)\n",
    "    sum=np.sum(np.conjugate(Ampis)*Ampjs*terms)\n",
    "    return sum/(4*np.pi)"
   ]
  },
  {
   "cell_type": "code",
   "execution_count": 9,
   "metadata": {},
   "outputs": [
    {
     "data": {
      "text/plain": [
       "(3, 89)"
      ]
     },
     "execution_count": 9,
     "metadata": {},
     "output_type": "execute_result"
    }
   ],
   "source": [
    "np.array(params).transpose().shape"
   ]
  },
  {
   "cell_type": "code",
   "execution_count": 10,
   "metadata": {},
   "outputs": [
    {
     "name": "stdout",
     "output_type": "stream",
     "text": [
      "0\n",
      "1\n",
      "2\n",
      "3\n",
      "4\n",
      "5\n",
      "6\n",
      "7\n",
      "8\n",
      "9\n",
      "10\n",
      "11\n",
      "12\n",
      "13\n",
      "14\n",
      "15\n",
      "16\n",
      "17\n",
      "18\n",
      "19\n",
      "20\n",
      "21\n",
      "22\n",
      "23\n",
      "24\n",
      "25\n",
      "26\n",
      "27\n",
      "28\n",
      "29\n",
      "30\n",
      "31\n",
      "32\n",
      "33\n",
      "34\n",
      "35\n",
      "36\n",
      "37\n",
      "38\n",
      "39\n",
      "40\n",
      "41\n",
      "42\n",
      "43\n",
      "44\n",
      "45\n",
      "46\n",
      "47\n",
      "48\n",
      "49\n",
      "50\n",
      "51\n",
      "52\n",
      "53\n",
      "54\n",
      "55\n",
      "56\n",
      "57\n",
      "58\n",
      "59\n",
      "60\n",
      "61\n",
      "62\n",
      "63\n",
      "64\n",
      "65\n",
      "66\n",
      "67\n",
      "68\n",
      "69\n",
      "70\n",
      "71\n",
      "72\n",
      "73\n",
      "74\n",
      "75\n",
      "76\n",
      "77\n",
      "78\n",
      "79\n",
      "80\n",
      "81\n",
      "82\n",
      "83\n",
      "84\n",
      "85\n",
      "86\n",
      "87\n"
     ]
    }
   ],
   "source": [
    "D=[]\n",
    "for i in range(len(N)):\n",
    "    print(i)\n",
    "    D.append(delta(A[i],np.array(params).transpose()[:,:i+1]))"
   ]
  },
  {
   "cell_type": "code",
   "execution_count": 32,
   "metadata": {},
   "outputs": [
    {
     "data": {
      "text/plain": [
       "Text(0, 0.5, 'delta funciton expectation')"
      ]
     },
     "execution_count": 32,
     "metadata": {},
     "output_type": "execute_result"
    },
    {
     "data": {
      "image/png": "[encoded data removed]",
      "text/plain": [
       "<Figure size 640x480 with 1 Axes>"
      ]
     },
     "metadata": {},
     "output_type": "display_data"
    }
   ],
   "source": [
    "plt.scatter(N,D)\n",
    "plt.xlabel(\"Number of Basis States\")\n",
    "plt.ylabel('delta funciton expectation')\n",
    "#plt.savefig(\"../figures/groundstatehighpres.png\",dpi=600)"
   ]
  },
  {
   "cell_type": "code",
   "execution_count": 57,
   "metadata": {},
   "outputs": [
    {
     "name": "stdout",
     "output_type": "stream",
     "text": [
      "0.3159037392414243255777200035604725777298988788863860810441293719980512939527656932671000640553687526\n"
     ]
    }
   ],
   "source": [
    "print(D[-1])"
   ]
  },
  {
   "cell_type": "code",
   "execution_count": 64,
   "metadata": {},
   "outputs": [],
   "source": [
    "alpha=mp.mpf(cnst.alpha)\n",
    "\n",
    "g2=mp.mpf(2)\n",
    "\n",
    "g3=mp.mpf(2)\n",
    "\n",
    "Hartree=mp.mpf(27.211386245981)"
   ]
  },
  {
   "cell_type": "code",
   "execution_count": 65,
   "metadata": {},
   "outputs": [],
   "source": [
    "MHz_conversion_factor=mp.mpf(6.57968392061)*(mp.mpf(10)**mp.mpf(9))\n",
    "def HFS(expdelta):\n",
    "    prefactor=(\n",
    "        (2*np.pi/(3))\n",
    "        *(four_pi_epsilon0*hbar**4/(e**2))\n",
    "        *alpha**2\n",
    "        *(g2*g3/(m2*m3))\n",
    "        )*MHz_conversion_factor\n",
    "    return prefactor*expdelta"
   ]
  },
  {
   "cell_type": "code",
   "execution_count": null,
   "metadata": {},
   "outputs": [
    {
     "data": {
      "text/plain": [
       "mpf('4484.61474416616189621171731450894588597762529888499687056291136367765337883210714901862284332019797314')"
      ]
     },
     "execution_count": 66,
     "metadata": {},
     "output_type": "execute_result"
    }
   ],
   "source": [
    "print(HFS(D[-1]))"
   ]
  },
  {
   "cell_type": "code",
   "execution_count": null,
   "metadata": {},
   "outputs": [],
   "source": []
  }
 ],
 "metadata": {
  "kernelspec": {
   "display_name": "Python 3",
   "language": "python",
   "name": "python3"
  },
  "language_info": {
   "codemirror_mode": {
    "name": "ipython",
    "version": 3
   },
   "file_extension": ".py",
   "mimetype": "text/x-python",
   "name": "python",
   "nbconvert_exporter": "python",
   "pygments_lexer": "ipython3",
   "version": "3.12.9"
  }
 },
 "nbformat": 4,
 "nbformat_minor": 2
}
