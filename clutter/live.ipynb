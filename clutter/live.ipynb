{
 "cells": [
  {
   "cell_type": "code",
   "execution_count": 1,
   "metadata": {},
   "outputs": [],
   "source": [
    "from exponential import *\n",
    "from scipy.optimize import minimize"
   ]
  },
  {
   "cell_type": "code",
   "execution_count": 2,
   "metadata": {},
   "outputs": [],
   "source": [
    "params=np.array([[1,0],[1,1],[0,1]])*mp.mpf(1)"
   ]
  },
  {
   "cell_type": "code",
   "execution_count": 3,
   "metadata": {},
   "outputs": [
    {
     "data": {
      "text/plain": [
       "array([[mpf('1.0'), mpf('0.0')],\n",
       "       [mpf('1.0'), mpf('1.0')],\n",
       "       [mpf('0.0'), mpf('1.0')]], dtype=object)"
      ]
     },
     "execution_count": 3,
     "metadata": {},
     "output_type": "execute_result"
    }
   ],
   "source": [
    "params"
   ]
  },
  {
   "cell_type": "code",
   "execution_count": null,
   "metadata": {},
   "outputs": [],
   "source": []
  },
  {
   "cell_type": "code",
   "execution_count": 4,
   "metadata": {},
   "outputs": [],
   "source": [
    "oldsubspace=Subspace(params.shape[1])\n",
    "oldsubspace.set_N_func(N_func)\n",
    "oldsubspace.set_H_func(H_func)\n",
    "oldsubspace.set_params(params)\n",
    "oldsubspace.make_N_mat()\n",
    "oldsubspace.find_N_eigens()"
   ]
  },
  {
   "cell_type": "code",
   "execution_count": 5,
   "metadata": {},
   "outputs": [],
   "source": [
    "def f(x):\n",
    "    newparams=np.append(params,np.expand_dims(np.array(x),1)*mp.mpf(1),axis=1)\n",
    "    subspace=Subspace(newparams.shape[1])\n",
    "\n",
    "    subspace.set_N_func(N_func)\n",
    "    subspace.set_H_func(H_func)\n",
    "\n",
    "    subspace.set_params(newparams)\n",
    "\n",
    "    subspace.make_N_mat()\n",
    "    subspace.make_H_mat()\n",
    "    subspace.find_N_eigens()\n",
    "    subspace.make_Y_mat()\n",
    "    subspace.make_invs_sqrt_beta_mats()\n",
    "    subspace.make_P_mats()\n",
    "    subspace.find_P_eigens()\n",
    "    subspace.find_energy_eigenstates()\n",
    "    novel_contribution=np.sum(\n",
    "        subspace.energy_eigenstates[0]**2\n",
    "        *(\n",
    "            np.array(subspace.N_mat.tolist())[:,-1]\n",
    "            -np.sum(\n",
    "                np.array((oldsubspace.N_eigenvectors.T*subspace.N_mat[:subspace.dim-1,:subspace.dim]).tolist()).transpose()*(\n",
    "                np.array((oldsubspace.N_eigenvectors.T*subspace.N_mat[:subspace.dim-1,subspace.dim-1]).tolist()).flatten()/\n",
    "                np.array(oldsubspace.N_eigenvalues.tolist()).flatten())\n",
    "            ,axis=1)\n",
    "        )**2\n",
    "    )\n",
    "    return -novel_contribution\n"
   ]
  },
  {
   "cell_type": "code",
   "execution_count": 6,
   "metadata": {},
   "outputs": [],
   "source": [
    "res=minimize(f,x0=[400,1,0.03],method='Nelder-Mead')"
   ]
  },
  {
   "cell_type": "code",
   "execution_count": 7,
   "metadata": {},
   "outputs": [
    {
     "name": "stdout",
     "output_type": "stream",
     "text": [
      "       message: Maximum number of function evaluations has been exceeded.\n",
      "       success: False\n",
      "        status: 1\n",
      "           fun: -0.9999999773025848\n",
      "             x: [ 4.769e+02  1.969e+01 -4.078e-01]\n",
      "           nit: 304\n",
      "          nfev: 600\n",
      " final_simplex: (array([[ 4.769e+02,  1.969e+01, -4.078e-01],\n",
      "                       [ 4.769e+02,  1.969e+01, -4.078e-01],\n",
      "                       [ 4.769e+02,  1.969e+01, -4.078e-01],\n",
      "                       [ 4.769e+02,  1.969e+01, -4.078e-01]]), array([-1.000e+00, -1.000e+00, -1.000e+00, -1.000e+00]))\n"
     ]
    }
   ],
   "source": [
    "print(res)"
   ]
  },
  {
   "cell_type": "code",
   "execution_count": 8,
   "metadata": {},
   "outputs": [
    {
     "data": {
      "text/plain": [
       "mpf('-0.008545898574119371088807500914008856882425244075185964177945118310483531494231508005086232582892524755208')"
      ]
     },
     "execution_count": 8,
     "metadata": {},
     "output_type": "execute_result"
    }
   ],
   "source": [
    "f([1,0,1])"
   ]
  },
  {
   "cell_type": "code",
   "execution_count": 3,
   "metadata": {},
   "outputs": [
    {
     "data": {
      "text/plain": [
       "mpf('4463.136139178169810626790476251100912367701552904608559671732006767383198283869486272749312350842100464')"
      ]
     },
     "execution_count": 3,
     "metadata": {},
     "output_type": "execute_result"
    }
   ],
   "source": [
    "HFS(mp.mpf('0.3136608851919281320068843694338101863701210808238615211054535411239863044114026125534377762279859137'))"
   ]
  },
  {
   "cell_type": "code",
   "execution_count": 2,
   "metadata": {},
   "outputs": [],
   "source": [
    "import numpy as np\n",
    "params=np.load('params.npy',allow_pickle=True)[:,:1]"
   ]
  },
  {
   "cell_type": "code",
   "execution_count": 3,
   "metadata": {},
   "outputs": [],
   "source": [
    "np.save('params.npy',params,allow_pickle=True)"
   ]
  },
  {
   "cell_type": "code",
   "execution_count": null,
   "metadata": {},
   "outputs": [],
   "source": []
  }
 ],
 "metadata": {
  "kernelspec": {
   "display_name": "Python 3",
   "language": "python",
   "name": "python3"
  },
  "language_info": {
   "codemirror_mode": {
    "name": "ipython",
    "version": 3
   },
   "file_extension": ".py",
   "mimetype": "text/x-python",
   "name": "python",
   "nbconvert_exporter": "python",
   "pygments_lexer": "ipython3",
   "version": "3.12.9"
  }
 },
 "nbformat": 4,
 "nbformat_minor": 2
}
