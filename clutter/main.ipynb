{
 "cells": [
  {
   "cell_type": "code",
   "execution_count": 1,
   "metadata": {},
   "outputs": [],
   "source": [
    "from exponential import *\n",
    "from scipy.optimize import minimize"
   ]
  },
  {
   "cell_type": "code",
   "execution_count": 2,
   "metadata": {},
   "outputs": [],
   "source": [
    "def f(x):\n",
    "    theseparams=x.reshape(3,-1,order='F')\n",
    "\n",
    "    for i in range(theseparams.shape[1]):\n",
    "        a,b,c=theseparams[:,i].flatten()\n",
    "        if a<0 or b<0 or c<0 or (a==0 and b==0) or (a==0 and c==0) or (b==0 and c==0):\n",
    "            return 1000\n",
    "        \n",
    "    subspace=Subspace(theseparams.shape[1])\n",
    "\n",
    "    subspace.set_N_func(N_func)\n",
    "    subspace.set_H_func(H_func)\n",
    "\n",
    "    subspace.set_params(theseparams)\n",
    "\n",
    "    subspace.make_N_mat()\n",
    "    subspace.make_H_mat()\n",
    "    subspace.find_N_eigens()\n",
    "    subspace.make_Y_mat()\n",
    "    subspace.make_invs_sqrt_beta_mats()\n",
    "    subspace.make_P_mats()\n",
    "    subspace.find_P_eigens()\n",
    "    subspace.find_energy_levels()\n",
    "    return subspace.energy_levels[0]\n",
    "    "
   ]
  },
  {
   "cell_type": "code",
   "execution_count": 3,
   "metadata": {},
   "outputs": [],
   "source": [
    "x0=np.array([\n",
    "    400,1,0.02,\n",
    "    206,1,1,\n",
    "    1,1,0,\n",
    "    1,0,1,\n",
    "    0,1,1\n",
    "])*mp.mpf(1)"
   ]
  },
  {
   "cell_type": "code",
   "execution_count": 4,
   "metadata": {},
   "outputs": [],
   "source": [
    "cons = [\n",
    "    {'type':'eq', 'fun': lambda x: x[3]-206*x[4]},\n",
    "    {'type':'eq', 'fun': lambda x: x[8]},\n",
    "    {'type':'eq', 'fun': lambda x: x[10]},\n",
    "    {'type':'eq', 'fun': lambda x: x[12]}\n",
    "    ]"
   ]
  },
  {
   "cell_type": "code",
   "execution_count": 5,
   "metadata": {},
   "outputs": [],
   "source": [
    "res1=minimize(f,x0=x0,method='SLSQP',constraints=cons)"
   ]
  },
  {
   "cell_type": "code",
   "execution_count": 6,
   "metadata": {},
   "outputs": [],
   "source": [
    "res2=minimize(f,x0=x0,method='Nelder-Mead')"
   ]
  },
  {
   "cell_type": "code",
   "execution_count": 7,
   "metadata": {},
   "outputs": [
    {
     "data": {
      "text/plain": [
       "array([4.02137367e+02, 9.78340676e-01, 2.15607954e-02, 2.09959269e+02,\n",
       "       8.67695006e-01, 9.90061508e-01, 1.00777249e+00, 1.00229775e+00,\n",
       "       8.00720524e-10, 1.00909321e+00, 1.14970339e-04, 1.02281860e+00,\n",
       "       1.32462936e-04, 1.01943582e+00, 9.81314246e-01])"
      ]
     },
     "execution_count": 7,
     "metadata": {},
     "output_type": "execute_result"
    }
   ],
   "source": [
    "res2.x"
   ]
  },
  {
   "cell_type": "code",
   "execution_count": 8,
   "metadata": {},
   "outputs": [
    {
     "data": {
      "text/plain": [
       "array([4.01821516e+02, 9.85105279e-01, 2.95164609e-02, 2.06004535e+02,\n",
       "       1.00002201e+00, 5.65115571e-04, 9.99993161e-01, 9.99993227e-01,\n",
       "       0.00000000e+00, 1.00002044e+00, 0.00000000e+00, 1.00000951e+00,\n",
       "       0.00000000e+00, 9.99982741e-01, 1.00002336e+00])"
      ]
     },
     "execution_count": 8,
     "metadata": {},
     "output_type": "execute_result"
    }
   ],
   "source": [
    "res1.x"
   ]
  },
  {
   "cell_type": "code",
   "execution_count": 9,
   "metadata": {},
   "outputs": [],
   "source": [
    "x=np.append(res1.x,res2.x)"
   ]
  },
  {
   "cell_type": "code",
   "execution_count": 10,
   "metadata": {},
   "outputs": [
    {
     "name": "stdout",
     "output_type": "stream",
     "text": [
      "[4.01821516e+02 9.85105279e-01 2.95164609e-02 2.06004535e+02\n",
      " 1.00002201e+00 5.65115571e-04 9.99993161e-01 9.99993227e-01\n",
      " 0.00000000e+00 1.00002044e+00 0.00000000e+00 1.00000951e+00\n",
      " 0.00000000e+00 9.99982741e-01 1.00002336e+00 4.02137367e+02\n",
      " 9.78340676e-01 2.15607954e-02 2.09959269e+02 8.67695006e-01\n",
      " 9.90061508e-01 1.00777249e+00 1.00229775e+00 8.00720524e-10\n",
      " 1.00909321e+00 1.14970339e-04 1.02281860e+00 1.32462936e-04\n",
      " 1.01943582e+00 9.81314246e-01]\n"
     ]
    }
   ],
   "source": [
    "print(x)"
   ]
  },
  {
   "cell_type": "code",
   "execution_count": 14,
   "metadata": {},
   "outputs": [],
   "source": [
    "params=x.reshape(3,-1,order='F')*mp.mpf(1)"
   ]
  },
  {
   "cell_type": "code",
   "execution_count": 15,
   "metadata": {},
   "outputs": [],
   "source": [
    "np.save(\"params\",params,allow_pickle=True)"
   ]
  },
  {
   "cell_type": "code",
   "execution_count": null,
   "metadata": {},
   "outputs": [],
   "source": []
  }
 ],
 "metadata": {
  "kernelspec": {
   "display_name": "Python 3",
   "language": "python",
   "name": "python3"
  },
  "language_info": {
   "codemirror_mode": {
    "name": "ipython",
    "version": 3
   },
   "file_extension": ".py",
   "mimetype": "text/x-python",
   "name": "python",
   "nbconvert_exporter": "python",
   "pygments_lexer": "ipython3",
   "version": "3.12.9"
  }
 },
 "nbformat": 4,
 "nbformat_minor": 2
}
